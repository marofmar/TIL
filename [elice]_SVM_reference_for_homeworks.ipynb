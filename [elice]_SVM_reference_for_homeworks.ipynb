{
 "cells": [
  {
   "cell_type": "code",
   "execution_count": 1,
   "metadata": {
    "collapsed": true
   },
   "outputs": [],
   "source": [
    "# tools"
   ]
  },
  {
   "cell_type": "code",
   "execution_count": 2,
   "metadata": {},
   "outputs": [
    {
     "ename": "ModuleNotFoundError",
     "evalue": "No module named 'elice_utils'",
     "output_type": "error",
     "traceback": [
      "\u001b[0;31m---------------------------------------------------------------------------\u001b[0m",
      "\u001b[0;31mModuleNotFoundError\u001b[0m                       Traceback (most recent call last)",
      "\u001b[0;32m<ipython-input-2-efcd3cd6c038>\u001b[0m in \u001b[0;36m<module>\u001b[0;34m()\u001b[0m\n\u001b[1;32m      4\u001b[0m \u001b[0;32mimport\u001b[0m \u001b[0mnumpy\u001b[0m \u001b[0;32mas\u001b[0m \u001b[0mnp\u001b[0m\u001b[0;34m\u001b[0m\u001b[0m\n\u001b[1;32m      5\u001b[0m \u001b[0;32mfrom\u001b[0m \u001b[0msklearn\u001b[0m\u001b[0;34m.\u001b[0m\u001b[0msvm\u001b[0m \u001b[0;32mimport\u001b[0m \u001b[0mSVC\u001b[0m  \u001b[0;31m# SVC stands for : Support Vector Classification\u001b[0m\u001b[0;34m\u001b[0m\u001b[0m\n\u001b[0;32m----> 6\u001b[0;31m \u001b[0;32mimport\u001b[0m \u001b[0melice_utils\u001b[0m\u001b[0;34m\u001b[0m\u001b[0m\n\u001b[0m\u001b[1;32m      7\u001b[0m \u001b[0;34m\u001b[0m\u001b[0m\n\u001b[1;32m      8\u001b[0m \u001b[0;34m\u001b[0m\u001b[0m\n",
      "\u001b[0;31mModuleNotFoundError\u001b[0m: No module named 'elice_utils'"
     ]
    }
   ],
   "source": [
    "import matplotlib\n",
    "matplotlib.use('Agg')\n",
    "import matplotlib.pyplot as plt\n",
    "import numpy as np\n",
    "from sklearn.svm import SVC  # SVC stands for : Support Vector Classification\n",
    "import elice_utils\n",
    "\n",
    "\n",
    "# Functions linear_func1, linear_func2, and generate_data is used to generate random datapoints. You do not need to change this function\n",
    "def linear_func1(x):\n",
    "    l = len(x)\n",
    "    return (3*x + 100 + 30 * np.random.randn(l))\n",
    "\n",
    "def linear_func2(x):\n",
    "    l = len(x)\n",
    "    return (3*x - 100 + 30 * np.random.randn(l))\n",
    "\n",
    "def generate_data(n):\n",
    "    np.random.seed(328183)\n",
    "    x1_1 = (np.random.random(int(0.5 * n)) - 0.5) * 100\n",
    "    x2_1 = linear_func1(x1_1)\n",
    "    x1_2 = (np.random.random(int(0.5 * n)) - 0.5) * 100\n",
    "    x2_2 = linear_func2(x1_2)\n",
    "    y_1 = np.ones(int(0.5 * n))\n",
    "    y_2 = -1 * np.ones(int(0.5 * n))\n",
    "\n",
    "    x1 = np.concatenate((x1_1, x1_2))\n",
    "    x2 = np.concatenate((x2_1, x2_2))\n",
    "    y = np.concatenate((y_1, y_2))\n",
    "    X = np.array(list(zip(x1, x2)))\n",
    "\n",
    "    return (X, y)\n",
    "\n",
    "def svm(X, y):\n",
    "    clf = SVC(C=np.inf, kernel='linear')\n",
    "    clf.fit(X, y)\n",
    "    return (clf)\n",
    "\n",
    "def draw(X, y, clf):\n",
    "    filename = \"simplest_svm.png\"\n",
    "\n",
    "    ###These are to make the figure clearer. You don't need to change this part.\n",
    "    plt.gca().spines['top'].set_visible(False)\n",
    "    plt.gca().spines['right'].set_visible(False)\n",
    "    plt.gca().spines['bottom'].set_color('yellow') # fancy gca, is for drawing a line box? \n",
    "    plt.gca().spines['left'].set_color('green') # fancy name, spine, just y-axis line\n",
    "    plt.xlabel('x1', fontsize=20, color='red'); plt.ylabel('x2', fontsize=20, color='red') # x,y- axis large title X1 and X2\n",
    "    plt.tick_params(axis='x', colors='blue')    # x-axis value itself\n",
    "    plt.tick_params(axis='y', colors='blue')    # y-axis value itslef\n",
    "\n",
    "    x_min, x_max = X[:, 0].min() - 1, X[:, 0].max() + 1\n",
    "    y_min, y_max = X[:, 1].min() - 1, X[:, 1].max() + 1\n",
    "    #h = 0.5  # step size in the mesh\n",
    "    xx, yy = np.meshgrid(np.arange(x_min, x_max, 50), np.arange(y_min, y_max, 10)) # WTF?.... what does mesh step size do in thi model? \n",
    "    \n",
    "    Z = clf.predict(np.c_[xx.ravel(), yy.ravel()])\n",
    "    Z = Z.reshape(xx.shape)\n",
    "    plt.contour(xx, yy, Z, colors='black', alpha=0.6)\n",
    "    plt.scatter(X[:, 0], X[:, 1], c = ['pink' if yy == 1 else '#78A5A3' for yy in y], edgecolor='none', s=30)\n",
    "\n",
    "    plt.savefig(filename)\n",
    "    elice_utils.send_image(filename)\n",
    "\n",
    "    plt.close()\n",
    "\n",
    "if __name__ == '__main__':\n",
    "    X, y = generate_data(100)\n",
    "    clf = svm(X, y)\n",
    "    draw(X, y, clf) "
   ]
  },
  {
   "cell_type": "code",
   "execution_count": 3,
   "metadata": {},
   "outputs": [
    {
     "ename": "ModuleNotFoundError",
     "evalue": "No module named 'elice_utils'",
     "output_type": "error",
     "traceback": [
      "\u001b[0;31m---------------------------------------------------------------------------\u001b[0m",
      "\u001b[0;31mModuleNotFoundError\u001b[0m                       Traceback (most recent call last)",
      "\u001b[0;32m<ipython-input-3-3859a6deac43>\u001b[0m in \u001b[0;36m<module>\u001b[0;34m()\u001b[0m\n\u001b[1;32m      4\u001b[0m \u001b[0;32mimport\u001b[0m \u001b[0mnumpy\u001b[0m \u001b[0;32mas\u001b[0m \u001b[0mnp\u001b[0m\u001b[0;34m\u001b[0m\u001b[0m\n\u001b[1;32m      5\u001b[0m \u001b[0;32mfrom\u001b[0m \u001b[0msklearn\u001b[0m\u001b[0;34m.\u001b[0m\u001b[0msvm\u001b[0m \u001b[0;32mimport\u001b[0m \u001b[0mSVC\u001b[0m  \u001b[0;31m# SVC stands for : Support Vector Classification\u001b[0m\u001b[0;34m\u001b[0m\u001b[0m\n\u001b[0;32m----> 6\u001b[0;31m \u001b[0;32mimport\u001b[0m \u001b[0melice_utils\u001b[0m\u001b[0;34m\u001b[0m\u001b[0m\n\u001b[0m\u001b[1;32m      7\u001b[0m \u001b[0;34m\u001b[0m\u001b[0m\n\u001b[1;32m      8\u001b[0m \u001b[0;34m\u001b[0m\u001b[0m\n",
      "\u001b[0;31mModuleNotFoundError\u001b[0m: No module named 'elice_utils'"
     ]
    }
   ],
   "source": [
    "import matplotlib\n",
    "matplotlib.use('Agg')\n",
    "import matplotlib.pyplot as plt\n",
    "import numpy as np\n",
    "from sklearn.svm import SVC  # SVC stands for : Support Vector Classification\n",
    "import elice_utils\n",
    "\n",
    "\n",
    "# Functions linear_func1, linear_func2, and generate_data is used to generate random datapoints. You do not need to change this function\n",
    "def linear_func1(x):\n",
    "    l = len(x)\n",
    "    return (3*x + 100 + 30 * np.random.randn(l))\n",
    "\n",
    "def linear_func2(x):\n",
    "    l = len(x)\n",
    "    return (3*x - 100 + 30 * np.random.randn(l))\n",
    "\n",
    "def generate_data(n):\n",
    "    np.random.seed(328183)\n",
    "    x1_1 = (np.random.random(int(0.5 * n)) - 0.5) * 100\n",
    "    x2_1 = linear_func1(x1_1)\n",
    "    x1_2 = (np.random.random(int(0.5 * n)) - 0.5) * 100\n",
    "    x2_2 = linear_func2(x1_2)\n",
    "    y_1 = np.ones(int(0.5 * n))\n",
    "    y_1[-1 * n//50:] = -1.\n",
    "    y_2 = -1 * np.ones(int(0.5 * n))\n",
    "    y_2[-1 * n//50:] = 1.\n",
    "\n",
    "    x1 = np.concatenate((x1_1, x1_2))\n",
    "    x2 = np.concatenate((x2_1, x2_2))\n",
    "    y = np.concatenate((y_1, y_2))\n",
    "    X = np.array(list(zip(x1, x2)))\n",
    "\n",
    "    return (X, y)\n",
    "\n",
    "def svm(X, y):\n",
    "    clf = SVC(C=0.1, kernel='linear')\n",
    "    clf.fit(X, y)\n",
    "    return (clf)\n",
    "\n",
    "def draw(X, y, clf):\n",
    "    filename = \"simplest_svm.png\"\n",
    "\n",
    "    ###These are to make the figure clearer. You don't need to change this part.\n",
    "    plt.gca().spines['top'].set_visible(False)\n",
    "    plt.gca().spines['right'].set_visible(False)\n",
    "    plt.gca().spines['bottom'].set_color('#999999')\n",
    "    plt.gca().spines['left'].set_color('#999999')\n",
    "    plt.xlabel('x1', fontsize=20, color='#555555'); plt.ylabel('x2', fontsize=20, color='#555555')\n",
    "    plt.tick_params(axis='x', colors='#777777')\n",
    "    plt.tick_params(axis='y', colors='#777777')    \n",
    "\n",
    "    x_min, x_max = X[:, 0].min() - 1, X[:, 0].max() + 1\n",
    "    y_min, y_max = X[:, 1].min() - 1, X[:, 1].max() + 1\n",
    "    h = 0.3  # step size in the mesh\n",
    "    xx, yy = np.meshgrid(np.arange(x_min, x_max, h), np.arange(y_min, y_max, h))\n",
    "    \n",
    "    Z = clf.predict(np.c_[xx.ravel(), yy.ravel()])\n",
    "    Z = Z.reshape(xx.shape)\n",
    "    plt.contour(xx, yy, Z, colors='#CE5A57', alpha=0.6)\n",
    "    plt.scatter(X[:, 0], X[:, 1], c = ['red' if yy == 1 else 'blue' for yy in y], edgecolor='none', s=30)\n",
    "\n",
    "    plt.savefig(filename)\n",
    "    elice_utils.send_image(filename)\n",
    "\n",
    "    plt.close()\n",
    "\n",
    "if __name__ == '__main__':\n",
    "    X, y = generate_data(100)\n",
    "    clf = svm(X, y)\n",
    "    draw(X, y, clf) "
   ]
  },
  {
   "cell_type": "code",
   "execution_count": 4,
   "metadata": {},
   "outputs": [
    {
     "ename": "ModuleNotFoundError",
     "evalue": "No module named 'elice_utils'",
     "output_type": "error",
     "traceback": [
      "\u001b[0;31m---------------------------------------------------------------------------\u001b[0m",
      "\u001b[0;31mModuleNotFoundError\u001b[0m                       Traceback (most recent call last)",
      "\u001b[0;32m<ipython-input-4-6bc791d0eb1f>\u001b[0m in \u001b[0;36m<module>\u001b[0;34m()\u001b[0m\n\u001b[1;32m      4\u001b[0m \u001b[0;32mimport\u001b[0m \u001b[0mnumpy\u001b[0m \u001b[0;32mas\u001b[0m \u001b[0mnp\u001b[0m\u001b[0;34m\u001b[0m\u001b[0m\n\u001b[1;32m      5\u001b[0m \u001b[0;32mfrom\u001b[0m \u001b[0msklearn\u001b[0m\u001b[0;34m.\u001b[0m\u001b[0msvm\u001b[0m \u001b[0;32mimport\u001b[0m \u001b[0mSVC\u001b[0m  \u001b[0;31m# SVC stands for : Support Vector Classification\u001b[0m\u001b[0;34m\u001b[0m\u001b[0m\n\u001b[0;32m----> 6\u001b[0;31m \u001b[0;32mimport\u001b[0m \u001b[0melice_utils\u001b[0m\u001b[0;34m\u001b[0m\u001b[0m\n\u001b[0m\u001b[1;32m      7\u001b[0m \u001b[0;34m\u001b[0m\u001b[0m\n\u001b[1;32m      8\u001b[0m \u001b[0;34m\u001b[0m\u001b[0m\n",
      "\u001b[0;31mModuleNotFoundError\u001b[0m: No module named 'elice_utils'"
     ]
    }
   ],
   "source": [
    "import matplotlib\n",
    "matplotlib.use('Agg')\n",
    "import matplotlib.pyplot as plt\n",
    "import numpy as np\n",
    "from sklearn.svm import SVC  # SVC stands for : Support Vector Classification\n",
    "import elice_utils\n",
    "\n",
    "\n",
    "# Functions linear_func1, linear_func2, and generate_data is used to generate random datapoints. You do not need to change this function\n",
    "def nonlinear_func1(x):\n",
    "    l = len(x)\n",
    "    return (0.1 * pow(x, 3) + 0.5 * pow(x, 2) + 0.5 * x + 1000 + 3000 * np.random.random(l))\n",
    "\n",
    "def nonlinear_func2(x):\n",
    "    l = len(x)\n",
    "    return (0.1 * pow(x, 3) + 0.2 * pow(x, 2) - 0.5 * x - 1000 - 3000 * np.random.random(l))\n",
    "\n",
    "def generate_data(n):\n",
    "    np.random.seed(32840091)\n",
    "\n",
    "    x1_1 = (np.random.random(int(0.5 * n)) - 0.5) * 100\n",
    "    x2_1 = nonlinear_func1(x1_1)\n",
    "    x1_2 = (np.random.random(int(0.5 * n)) - 0.5) * 100\n",
    "    x2_2 = nonlinear_func2(x1_2)\n",
    "    y_1 = np.ones(int(0.5 * n))\n",
    "    y_2 = -1 * np.ones(int(0.5 * n))\n",
    "\n",
    "    x1 = np.concatenate((x1_1, x1_2))\n",
    "    x2 = np.concatenate((x2_1, x2_2))\n",
    "    y = np.concatenate((y_1, y_2))\n",
    "    X = np.array(list(zip(x1, x2)))\n",
    "\n",
    "    return (X, y)\n",
    "\n",
    "def svm(X, y):\n",
    "    clf = SVC(kernel='rbf', C=np.inf, gamma=1e-8)\n",
    "    clf.fit(X, y)\n",
    "    return (clf)\n",
    "\n",
    "def draw(X, y, clf):\n",
    "    filename = \"nonlinear_svm.png\"\n",
    "\n",
    "    ###These are to make the figure clearer. You don't need to change this part.\n",
    "    plt.gca().spines['top'].set_visible(False)\n",
    "    plt.gca().spines['right'].set_visible(False)\n",
    "    plt.gca().spines['bottom'].set_color('#999999')\n",
    "    plt.gca().spines['left'].set_color('#999999')\n",
    "    plt.xlabel('x1', fontsize=20, color='#555555'); plt.ylabel('x2', fontsize=20, color='#555555')\n",
    "    plt.tick_params(axis='x', colors='#777777')\n",
    "    plt.tick_params(axis='y', colors='#777777')\n",
    "\n",
    "    x_min, x_max = X[:, 0].min() - 1, X[:, 0].max() + 1\n",
    "    y_min, y_max = X[:, 1].min() - 1, X[:, 1].max() + 1\n",
    "    h = 0.5  # step size in the mesh\n",
    "    xx, yy = np.meshgrid(np.arange(x_min, x_max, h), np.arange(y_min, y_max, h))\n",
    "    \n",
    "    Z = clf.predict(np.c_[xx.ravel(), yy.ravel()])\n",
    "    Z = Z.reshape(xx.shape)\n",
    "    plt.contour(xx, yy, Z, colors='#CE5A57', alpha=0.25)\n",
    "    plt.scatter(X[:, 0], X[:, 1], c = ['#444C5C' if yy == 1 else '#78A5A3' for yy in y], edgecolor='none', s=30)\n",
    "\n",
    "    plt.savefig(filename)\n",
    "    elice_utils.send_image(filename)\n",
    "\n",
    "    plt.close()\n",
    "\n",
    "if __name__ == '__main__':\n",
    "    X, y = generate_data(100)\n",
    "    clf = svm(X, y)\n",
    "    draw(X, y, clf) "
   ]
  },
  {
   "cell_type": "code",
   "execution_count": 5,
   "metadata": {
    "collapsed": true
   },
   "outputs": [],
   "source": [
    "# Logistics"
   ]
  },
  {
   "cell_type": "code",
   "execution_count": 6,
   "metadata": {},
   "outputs": [
    {
     "ename": "ModuleNotFoundError",
     "evalue": "No module named 'pandas'",
     "output_type": "error",
     "traceback": [
      "\u001b[0;31m---------------------------------------------------------------------------\u001b[0m",
      "\u001b[0;31mModuleNotFoundError\u001b[0m                       Traceback (most recent call last)",
      "\u001b[0;32m<ipython-input-6-b30d2346cd9b>\u001b[0m in \u001b[0;36m<module>\u001b[0;34m()\u001b[0m\n\u001b[1;32m      4\u001b[0m \u001b[0;32mimport\u001b[0m \u001b[0mnumpy\u001b[0m \u001b[0;32mas\u001b[0m \u001b[0mnp\u001b[0m\u001b[0;34m\u001b[0m\u001b[0m\n\u001b[1;32m      5\u001b[0m \u001b[0;32mfrom\u001b[0m \u001b[0msklearn\u001b[0m \u001b[0;32mimport\u001b[0m \u001b[0mlinear_model\u001b[0m\u001b[0;34m\u001b[0m\u001b[0m\n\u001b[0;32m----> 6\u001b[0;31m \u001b[0;32mimport\u001b[0m \u001b[0mpandas\u001b[0m \u001b[0;32mas\u001b[0m \u001b[0mpd\u001b[0m\u001b[0;34m\u001b[0m\u001b[0m\n\u001b[0m\u001b[1;32m      7\u001b[0m \u001b[0;32mimport\u001b[0m \u001b[0melice_utils\u001b[0m\u001b[0;34m\u001b[0m\u001b[0m\n\u001b[1;32m      8\u001b[0m \u001b[0;34m\u001b[0m\u001b[0m\n",
      "\u001b[0;31mModuleNotFoundError\u001b[0m: No module named 'pandas'"
     ]
    }
   ],
   "source": [
    "import matplotlib\n",
    "matplotlib.use('Agg')\n",
    "import matplotlib.pyplot as plt\n",
    "import numpy as np\n",
    "from sklearn import linear_model\n",
    "import pandas as pd\n",
    "import elice_utils\n",
    "\n",
    "\n",
    "def main():\n",
    "    data = pd.read_csv(\"./data/Default.csv\", header=0)\n",
    "    response_var = 1\n",
    "    y_vec = data.ix[:, response_var].as_matrix().squeeze()\n",
    "    x_vec = data.ix[:, 3].as_matrix().reshape(-1, 1) # make vertical\n",
    "\n",
    "    one_var_default(x_vec, y_vec)\n",
    "\n",
    "\n",
    "def one_var_default(x_vec, y_vec):\n",
    "    filename = \"default_logit_fig.png\"\n",
    "\n",
    "    regr_linear = linear_model.LinearRegression()\n",
    "    regr_linear.fit(x_vec, y_vec)\n",
    "\n",
    "    regr_logistic = linear_model.LogisticRegression()\n",
    "    regr_logistic.fit(x_vec, y_vec)\n",
    "\n",
    "    print(\"Independent variable: {}\".format(\"Balance\"))\n",
    "    print(\"Coefficients: {}\".format(regr_logistic.coef_))\n",
    "    print(\"Intercept: {}\".format(regr_logistic.intercept_))\n",
    "\n",
    "    x_minmax = np.arange(x_vec.min(), x_vec.max()).reshape(-1, 1)\n",
    "    plt.plot(x_vec, regr_linear.predict(x_vec), color='blue', linewidth=3)\n",
    "    plt.plot(x_minmax, regr_logistic.predict_proba(x_minmax)[:, 1], color='red', linewidth=3)\n",
    "    plt.scatter(x_vec, y_vec, color='black')\n",
    "\n",
    "    plt.xlim((x_vec.min(), x_vec.max()))\n",
    "\n",
    "    plt.savefig(filename)\n",
    "    elice_utils.send_image(filename)\n",
    "\n",
    "    plt.close()\n",
    "\n",
    "\n",
    "if __name__ == \"__main__\":\n",
    "    main()\n"
   ]
  },
  {
   "cell_type": "code",
   "execution_count": 7,
   "metadata": {},
   "outputs": [
    {
     "ename": "ModuleNotFoundError",
     "evalue": "No module named 'pandas'",
     "output_type": "error",
     "traceback": [
      "\u001b[0;31m---------------------------------------------------------------------------\u001b[0m",
      "\u001b[0;31mModuleNotFoundError\u001b[0m                       Traceback (most recent call last)",
      "\u001b[0;32m<ipython-input-7-63cc3830ef7b>\u001b[0m in \u001b[0;36m<module>\u001b[0;34m()\u001b[0m\n\u001b[1;32m      1\u001b[0m \u001b[0;32mfrom\u001b[0m \u001b[0msklearn\u001b[0m \u001b[0;32mimport\u001b[0m \u001b[0mlinear_model\u001b[0m\u001b[0;34m\u001b[0m\u001b[0m\n\u001b[0;32m----> 2\u001b[0;31m \u001b[0;32mimport\u001b[0m \u001b[0mpandas\u001b[0m \u001b[0;32mas\u001b[0m \u001b[0mpd\u001b[0m\u001b[0;34m\u001b[0m\u001b[0m\n\u001b[0m\u001b[1;32m      3\u001b[0m \u001b[0;32mfrom\u001b[0m \u001b[0msklearn\u001b[0m\u001b[0;34m.\u001b[0m\u001b[0mmodel_selection\u001b[0m \u001b[0;32mimport\u001b[0m \u001b[0mtrain_test_split\u001b[0m\u001b[0;34m\u001b[0m\u001b[0m\n\u001b[1;32m      4\u001b[0m \u001b[0;34m\u001b[0m\u001b[0m\n\u001b[1;32m      5\u001b[0m \u001b[0;34m\u001b[0m\u001b[0m\n",
      "\u001b[0;31mModuleNotFoundError\u001b[0m: No module named 'pandas'"
     ]
    }
   ],
   "source": [
    "from sklearn import linear_model\n",
    "import pandas as pd\n",
    "from sklearn.model_selection import train_test_split\n",
    "\n",
    "\n",
    "def main():\n",
    "    data = pd.read_csv(\"./data/Default.csv\", header=0)\n",
    "    response_var = 1\n",
    "    y_vec = data.ix[:, response_var].as_matrix().squeeze()\n",
    "    x_vec = data.ix[:, 3].as_matrix().reshape(-1, 1)\n",
    "\n",
    "    one_var_default_pred(x_vec, y_vec)\n",
    "\n",
    "\n",
    "def one_var_default_pred(x_vec, y_vec, rs = 120):\n",
    "    x_train, x_test, y_train, y_test = train_test_split(x_vec, y_vec, test_size=0.25, random_state = rs)\n",
    "    regr_logistic = linear_model.LogisticRegression()\n",
    "\n",
    "    regr_logistic.fit(x_train, y_train)\n",
    "\n",
    "    score = regr_logistic.score(x_test, y_test)\n",
    "\n",
    "    print(\"Independent variable: {}\".format(\"Balance\"))\n",
    "    print(\"Coefficients: {}\".format(regr_logistic.coef_))\n",
    "    print(\"Intercept: {}\".format(regr_logistic.intercept_))\n",
    "    print(\"Accuracy: {}\".format(score))\n",
    "\n",
    "\n",
    "if __name__ == \"__main__\":\n",
    "    main()\n"
   ]
  },
  {
   "cell_type": "code",
   "execution_count": 8,
   "metadata": {},
   "outputs": [
    {
     "ename": "ModuleNotFoundError",
     "evalue": "No module named 'pandas'",
     "output_type": "error",
     "traceback": [
      "\u001b[0;31m---------------------------------------------------------------------------\u001b[0m",
      "\u001b[0;31mModuleNotFoundError\u001b[0m                       Traceback (most recent call last)",
      "\u001b[0;32m<ipython-input-8-19e8dda1cebd>\u001b[0m in \u001b[0;36m<module>\u001b[0;34m()\u001b[0m\n\u001b[1;32m      1\u001b[0m \u001b[0;32mfrom\u001b[0m \u001b[0msklearn\u001b[0m \u001b[0;32mimport\u001b[0m \u001b[0mlinear_model\u001b[0m\u001b[0;34m\u001b[0m\u001b[0m\n\u001b[0;32m----> 2\u001b[0;31m \u001b[0;32mimport\u001b[0m \u001b[0mpandas\u001b[0m \u001b[0;32mas\u001b[0m \u001b[0mpd\u001b[0m\u001b[0;34m\u001b[0m\u001b[0m\n\u001b[0m\u001b[1;32m      3\u001b[0m \u001b[0;32mfrom\u001b[0m \u001b[0msklearn\u001b[0m\u001b[0;34m.\u001b[0m\u001b[0mmodel_selection\u001b[0m \u001b[0;32mimport\u001b[0m \u001b[0mtrain_test_split\u001b[0m\u001b[0;34m\u001b[0m\u001b[0m\n\u001b[1;32m      4\u001b[0m \u001b[0;34m\u001b[0m\u001b[0m\n\u001b[1;32m      5\u001b[0m \u001b[0;34m\u001b[0m\u001b[0m\n",
      "\u001b[0;31mModuleNotFoundError\u001b[0m: No module named 'pandas'"
     ]
    }
   ],
   "source": [
    "from sklearn import linear_model\n",
    "import pandas as pd\n",
    "from sklearn.model_selection import train_test_split\n",
    "\n",
    "\n",
    "def main():\n",
    "    data = pd.read_csv(\"./data/Default.csv\", header=0)\n",
    "    response_var = 1\n",
    "    y_vec = data.ix[:, response_var].as_matrix().squeeze()\n",
    "    x_mat = data.ix[:, range(2, 5)].as_matrix().reshape(-1, 3)\n",
    "\n",
    "    multi_var_default(x_mat, y_vec)\n",
    "\n",
    "\n",
    "def multi_var_default(x_mat, y_vec, rs=108):\n",
    "    x_train, x_test, y_train, y_test = train_test_split(x_mat, y_vec, test_size=0.2, random_state=rs)\n",
    "\n",
    "    regr_logistic = linear_model.LogisticRegression()\n",
    "\n",
    "    regr_logistic.fit(x_train, y_train)\n",
    "\n",
    "    score = regr_logistic.score(x_test, y_test)\n",
    "\n",
    "    print(\"Indepedent variables: {}\".format(\"ALL\"))\n",
    "    print(\"Coefficients: {}\".format(regr_logistic.coef_))\n",
    "    print(\"Intercept: {}\".format(regr_logistic.intercept_))\n",
    "    print(\"Accuracy: {}\".format(score))\n",
    "\n",
    "\n",
    "if __name__ == \"__main__\":\n",
    "    main()\n"
   ]
  },
  {
   "cell_type": "code",
   "execution_count": 9,
   "metadata": {
    "collapsed": true
   },
   "outputs": [],
   "source": [
    "def main():\n",
    "    data = pd.read_csv(\"./data/Default.csv\", header=0)\n",
    "    response_var = 1\n",
    "    y_vec = data.ix[:, response_var].as_matrix().squeeze()#y 종속 dep 파산여부 0,1 이라고 한 게 아니고 그냥 1번째 꺼 내놓으라는 뜻\n",
    "    x_vec = data.ix[:, 3].as_matrix().reshape(-1, 1) #x 독립 ind 잔고\n",
    "\n",
    "    one_var_default(x_vec, y_vec)"
   ]
  },
  {
   "cell_type": "code",
   "execution_count": 10,
   "metadata": {
    "collapsed": true
   },
   "outputs": [],
   "source": [
    "# accuracy score\n",
    "def one_var_default_pred(x_vec, y_vec, rs = 120):\n",
    "    x_train, x_test, y_train, y_test = train_test_split(x_vec, y_vec, test_size=0.25, random_state = rs)\n",
    "    regr_logistic = linear_model.LogisticRegression()\n",
    "\n",
    "    regr_logistic.fit(x_train, y_train)\n",
    "\n",
    "    score = regr_logistic.score(x_test, y_test)\n"
   ]
  },
  {
   "cell_type": "code",
   "execution_count": 13,
   "metadata": {},
   "outputs": [
    {
     "name": "stdout",
     "output_type": "stream",
     "text": [
      "   A  B  C  D  E  F\n",
      "0  1  4  7  1  5  7\n",
      "1  2  5  8  3  3  4\n",
      "2  3  6  9  5  6  3\n"
     ]
    }
   ],
   "source": [
    "import pandas as pd\n",
    "df = pd.DataFrame({'A':[1,2,3],\n",
    "                   'B':[4,5,6],\n",
    "                   'C':[7,8,9],\n",
    "                   'D':[1,3,5],\n",
    "                   'E':[5,3,6],\n",
    "                   'F':[7,4,3]})\n",
    "print(df)"
   ]
  },
  {
   "cell_type": "code",
   "execution_count": 14,
   "metadata": {},
   "outputs": [
    {
     "name": "stdout",
     "output_type": "stream",
     "text": [
      "0    4\n",
      "1    5\n",
      "2    6\n",
      "Name: B, dtype: int64\n"
     ]
    },
    {
     "name": "stderr",
     "output_type": "stream",
     "text": [
      "/usr/local/lib/python3.6/site-packages/ipykernel_launcher.py:1: DeprecationWarning: \n",
      ".ix is deprecated. Please use\n",
      ".loc for label based indexing or\n",
      ".iloc for positional indexing\n",
      "\n",
      "See the documentation here:\n",
      "http://pandas.pydata.org/pandas-docs/stable/indexing.html#deprecate_ix\n",
      "  \"\"\"Entry point for launching an IPython kernel.\n"
     ]
    }
   ],
   "source": [
    "print(df.ix[:, 1])"
   ]
  },
  {
   "cell_type": "code",
   "execution_count": 15,
   "metadata": {},
   "outputs": [
    {
     "name": "stdout",
     "output_type": "stream",
     "text": [
      "[4 5 6]\n"
     ]
    }
   ],
   "source": [
    "print(df.ix[:, 1].as_matrix().squeeze())"
   ]
  },
  {
   "cell_type": "code",
   "execution_count": 32,
   "metadata": {},
   "outputs": [
    {
     "name": "stdout",
     "output_type": "stream",
     "text": [
      "[[1 3 5]]\n"
     ]
    },
    {
     "name": "stderr",
     "output_type": "stream",
     "text": [
      "/usr/local/lib/python3.6/site-packages/ipykernel_launcher.py:1: FutureWarning: reshape is deprecated and will raise in a subsequent release. Please use .values.reshape(...) instead\n",
      "  \"\"\"Entry point for launching an IPython kernel.\n"
     ]
    }
   ],
   "source": [
    "print(df.ix[:, 3].reshape(-1,3))"
   ]
  },
  {
   "cell_type": "code",
   "execution_count": 18,
   "metadata": {},
   "outputs": [
    {
     "name": "stdout",
     "output_type": "stream",
     "text": [
      "[[1 3 5]]\n"
     ]
    }
   ],
   "source": [
    "print(df.ix[:, 3].as_matrix().reshape(1,-1))"
   ]
  },
  {
   "cell_type": "code",
   "execution_count": 33,
   "metadata": {},
   "outputs": [
    {
     "name": "stdout",
     "output_type": "stream",
     "text": [
      "0    1\n",
      "1    3\n",
      "2    5\n",
      "Name: D, dtype: int64\n"
     ]
    }
   ],
   "source": [
    "print(df.ix[:, 3])"
   ]
  },
  {
   "cell_type": "code",
   "execution_count": 19,
   "metadata": {},
   "outputs": [
    {
     "name": "stdout",
     "output_type": "stream",
     "text": [
      "[[1]\n",
      " [3]\n",
      " [5]]\n"
     ]
    }
   ],
   "source": [
    "print(df.ix[:, 3].as_matrix().reshape(-1,1))"
   ]
  },
  {
   "cell_type": "code",
   "execution_count": 20,
   "metadata": {},
   "outputs": [
    {
     "ename": "IndentationError",
     "evalue": "unexpected indent (<ipython-input-20-103a208c626f>, line 2)",
     "output_type": "error",
     "traceback": [
      "\u001b[0;36m  File \u001b[0;32m\"<ipython-input-20-103a208c626f>\"\u001b[0;36m, line \u001b[0;32m2\u001b[0m\n\u001b[0;31m    response_var = 1\u001b[0m\n\u001b[0m    ^\u001b[0m\n\u001b[0;31mIndentationError\u001b[0m\u001b[0;31m:\u001b[0m unexpected indent\n"
     ]
    }
   ],
   "source": [
    "#data = pd.read_csv(\"\", header=0)\n",
    "    response_var = 1\n",
    "    y_vec = data.ix[:, response_var].as_matrix().squeeze()\n",
    "    x_mat = data.ix[:, range(2, 5)].as_matrix().reshape(-1, 3)"
   ]
  },
  {
   "cell_type": "code",
   "execution_count": 21,
   "metadata": {
    "collapsed": true
   },
   "outputs": [],
   "source": [
    "def multi_var_default(x_mat, y_vec, rs=108):\n",
    "    x_train, x_test, y_train, y_test = train_test_split(x_mat, y_vec, test_size=0.2, random_state=rs)\n",
    "\n",
    "    regr_logistic = linear_model.LogisticRegression()\n",
    "\n",
    "    regr_logistic.fit(x_train, y_train)\n",
    "\n",
    "    score = regr_logistic.score(x_test, y_test)\n"
   ]
  },
  {
   "cell_type": "code",
   "execution_count": 22,
   "metadata": {
    "collapsed": true
   },
   "outputs": [],
   "source": [
    "data = pd.read_csv(\"Default.csv\", header=0)"
   ]
  },
  {
   "cell_type": "code",
   "execution_count": 23,
   "metadata": {},
   "outputs": [
    {
     "name": "stdout",
     "output_type": "stream",
     "text": [
      "     Unnamed: 0  default  student      balance        income\n",
      "0             1        0        0   729.526495  44361.625070\n",
      "1             2        0        1   817.180407  12106.134700\n",
      "2             3        0        0  1073.549164  31767.138950\n",
      "3             4        0        0   529.250605  35704.493940\n",
      "4             5        0        0   785.655883  38463.495880\n",
      "5             6        0        1   919.588530   7491.558572\n",
      "6             7        0        0   825.513330  24905.226580\n",
      "7             8        0        1   808.667504  17600.451340\n",
      "8             9        0        0  1161.057854  37468.529290\n",
      "9            10        0        0     0.000000  29275.268290\n",
      "10           11        0        1     0.000000  21871.073090\n",
      "11           12        0        1  1220.583753  13268.562220\n",
      "12           13        0        0   237.045114  28251.695340\n",
      "13           14        0        0   606.742343  44994.555850\n",
      "14           15        0        0  1112.968401  23810.174050\n",
      "15           16        0        0   286.232560  45042.413040\n",
      "16           17        0        0     0.000000  50265.312350\n",
      "17           18        0        1   527.540184  17636.539620\n",
      "18           19        0        0   485.936864  61566.106120\n",
      "19           20        0        0  1095.072735  26464.631390\n",
      "20           21        0        0   228.952550  50500.182200\n",
      "21           22        0        0   954.261793  32457.509080\n",
      "22           23        0        0  1055.956605  51317.883080\n",
      "23           24        0        0   641.984389  30466.103260\n",
      "24           25        0        0   773.211725  34353.314310\n",
      "25           26        0        0   855.008522  25211.332160\n",
      "26           27        0        0   642.999738  41473.511800\n",
      "27           28        0        0  1454.863272  32189.094950\n",
      "28           29        0        0   615.704277  39376.394620\n",
      "29           30        0        1  1119.569353  16556.070210\n",
      "..          ...      ...      ...          ...           ...\n",
      "636        9257        1        0  1800.641733  48708.959930\n",
      "637        9272        1        0  1547.995445  37524.253530\n",
      "638        9296        1        0  2095.114817  44647.586480\n",
      "639        9329        1        1  1538.015603  21356.937110\n",
      "640        9370        1        0  1815.174112  23648.413510\n",
      "641        9433        1        0  2073.782846  52335.550600\n",
      "642        9438        1        0   961.732662  27600.416300\n",
      "643        9449        1        0  1825.970599  39407.917030\n",
      "644        9459        1        0  1658.967689  38204.122620\n",
      "645        9478        1        0  1506.191848  47061.394540\n",
      "646        9486        1        1  1719.255655  15752.008010\n",
      "647        9501        1        1  2046.639515  17910.634470\n",
      "648        9511        1        1  1726.479610  13654.604940\n",
      "649        9516        1        0  1666.113834  25054.767820\n",
      "650        9523        1        0   959.159213  59435.234580\n",
      "651        9539        1        0   652.397134  46155.043870\n",
      "652        9611        1        1  1502.186739  18603.495530\n",
      "653        9655        1        0  2128.795992  42096.502370\n",
      "654        9784        1        1  1530.551479  13003.929200\n",
      "655        9787        1        0  1698.826142  27374.887520\n",
      "656        9797        1        1  1867.308569  24720.480560\n",
      "657        9814        1        0  1975.653028  38221.839740\n",
      "658        9857        1        0  1973.822147  27340.012270\n",
      "659        9884        1        0  1335.612871  37595.344270\n",
      "660        9894        1        0  2288.408082  52043.569050\n",
      "661        9913        1        0  2148.898454  44309.917170\n",
      "662        9922        1        1  1627.898323  17546.997020\n",
      "663        9950        1        0  1750.253150  51578.940160\n",
      "664        9952        1        0  1515.606239  48688.512090\n",
      "665        9979        1        0  2202.462395  47287.257110\n",
      "\n",
      "[666 rows x 5 columns]\n"
     ]
    }
   ],
   "source": [
    "print(data)"
   ]
  },
  {
   "cell_type": "code",
   "execution_count": 24,
   "metadata": {},
   "outputs": [
    {
     "name": "stdout",
     "output_type": "stream",
     "text": [
      "0      0\n",
      "1      0\n",
      "2      0\n",
      "3      0\n",
      "4      0\n",
      "5      0\n",
      "6      0\n",
      "7      0\n",
      "8      0\n",
      "9      0\n",
      "10     0\n",
      "11     0\n",
      "12     0\n",
      "13     0\n",
      "14     0\n",
      "15     0\n",
      "16     0\n",
      "17     0\n",
      "18     0\n",
      "19     0\n",
      "20     0\n",
      "21     0\n",
      "22     0\n",
      "23     0\n",
      "24     0\n",
      "25     0\n",
      "26     0\n",
      "27     0\n",
      "28     0\n",
      "29     0\n",
      "      ..\n",
      "636    1\n",
      "637    1\n",
      "638    1\n",
      "639    1\n",
      "640    1\n",
      "641    1\n",
      "642    1\n",
      "643    1\n",
      "644    1\n",
      "645    1\n",
      "646    1\n",
      "647    1\n",
      "648    1\n",
      "649    1\n",
      "650    1\n",
      "651    1\n",
      "652    1\n",
      "653    1\n",
      "654    1\n",
      "655    1\n",
      "656    1\n",
      "657    1\n",
      "658    1\n",
      "659    1\n",
      "660    1\n",
      "661    1\n",
      "662    1\n",
      "663    1\n",
      "664    1\n",
      "665    1\n",
      "Name: default, Length: 666, dtype: int64\n"
     ]
    },
    {
     "name": "stderr",
     "output_type": "stream",
     "text": [
      "/usr/local/lib/python3.6/site-packages/ipykernel_launcher.py:1: DeprecationWarning: \n",
      ".ix is deprecated. Please use\n",
      ".loc for label based indexing or\n",
      ".iloc for positional indexing\n",
      "\n",
      "See the documentation here:\n",
      "http://pandas.pydata.org/pandas-docs/stable/indexing.html#deprecate_ix\n",
      "  \"\"\"Entry point for launching an IPython kernel.\n"
     ]
    }
   ],
   "source": [
    "y_vec = data.ix[:,1]\n",
    "print(y_vec)"
   ]
  },
  {
   "cell_type": "code",
   "execution_count": 25,
   "metadata": {},
   "outputs": [
    {
     "name": "stdout",
     "output_type": "stream",
     "text": [
      "[0 0 0 0 0 0 0 0 0 0 0 0 0 0 0 0 0 0 0 0 0 0 0 0 0 0 0 0 0 0 0 0 0 0 0 0 0\n",
      " 0 0 0 0 0 0 0 0 0 0 0 0 0 0 0 0 0 0 0 0 0 0 0 0 0 0 0 0 0 0 0 0 0 0 0 0 0\n",
      " 0 0 0 0 0 0 0 0 0 0 0 0 0 0 0 0 0 0 0 0 0 0 0 0 0 0 0 0 0 0 0 0 0 0 0 0 0\n",
      " 0 0 0 0 0 0 0 0 0 0 0 0 0 0 0 0 0 0 0 0 0 0 0 0 0 0 0 0 0 0 0 0 0 0 0 0 0\n",
      " 0 0 0 0 0 0 0 0 0 0 0 0 0 0 0 0 0 0 0 0 0 0 0 0 0 0 0 0 0 0 0 0 0 0 0 0 0\n",
      " 0 0 0 0 0 0 0 0 0 0 0 0 0 0 0 0 0 0 0 0 0 0 0 0 0 0 0 0 0 0 0 0 0 0 0 0 0\n",
      " 0 0 0 0 0 0 0 0 0 0 0 0 0 0 0 0 0 0 0 0 0 0 0 0 0 0 0 0 0 0 0 0 0 0 0 0 0\n",
      " 0 0 0 0 0 0 0 0 0 0 0 0 0 0 0 0 0 0 0 0 0 0 0 0 0 0 0 0 0 0 0 0 0 0 0 0 0\n",
      " 0 0 0 0 0 0 0 0 0 0 0 0 0 0 0 0 0 0 0 0 0 0 0 0 0 0 0 0 0 0 0 0 0 0 0 0 0\n",
      " 1 1 1 1 1 1 1 1 1 1 1 1 1 1 1 1 1 1 1 1 1 1 1 1 1 1 1 1 1 1 1 1 1 1 1 1 1\n",
      " 1 1 1 1 1 1 1 1 1 1 1 1 1 1 1 1 1 1 1 1 1 1 1 1 1 1 1 1 1 1 1 1 1 1 1 1 1\n",
      " 1 1 1 1 1 1 1 1 1 1 1 1 1 1 1 1 1 1 1 1 1 1 1 1 1 1 1 1 1 1 1 1 1 1 1 1 1\n",
      " 1 1 1 1 1 1 1 1 1 1 1 1 1 1 1 1 1 1 1 1 1 1 1 1 1 1 1 1 1 1 1 1 1 1 1 1 1\n",
      " 1 1 1 1 1 1 1 1 1 1 1 1 1 1 1 1 1 1 1 1 1 1 1 1 1 1 1 1 1 1 1 1 1 1 1 1 1\n",
      " 1 1 1 1 1 1 1 1 1 1 1 1 1 1 1 1 1 1 1 1 1 1 1 1 1 1 1 1 1 1 1 1 1 1 1 1 1\n",
      " 1 1 1 1 1 1 1 1 1 1 1 1 1 1 1 1 1 1 1 1 1 1 1 1 1 1 1 1 1 1 1 1 1 1 1 1 1\n",
      " 1 1 1 1 1 1 1 1 1 1 1 1 1 1 1 1 1 1 1 1 1 1 1 1 1 1 1 1 1 1 1 1 1 1 1 1 1\n",
      " 1 1 1 1 1 1 1 1 1 1 1 1 1 1 1 1 1 1 1 1 1 1 1 1 1 1 1 1 1 1 1 1 1 1 1 1 1]\n"
     ]
    }
   ],
   "source": [
    "y_vec1 = data.ix[:,1].as_matrix()\n",
    "print(y_vec1)"
   ]
  },
  {
   "cell_type": "code",
   "execution_count": 26,
   "metadata": {},
   "outputs": [
    {
     "name": "stdout",
     "output_type": "stream",
     "text": [
      "[0 0 0 0 0 0 0 0 0 0 0 0 0 0 0 0 0 0 0 0 0 0 0 0 0 0 0 0 0 0 0 0 0 0 0 0 0\n",
      " 0 0 0 0 0 0 0 0 0 0 0 0 0 0 0 0 0 0 0 0 0 0 0 0 0 0 0 0 0 0 0 0 0 0 0 0 0\n",
      " 0 0 0 0 0 0 0 0 0 0 0 0 0 0 0 0 0 0 0 0 0 0 0 0 0 0 0 0 0 0 0 0 0 0 0 0 0\n",
      " 0 0 0 0 0 0 0 0 0 0 0 0 0 0 0 0 0 0 0 0 0 0 0 0 0 0 0 0 0 0 0 0 0 0 0 0 0\n",
      " 0 0 0 0 0 0 0 0 0 0 0 0 0 0 0 0 0 0 0 0 0 0 0 0 0 0 0 0 0 0 0 0 0 0 0 0 0\n",
      " 0 0 0 0 0 0 0 0 0 0 0 0 0 0 0 0 0 0 0 0 0 0 0 0 0 0 0 0 0 0 0 0 0 0 0 0 0\n",
      " 0 0 0 0 0 0 0 0 0 0 0 0 0 0 0 0 0 0 0 0 0 0 0 0 0 0 0 0 0 0 0 0 0 0 0 0 0\n",
      " 0 0 0 0 0 0 0 0 0 0 0 0 0 0 0 0 0 0 0 0 0 0 0 0 0 0 0 0 0 0 0 0 0 0 0 0 0\n",
      " 0 0 0 0 0 0 0 0 0 0 0 0 0 0 0 0 0 0 0 0 0 0 0 0 0 0 0 0 0 0 0 0 0 0 0 0 0\n",
      " 1 1 1 1 1 1 1 1 1 1 1 1 1 1 1 1 1 1 1 1 1 1 1 1 1 1 1 1 1 1 1 1 1 1 1 1 1\n",
      " 1 1 1 1 1 1 1 1 1 1 1 1 1 1 1 1 1 1 1 1 1 1 1 1 1 1 1 1 1 1 1 1 1 1 1 1 1\n",
      " 1 1 1 1 1 1 1 1 1 1 1 1 1 1 1 1 1 1 1 1 1 1 1 1 1 1 1 1 1 1 1 1 1 1 1 1 1\n",
      " 1 1 1 1 1 1 1 1 1 1 1 1 1 1 1 1 1 1 1 1 1 1 1 1 1 1 1 1 1 1 1 1 1 1 1 1 1\n",
      " 1 1 1 1 1 1 1 1 1 1 1 1 1 1 1 1 1 1 1 1 1 1 1 1 1 1 1 1 1 1 1 1 1 1 1 1 1\n",
      " 1 1 1 1 1 1 1 1 1 1 1 1 1 1 1 1 1 1 1 1 1 1 1 1 1 1 1 1 1 1 1 1 1 1 1 1 1\n",
      " 1 1 1 1 1 1 1 1 1 1 1 1 1 1 1 1 1 1 1 1 1 1 1 1 1 1 1 1 1 1 1 1 1 1 1 1 1\n",
      " 1 1 1 1 1 1 1 1 1 1 1 1 1 1 1 1 1 1 1 1 1 1 1 1 1 1 1 1 1 1 1 1 1 1 1 1 1\n",
      " 1 1 1 1 1 1 1 1 1 1 1 1 1 1 1 1 1 1 1 1 1 1 1 1 1 1 1 1 1 1 1 1 1 1 1 1 1]\n"
     ]
    }
   ],
   "source": [
    "y_vec2 = data.ix[:,1].as_matrix().squeeze()\n",
    "print(y_vec2)"
   ]
  },
  {
   "cell_type": "code",
   "execution_count": 27,
   "metadata": {},
   "outputs": [
    {
     "data": {
      "text/plain": [
       "array([ True,  True,  True,  True,  True,  True,  True,  True,  True,\n",
       "        True,  True,  True,  True,  True,  True,  True,  True,  True,\n",
       "        True,  True,  True,  True,  True,  True,  True,  True,  True,\n",
       "        True,  True,  True,  True,  True,  True,  True,  True,  True,\n",
       "        True,  True,  True,  True,  True,  True,  True,  True,  True,\n",
       "        True,  True,  True,  True,  True,  True,  True,  True,  True,\n",
       "        True,  True,  True,  True,  True,  True,  True,  True,  True,\n",
       "        True,  True,  True,  True,  True,  True,  True,  True,  True,\n",
       "        True,  True,  True,  True,  True,  True,  True,  True,  True,\n",
       "        True,  True,  True,  True,  True,  True,  True,  True,  True,\n",
       "        True,  True,  True,  True,  True,  True,  True,  True,  True,\n",
       "        True,  True,  True,  True,  True,  True,  True,  True,  True,\n",
       "        True,  True,  True,  True,  True,  True,  True,  True,  True,\n",
       "        True,  True,  True,  True,  True,  True,  True,  True,  True,\n",
       "        True,  True,  True,  True,  True,  True,  True,  True,  True,\n",
       "        True,  True,  True,  True,  True,  True,  True,  True,  True,\n",
       "        True,  True,  True,  True,  True,  True,  True,  True,  True,\n",
       "        True,  True,  True,  True,  True,  True,  True,  True,  True,\n",
       "        True,  True,  True,  True,  True,  True,  True,  True,  True,\n",
       "        True,  True,  True,  True,  True,  True,  True,  True,  True,\n",
       "        True,  True,  True,  True,  True,  True,  True,  True,  True,\n",
       "        True,  True,  True,  True,  True,  True,  True,  True,  True,\n",
       "        True,  True,  True,  True,  True,  True,  True,  True,  True,\n",
       "        True,  True,  True,  True,  True,  True,  True,  True,  True,\n",
       "        True,  True,  True,  True,  True,  True,  True,  True,  True,\n",
       "        True,  True,  True,  True,  True,  True,  True,  True,  True,\n",
       "        True,  True,  True,  True,  True,  True,  True,  True,  True,\n",
       "        True,  True,  True,  True,  True,  True,  True,  True,  True,\n",
       "        True,  True,  True,  True,  True,  True,  True,  True,  True,\n",
       "        True,  True,  True,  True,  True,  True,  True,  True,  True,\n",
       "        True,  True,  True,  True,  True,  True,  True,  True,  True,\n",
       "        True,  True,  True,  True,  True,  True,  True,  True,  True,\n",
       "        True,  True,  True,  True,  True,  True,  True,  True,  True,\n",
       "        True,  True,  True,  True,  True,  True,  True,  True,  True,\n",
       "        True,  True,  True,  True,  True,  True,  True,  True,  True,\n",
       "        True,  True,  True,  True,  True,  True,  True,  True,  True,\n",
       "        True,  True,  True,  True,  True,  True,  True,  True,  True,\n",
       "        True,  True,  True,  True,  True,  True,  True,  True,  True,\n",
       "        True,  True,  True,  True,  True,  True,  True,  True,  True,\n",
       "        True,  True,  True,  True,  True,  True,  True,  True,  True,\n",
       "        True,  True,  True,  True,  True,  True,  True,  True,  True,\n",
       "        True,  True,  True,  True,  True,  True,  True,  True,  True,\n",
       "        True,  True,  True,  True,  True,  True,  True,  True,  True,\n",
       "        True,  True,  True,  True,  True,  True,  True,  True,  True,\n",
       "        True,  True,  True,  True,  True,  True,  True,  True,  True,\n",
       "        True,  True,  True,  True,  True,  True,  True,  True,  True,\n",
       "        True,  True,  True,  True,  True,  True,  True,  True,  True,\n",
       "        True,  True,  True,  True,  True,  True,  True,  True,  True,\n",
       "        True,  True,  True,  True,  True,  True,  True,  True,  True,\n",
       "        True,  True,  True,  True,  True,  True,  True,  True,  True,\n",
       "        True,  True,  True,  True,  True,  True,  True,  True,  True,\n",
       "        True,  True,  True,  True,  True,  True,  True,  True,  True,\n",
       "        True,  True,  True,  True,  True,  True,  True,  True,  True,\n",
       "        True,  True,  True,  True,  True,  True,  True,  True,  True,\n",
       "        True,  True,  True,  True,  True,  True,  True,  True,  True,\n",
       "        True,  True,  True,  True,  True,  True,  True,  True,  True,\n",
       "        True,  True,  True,  True,  True,  True,  True,  True,  True,\n",
       "        True,  True,  True,  True,  True,  True,  True,  True,  True,\n",
       "        True,  True,  True,  True,  True,  True,  True,  True,  True,\n",
       "        True,  True,  True,  True,  True,  True,  True,  True,  True,\n",
       "        True,  True,  True,  True,  True,  True,  True,  True,  True,\n",
       "        True,  True,  True,  True,  True,  True,  True,  True,  True,\n",
       "        True,  True,  True,  True,  True,  True,  True,  True,  True,\n",
       "        True,  True,  True,  True,  True,  True,  True,  True,  True,\n",
       "        True,  True,  True,  True,  True,  True,  True,  True,  True,\n",
       "        True,  True,  True,  True,  True,  True,  True,  True,  True,\n",
       "        True,  True,  True,  True,  True,  True,  True,  True,  True,\n",
       "        True,  True,  True,  True,  True,  True,  True,  True,  True,\n",
       "        True,  True,  True,  True,  True,  True,  True,  True,  True,\n",
       "        True,  True,  True,  True,  True,  True,  True,  True,  True,\n",
       "        True,  True,  True,  True,  True,  True,  True,  True,  True,\n",
       "        True,  True,  True,  True,  True,  True,  True,  True,  True,\n",
       "        True,  True,  True,  True,  True,  True,  True,  True,  True,\n",
       "        True,  True,  True,  True,  True,  True,  True,  True,  True], dtype=bool)"
      ]
     },
     "execution_count": 27,
     "metadata": {},
     "output_type": "execute_result"
    }
   ],
   "source": [
    "y_vec1 == y_vec2"
   ]
  },
  {
   "cell_type": "code",
   "execution_count": 28,
   "metadata": {},
   "outputs": [
    {
     "name": "stdout",
     "output_type": "stream",
     "text": [
      "     student      balance        income\n",
      "0          0   729.526495  44361.625070\n",
      "1          1   817.180407  12106.134700\n",
      "2          0  1073.549164  31767.138950\n",
      "3          0   529.250605  35704.493940\n",
      "4          0   785.655883  38463.495880\n",
      "5          1   919.588530   7491.558572\n",
      "6          0   825.513330  24905.226580\n",
      "7          1   808.667504  17600.451340\n",
      "8          0  1161.057854  37468.529290\n",
      "9          0     0.000000  29275.268290\n",
      "10         1     0.000000  21871.073090\n",
      "11         1  1220.583753  13268.562220\n",
      "12         0   237.045114  28251.695340\n",
      "13         0   606.742343  44994.555850\n",
      "14         0  1112.968401  23810.174050\n",
      "15         0   286.232560  45042.413040\n",
      "16         0     0.000000  50265.312350\n",
      "17         1   527.540184  17636.539620\n",
      "18         0   485.936864  61566.106120\n",
      "19         0  1095.072735  26464.631390\n",
      "20         0   228.952550  50500.182200\n",
      "21         0   954.261793  32457.509080\n",
      "22         0  1055.956605  51317.883080\n",
      "23         0   641.984389  30466.103260\n",
      "24         0   773.211725  34353.314310\n",
      "25         0   855.008522  25211.332160\n",
      "26         0   642.999738  41473.511800\n",
      "27         0  1454.863272  32189.094950\n",
      "28         0   615.704277  39376.394620\n",
      "29         1  1119.569353  16556.070210\n",
      "..       ...          ...           ...\n",
      "636        0  1800.641733  48708.959930\n",
      "637        0  1547.995445  37524.253530\n",
      "638        0  2095.114817  44647.586480\n",
      "639        1  1538.015603  21356.937110\n",
      "640        0  1815.174112  23648.413510\n",
      "641        0  2073.782846  52335.550600\n",
      "642        0   961.732662  27600.416300\n",
      "643        0  1825.970599  39407.917030\n",
      "644        0  1658.967689  38204.122620\n",
      "645        0  1506.191848  47061.394540\n",
      "646        1  1719.255655  15752.008010\n",
      "647        1  2046.639515  17910.634470\n",
      "648        1  1726.479610  13654.604940\n",
      "649        0  1666.113834  25054.767820\n",
      "650        0   959.159213  59435.234580\n",
      "651        0   652.397134  46155.043870\n",
      "652        1  1502.186739  18603.495530\n",
      "653        0  2128.795992  42096.502370\n",
      "654        1  1530.551479  13003.929200\n",
      "655        0  1698.826142  27374.887520\n",
      "656        1  1867.308569  24720.480560\n",
      "657        0  1975.653028  38221.839740\n",
      "658        0  1973.822147  27340.012270\n",
      "659        0  1335.612871  37595.344270\n",
      "660        0  2288.408082  52043.569050\n",
      "661        0  2148.898454  44309.917170\n",
      "662        1  1627.898323  17546.997020\n",
      "663        0  1750.253150  51578.940160\n",
      "664        0  1515.606239  48688.512090\n",
      "665        0  2202.462395  47287.257110\n",
      "\n",
      "[666 rows x 3 columns]\n"
     ]
    }
   ],
   "source": [
    "x_mat = data.ix[:, range(2, 5)]\n",
    "print(x_mat)"
   ]
  },
  {
   "cell_type": "code",
   "execution_count": 29,
   "metadata": {},
   "outputs": [
    {
     "name": "stdout",
     "output_type": "stream",
     "text": [
      "[[  0.00000000e+00   7.29526495e+02   4.43616251e+04]\n",
      " [  1.00000000e+00   8.17180407e+02   1.21061347e+04]\n",
      " [  0.00000000e+00   1.07354916e+03   3.17671390e+04]\n",
      " ..., \n",
      " [  0.00000000e+00   1.75025315e+03   5.15789402e+04]\n",
      " [  0.00000000e+00   1.51560624e+03   4.86885121e+04]\n",
      " [  0.00000000e+00   2.20246240e+03   4.72872571e+04]]\n"
     ]
    }
   ],
   "source": [
    "x_mat1 = data.ix[:, range(2, 5)].as_matrix()\n",
    "print(x_mat1)"
   ]
  },
  {
   "cell_type": "code",
   "execution_count": 30,
   "metadata": {},
   "outputs": [
    {
     "name": "stdout",
     "output_type": "stream",
     "text": [
      "[[  0.00000000e+00   7.29526495e+02   4.43616251e+04]\n",
      " [  1.00000000e+00   8.17180407e+02   1.21061347e+04]\n",
      " [  0.00000000e+00   1.07354916e+03   3.17671390e+04]\n",
      " ..., \n",
      " [  0.00000000e+00   1.75025315e+03   5.15789402e+04]\n",
      " [  0.00000000e+00   1.51560624e+03   4.86885121e+04]\n",
      " [  0.00000000e+00   2.20246240e+03   4.72872571e+04]]\n"
     ]
    }
   ],
   "source": [
    "x_mat2 = data.ix[:, range(2, 5)].as_matrix().reshape(-1, 3)\n",
    "print(x_mat2)"
   ]
  },
  {
   "cell_type": "code",
   "execution_count": null,
   "metadata": {
    "collapsed": true
   },
   "outputs": [],
   "source": []
  }
 ],
 "metadata": {
  "kernelspec": {
   "display_name": "Python 3",
   "language": "python",
   "name": "python3"
  },
  "language_info": {
   "codemirror_mode": {
    "name": "ipython",
    "version": 3
   },
   "file_extension": ".py",
   "mimetype": "text/x-python",
   "name": "python",
   "nbconvert_exporter": "python",
   "pygments_lexer": "ipython3",
   "version": "3.6.1"
  }
 },
 "nbformat": 4,
 "nbformat_minor": 2
}
