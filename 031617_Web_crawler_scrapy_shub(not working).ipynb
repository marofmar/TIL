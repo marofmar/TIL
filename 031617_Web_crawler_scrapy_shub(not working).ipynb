{
 "cells": [
  {
   "cell_type": "code",
   "execution_count": 1,
   "metadata": {
    "collapsed": false
   },
   "outputs": [
    {
     "ename": "SyntaxError",
     "evalue": "invalid syntax (<ipython-input-1-f710ef5cbe55>, line 9)",
     "output_type": "error",
     "traceback": [
      "\u001b[0;36m  File \u001b[0;32m\"<ipython-input-1-f710ef5cbe55>\"\u001b[0;36m, line \u001b[0;32m9\u001b[0m\n\u001b[0;31m    $pip install scrapy\u001b[0m\n\u001b[0m    ^\u001b[0m\n\u001b[0;31mSyntaxError\u001b[0m\u001b[0;31m:\u001b[0m invalid syntax\n"
     ]
    }
   ],
   "source": [
    "# Could not able to install pip, though\n",
    "# Incase, for later usage, \n",
    "# Nevertherless, I succeeded installed shub!\n",
    "\n",
    "\n",
    "\n",
    "## Build and run your web spiders\n",
    "\n",
    "$pip install scrapy\n",
    "$cat > myspider.py <<EOF #What does EOF mean?\n",
    "\n",
    "import scrapy\n",
    "\n",
    "class BlogSpider(scrapy.Spider):\n",
    "    name = 'blogspider'\n",
    "    start_urls = ['http://blog.scrapinghub.com']\n",
    "    \n",
    "    def parse(self, response):\n",
    "        for title in response.css('h2.entry-title'):\n",
    "            yield {'title': title.css('a::text').extract_first()}\n",
    "            \n",
    "        next_page = response.css('div.prev-post>a::attr(href)').extract_first()\n",
    "        if next_page:\n",
    "            yield scrapy.Request(response.urljoin(next_page), callback=self.parse)\n",
    "EOF\n",
    "$scrapy runspider myspider.py"
   ]
  },
  {
   "cell_type": "code",
   "execution_count": null,
   "metadata": {
    "collapsed": true
   },
   "outputs": [],
   "source": [
    "## Deploy them to Scrapy Cloud\n",
    "\n",
    "$pip install shub\n",
    "$shub login\n",
    "#Insert my API Key:\n",
    "\n",
    "#Deploy the spider to Scrapy Cloud\n",
    "$shub deploy\n",
    "\n",
    "#Schedule the spider for execution\n",
    "$shub schedule blogspider\n",
    "Spider blogspider scheduled, watch it runnig here:\n",
    "https://app.scrapinghub.com/p/26731/job/1/8\n",
    "    \n",
    "#Retrieve the scraped data\n",
    "$shub items 26731/1/8\n",
    "{\"title\": \"Improved ~\"}\n"
   ]
  }
 ],
 "metadata": {
  "kernelspec": {
   "display_name": "Python 3",
   "language": "python",
   "name": "python3"
  },
  "language_info": {
   "codemirror_mode": {
    "name": "ipython",
    "version": 3
   },
   "file_extension": ".py",
   "mimetype": "text/x-python",
   "name": "python",
   "nbconvert_exporter": "python",
   "pygments_lexer": "ipython3",
   "version": "3.6.0"
  }
 },
 "nbformat": 4,
 "nbformat_minor": 2
}
