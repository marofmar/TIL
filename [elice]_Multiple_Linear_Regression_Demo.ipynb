{
 "cells": [
  {
   "cell_type": "code",
   "execution_count": 2,
   "metadata": {
    "collapsed": true
   },
   "outputs": [],
   "source": [
    "# Unlike Simple Linear Regression,\n",
    "# Multiple Linear Regression takes more than 2 different independent variables (features)\n",
    "# from the data, and predicts Y which is called Response Variable.\n",
    "\n",
    "# Independet variable = Feature = X varible\n",
    "\n",
    "# Using <scikit-learn> to generate the matrix X for Multiple Linear Regression"
   ]
  },
  {
   "cell_type": "code",
   "execution_count": 3,
   "metadata": {
    "collapsed": true
   },
   "outputs": [],
   "source": [
    "import numpy as np\n",
    "from sklearn import linear_model\n",
    "import pandas as pd\n",
    "from sklearn.metrics import r2_score #R^2 coefficient of determination\n",
    "from sklearn.model_selection import train_test_split"
   ]
  },
  {
   "cell_type": "code",
   "execution_count": 10,
   "metadata": {
    "collapsed": true
   },
   "outputs": [],
   "source": [
    "def main():\n",
    "    data = pd.read_csv(\"ad.csv\", header = 0)\n",
    "    response_var = -1\n",
    "    y_vec = data.ix[:, response_var].as_matrix().reshape(-1,1)\n",
    "    # as_matrix from pandas;\n",
    "    # pandas.DataFrame.ix;\n",
    "    # .ix[] supports mixed integer and label based access. \n",
    "    # Oh, Numpy also has ix!\n",
    "    # numpy.ix(*args)\n",
    "    ## Construc an open mesh from multiple sequences.\n",
    "    ## This function takes N 1-D sequences and return N outputs with\n",
    "    ## N dimensions each.\n",
    "    \n",
    "    ### For the Series object, pandas offers three types of addressing.\n",
    "    ### s.iloc[] -- for inteer position addressing\n",
    "    ### s.loc[] -- for index label addressing\n",
    "    ### s.ix[] -- for a hybrid of integer position and label addressing\n",
    "    \n",
    "    y_label = data.columns[response_var]\n",
    "    \n",
    "    x_label = \", \".join(data.columns[range(1,4)])\n",
    "    x_mat = data.ix[:,range(1,4)].as_matrix().reshape(-1,3)\n",
    "    multi_var_adversiting(x_mat, y_vec, x_label)"
   ]
  },
  {
   "cell_type": "code",
   "execution_count": 7,
   "metadata": {
    "collapsed": false
   },
   "outputs": [
    {
     "ename": "NameError",
     "evalue": "name 'dta' is not defined",
     "output_type": "error",
     "traceback": [
      "\u001b[0;31m---------------------------------------------------------------------------\u001b[0m",
      "\u001b[0;31mNameError\u001b[0m                                 Traceback (most recent call last)",
      "\u001b[0;32m<ipython-input-7-8cb414d5bba8>\u001b[0m in \u001b[0;36m<module>\u001b[0;34m()\u001b[0m\n\u001b[1;32m     15\u001b[0m \u001b[0;34m\u001b[0m\u001b[0m\n\u001b[1;32m     16\u001b[0m \u001b[0;32mif\u001b[0m \u001b[0m__name__\u001b[0m \u001b[0;34m==\u001b[0m \u001b[0;34m\"__main__\"\u001b[0m\u001b[0;34m:\u001b[0m\u001b[0;34m\u001b[0m\u001b[0m\n\u001b[0;32m---> 17\u001b[0;31m     \u001b[0mmain\u001b[0m\u001b[0;34m(\u001b[0m\u001b[0;34m)\u001b[0m\u001b[0;34m\u001b[0m\u001b[0m\n\u001b[0m",
      "\u001b[0;32m<ipython-input-6-3cd0f2d28804>\u001b[0m in \u001b[0;36mmain\u001b[0;34m()\u001b[0m\n\u001b[1;32m     20\u001b[0m \u001b[0;34m\u001b[0m\u001b[0m\n\u001b[1;32m     21\u001b[0m     \u001b[0mx_label\u001b[0m \u001b[0;34m=\u001b[0m \u001b[0;34m\", \"\u001b[0m\u001b[0;34m.\u001b[0m\u001b[0mjoin\u001b[0m\u001b[0;34m(\u001b[0m\u001b[0mdata\u001b[0m\u001b[0;34m.\u001b[0m\u001b[0mcolumns\u001b[0m\u001b[0;34m[\u001b[0m\u001b[0mrange\u001b[0m\u001b[0;34m(\u001b[0m\u001b[0;36m1\u001b[0m\u001b[0;34m,\u001b[0m\u001b[0;36m4\u001b[0m\u001b[0;34m)\u001b[0m\u001b[0;34m]\u001b[0m\u001b[0;34m)\u001b[0m\u001b[0;34m\u001b[0m\u001b[0m\n\u001b[0;32m---> 22\u001b[0;31m     \u001b[0mx_mat\u001b[0m \u001b[0;34m=\u001b[0m \u001b[0mdta\u001b[0m\u001b[0;34m.\u001b[0m\u001b[0mix\u001b[0m\u001b[0;34m[\u001b[0m\u001b[0;34m:\u001b[0m\u001b[0;34m,\u001b[0m\u001b[0mrange\u001b[0m\u001b[0;34m(\u001b[0m\u001b[0;36m1\u001b[0m\u001b[0;34m,\u001b[0m\u001b[0;36m4\u001b[0m\u001b[0;34m)\u001b[0m\u001b[0;34m]\u001b[0m\u001b[0;34m.\u001b[0m\u001b[0mas_matrix\u001b[0m\u001b[0;34m(\u001b[0m\u001b[0;34m)\u001b[0m\u001b[0;34m.\u001b[0m\u001b[0mreshape\u001b[0m\u001b[0;34m(\u001b[0m\u001b[0;34m-\u001b[0m\u001b[0;36m1\u001b[0m\u001b[0;34m,\u001b[0m\u001b[0;36m3\u001b[0m\u001b[0;34m)\u001b[0m\u001b[0;34m\u001b[0m\u001b[0m\n\u001b[0m\u001b[1;32m     23\u001b[0m     \u001b[0mmulti_var_adversiting\u001b[0m\u001b[0;34m(\u001b[0m\u001b[0mx_mat\u001b[0m\u001b[0;34m,\u001b[0m \u001b[0my_vec\u001b[0m\u001b[0;34m,\u001b[0m \u001b[0mx_label\u001b[0m\u001b[0;34m)\u001b[0m\u001b[0;34m\u001b[0m\u001b[0m\n",
      "\u001b[0;31mNameError\u001b[0m: name 'dta' is not defined"
     ]
    }
   ],
   "source": [
    "def ulti_var_advertising(x_mat, y_vec, x_label, rs = 108):\n",
    "    x_train, x_text, y_train, y_text = train_test_split(x_mat, y_vec,\n",
    "                                                        test_size = 0.2,\n",
    "                                                        random_state=rs)\n",
    "    regr = linear_model.LinearRegression()\n",
    "    \n",
    "    reg.fit(x_train, y_train)\n",
    "    predicted_y_text = regr.predict(x_test)\n",
    "    print(\"Independet variables: {}\".format(x_label))\n",
    "    print(\"Coefficients: {}\".format(regr.coef_))\n",
    "    print(\"Intercept: {}\".format(regr.intercept_))\n",
    "    print(\"RSS on test data: {}\".format(np.sum((predicted_y_test - y_test)**2)))\n",
    "    print(\"R^2 on test data: {}\".format(r2_score(y_test, predicted_y_test)))\n",
    "    print()\n",
    "    \n",
    "if __name__ == \"__main__\":\n",
    "    main()"
   ]
  },
  {
   "cell_type": "code",
   "execution_count": null,
   "metadata": {
    "collapsed": true
   },
   "outputs": [],
   "source": []
  }
 ],
 "metadata": {
  "kernelspec": {
   "display_name": "Python 3",
   "language": "python",
   "name": "python3"
  },
  "language_info": {
   "codemirror_mode": {
    "name": "ipython",
    "version": 3
   },
   "file_extension": ".py",
   "mimetype": "text/x-python",
   "name": "python",
   "nbconvert_exporter": "python",
   "pygments_lexer": "ipython3",
   "version": "3.6.0"
  }
 },
 "nbformat": 4,
 "nbformat_minor": 2
}
