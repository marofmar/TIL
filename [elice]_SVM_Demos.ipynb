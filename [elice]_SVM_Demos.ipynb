{
 "cells": [
  {
   "cell_type": "code",
   "execution_count": 5,
   "metadata": {
    "collapsed": true
   },
   "outputs": [],
   "source": [
    "import matplotlib\n",
    "matplotlib.use('Agg')\n",
    "import matplotlib.pyplot as plt\n",
    "%matplotlib inline\n",
    "import numpy as np\n",
    "from sklearn.svm import SVC  # SVC stands for : Support Vector Classification"
   ]
  },
  {
   "cell_type": "code",
   "execution_count": 2,
   "metadata": {
    "collapsed": true
   },
   "outputs": [],
   "source": [
    "# 1) SVM 1 simple, linearly separable\n",
    "\n",
    "def linear_func1(x):\n",
    "    l = len(x)\n",
    "    return (3*x + 100 + 30 * np.random.randn(l))\n",
    "\n",
    "def linear_func2(x):\n",
    "    l = len(x)\n",
    "    return (3*x - 100 + 30 * np.random.randn(l))\n",
    "\n",
    "def generate_data(n):\n",
    "    np.random.seed(328183)\n",
    "    x1_1 = (np.random.random(int(0.5 * n)) - 0.5) * 100\n",
    "    x2_1 = linear_func1(x1_1)\n",
    "    x1_2 = (np.random.random(int(0.5 * n)) - 0.5) * 100\n",
    "    x2_2 = linear_func2(x1_2)\n",
    "    y_1 = np.ones(int(0.5 * n))\n",
    "    y_2 = -1 * np.ones(int(0.5 * n))\n",
    "\n",
    "    x1 = np.concatenate((x1_1, x1_2))\n",
    "    x2 = np.concatenate((x2_1, x2_2))\n",
    "    y = np.concatenate((y_1, y_2))\n",
    "    X = np.array(list(zip(x1, x2)))\n",
    "\n",
    "    return (X, y)\n",
    "\n",
    "def svm(X, y):\n",
    "    clf = SVC(C=np.inf, kernel='linear')\n",
    "    clf.fit(X, y)\n",
    "    return (clf)"
   ]
  },
  {
   "cell_type": "code",
   "execution_count": 6,
   "metadata": {},
   "outputs": [],
   "source": [
    "def draw(X, y, clf):\n",
    "    plt.gca().spines['top'].set_visible(False)\n",
    "    plt.gca().spines['right'].set_visible(False)\n",
    "    plt.gca().spines['bottom'].set_color('yellow') # fancy gca, is for drawing a line box? \n",
    "    plt.gca().spines['left'].set_color('green') # fancy name, spine, just y-axis line\n",
    "    plt.xlabel('x1', fontsize=20, color='red'); plt.ylabel('x2', fontsize=20, color='red') # x,y- axis large title X1 and X2\n",
    "    plt.tick_params(axis='x', colors='blue')    # x-axis value itself\n",
    "    plt.tick_params(axis='y', colors='blue')    # y-axis value itslef\n",
    "\n",
    "    x_min, x_max = X[:, 0].min() - 1, X[:, 0].max() + 1\n",
    "    y_min, y_max = X[:, 1].min() - 1, X[:, 1].max() + 1\n",
    "    #h = 0.5  # step size in the mesh\n",
    "    xx, yy = np.meshgrid(np.arange(x_min, x_max, 50), np.arange(y_min, y_max, 10)) # WTF?.... what does mesh step size do in thi model? \n",
    "    \n",
    "    Z = clf.predict(np.c_[xx.ravel(), yy.ravel()])\n",
    "    Z = Z.reshape(xx.shape)\n",
    "    plt.contour(xx, yy, Z, colors='black', alpha=0.6)\n",
    "    plt.scatter(X[:, 0], X[:, 1], c = ['pink' if yy == 1 else '#78A5A3' for yy in y], edgecolor='none', s=30)\n",
    "\n",
    "\n",
    "\n",
    "\n",
    "    plt.close()\n",
    "\n",
    "if __name__ == '__main__':\n",
    "    X, y = generate_data(100)\n",
    "    clf = svm(X, y)\n",
    "    draw(X, y, clf) "
   ]
  },
  {
   "cell_type": "code",
   "execution_count": 7,
   "metadata": {
    "collapsed": true
   },
   "outputs": [],
   "source": [
    "# 2) linearly separable - with a few exceptions"
   ]
  },
  {
   "cell_type": "code",
   "execution_count": null,
   "metadata": {
    "collapsed": true
   },
   "outputs": [],
   "source": []
  }
 ],
 "metadata": {
  "kernelspec": {
   "display_name": "Python 3",
   "language": "python",
   "name": "python3"
  },
  "language_info": {
   "codemirror_mode": {
    "name": "ipython",
    "version": 3
   },
   "file_extension": ".py",
   "mimetype": "text/x-python",
   "name": "python",
   "nbconvert_exporter": "python",
   "pygments_lexer": "ipython3",
   "version": "3.6.1"
  }
 },
 "nbformat": 4,
 "nbformat_minor": 2
}
