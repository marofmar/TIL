{
 "cells": [
  {
   "cell_type": "code",
   "execution_count": 1,
   "metadata": {
    "collapsed": true
   },
   "outputs": [],
   "source": [
    "import numpy as np\n",
    "\n",
    "def main():\n",
    "    A = get_matrix()\n",
    "    print(matrix_tutorial(A))"
   ]
  },
  {
   "cell_type": "code",
   "execution_count": 2,
   "metadata": {
    "collapsed": true
   },
   "outputs": [],
   "source": [
    "def get_matrix():\n",
    "    mat = []\n",
    "    [n,m] = [int(x) for x in input().strip().split(\" \")]\n",
    "    for i in range(n):\n",
    "        row = [int(x) for x in input().strip().split(\" \")]\n",
    "        mat.append(row)\n",
    "    return np.array(mat)"
   ]
  },
  {
   "cell_type": "code",
   "execution_count": 6,
   "metadata": {
    "collapsed": false
   },
   "outputs": [],
   "source": [
    "def matrix_tutorial(A):\n",
    "    B = A.transpose()\n",
    "    C = np.linalg.inv(B) \n",
    "    if numpy.linalg.LinAlgError:\n",
    "        print(\"not invertible\")\n",
    "    D = np.count_nonzero(C)\n",
    "    return D"
   ]
  },
  {
   "cell_type": "code",
   "execution_count": 7,
   "metadata": {
    "collapsed": true
   },
   "outputs": [],
   "source": [
    "def matrix_tutorial(A):\n",
    "    # 2\n",
    "    B = A.transpose()   \n",
    "    # 3\n",
    "    try:\n",
    "        C = np.linalg.inv(B) \n",
    "       \n",
    "    except np.linalg.linalg.LinAlgError:\n",
    "        print(\"not invertible\")\n",
    "        \n",
    "    # 4\n",
    "     \n",
    "    return np.sum(1 for x in np.array(C) if x > 0)"
   ]
  },
  {
   "cell_type": "code",
   "execution_count": 10,
   "metadata": {
    "collapsed": true
   },
   "outputs": [],
   "source": [
    "# local variable 'C' referenced before assignment"
   ]
  },
  {
   "cell_type": "code",
   "execution_count": 2,
   "metadata": {
    "collapsed": false
   },
   "outputs": [
    {
     "ename": "IndentationError",
     "evalue": "expected an indented block (<ipython-input-2-890a2c11bec0>, line 7)",
     "output_type": "error",
     "traceback": [
      "\u001b[0;36m  File \u001b[0;32m\"<ipython-input-2-890a2c11bec0>\"\u001b[0;36m, line \u001b[0;32m7\u001b[0m\n\u001b[0;31m    return np.count(lst)\u001b[0m\n\u001b[0m                        ^\u001b[0m\n\u001b[0;31mIndentationError\u001b[0m\u001b[0;31m:\u001b[0m expected an indented block\n"
     ]
    }
   ],
   "source": [
    "lst = []\n",
    "for element in np.array(C):\n",
    "    if element > 0:\n",
    "        lst.append()\n",
    "    else:\n",
    "\n",
    "return np.count(lst)"
   ]
  },
  {
   "cell_type": "code",
   "execution_count": 7,
   "metadata": {
    "collapsed": false
   },
   "outputs": [
    {
     "ename": "SyntaxError",
     "evalue": "'return' outside function (<ipython-input-7-991da273c699>, line 2)",
     "output_type": "error",
     "traceback": [
      "\u001b[0;36m  File \u001b[0;32m\"<ipython-input-7-991da273c699>\"\u001b[0;36m, line \u001b[0;32m2\u001b[0m\n\u001b[0;31m    return np.sum([1 for element in C if x > 0])\u001b[0m\n\u001b[0m    ^\u001b[0m\n\u001b[0;31mSyntaxError\u001b[0m\u001b[0;31m:\u001b[0m 'return' outside function\n"
     ]
    }
   ],
   "source": [
    "for element in np.array(C):\n",
    "    return np.sum([1 for element in C if x > 0])"
   ]
  },
  {
   "cell_type": "code",
   "execution_count": 8,
   "metadata": {
    "collapsed": true
   },
   "outputs": [],
   "source": [
    "def matrix_tutorial(A):\n",
    "    # 2\n",
    "    B = A.transpose()\n",
    "\n",
    "    # 3\n",
    "    try:\n",
    "        C = np.linalg.inv(B)\n",
    "    except:\n",
    "        return \"not invertible\"\n",
    "\n",
    "    # 4\n",
    "    return np.sum(C > 0)"
   ]
  },
  {
   "cell_type": "code",
   "execution_count": null,
   "metadata": {
    "collapsed": true
   },
   "outputs": [],
   "source": []
  }
 ],
 "metadata": {
  "kernelspec": {
   "display_name": "Python 3",
   "language": "python",
   "name": "python3"
  },
  "language_info": {
   "codemirror_mode": {
    "name": "ipython",
    "version": 3
   },
   "file_extension": ".py",
   "mimetype": "text/x-python",
   "name": "python",
   "nbconvert_exporter": "python",
   "pygments_lexer": "ipython3",
   "version": "3.6.0"
  }
 },
 "nbformat": 4,
 "nbformat_minor": 2
}
