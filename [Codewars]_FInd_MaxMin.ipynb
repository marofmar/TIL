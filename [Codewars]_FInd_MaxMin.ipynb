{
 "cells": [
  {
   "cell_type": "code",
   "execution_count": 11,
   "metadata": {
    "collapsed": false
   },
   "outputs": [
    {
     "name": "stdout",
     "output_type": "stream",
     "text": [
      "124\n"
     ]
    }
   ],
   "source": [
    "def max(arr):\n",
    "    \n",
    "    largest = arr[0]\n",
    "    for i in arr[1:]:\n",
    "        if i > largest:\n",
    "            largest = i\n",
    "        \n",
    "            \n",
    "    return largest\n",
    "\n",
    "print(max([23,-9,78,124]))\n"
   ]
  },
  {
   "cell_type": "code",
   "execution_count": 12,
   "metadata": {
    "collapsed": false
   },
   "outputs": [],
   "source": [
    "#SyntaxError: unexpected EOF while parsing\n",
    "\n",
    "    "
   ]
  },
  {
   "cell_type": "code",
   "execution_count": 3,
   "metadata": {
    "collapsed": false
   },
   "outputs": [
    {
     "name": "stdout",
     "output_type": "stream",
     "text": [
      "98\n"
     ]
    }
   ],
   "source": [
    "arr = [1,23,45,-43,98]\n",
    "largest = arr[0]\n",
    "for i in arr[1:]:\n",
    "    if i > largest:\n",
    "        largest = i\n",
    "    \n",
    "        \n",
    "print (largest)"
   ]
  },
  {
   "cell_type": "code",
   "execution_count": 5,
   "metadata": {
    "collapsed": false
   },
   "outputs": [
    {
     "name": "stdout",
     "output_type": "stream",
     "text": [
      "-43\n"
     ]
    }
   ],
   "source": [
    "arr = [1,23,45,-43,98]\n",
    "smallest = arr[0]\n",
    "for i in arr[1:]:\n",
    "    if i < smallest:\n",
    "        smallest = i\n",
    "\n",
    "        \n",
    "print (smallest)"
   ]
  },
  {
   "cell_type": "code",
   "execution_count": null,
   "metadata": {
    "collapsed": true
   },
   "outputs": [],
   "source": []
  }
 ],
 "metadata": {
  "kernelspec": {
   "display_name": "Python 3",
   "language": "python",
   "name": "python3"
  }
 },
 "nbformat": 4,
 "nbformat_minor": 2
}
