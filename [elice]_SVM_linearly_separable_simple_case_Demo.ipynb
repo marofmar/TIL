{
 "cells": [
  {
   "cell_type": "code",
   "execution_count": 1,
   "metadata": {
    "collapsed": true
   },
   "outputs": [],
   "source": [
    "import matplotlib\n",
    "matplotlib.use('Agg')\n",
    "import matplotlib.pyplot as plt\n",
    "%matplotlib inline\n",
    "import numpy as np\n",
    "from sklearn.svm import SVC"
   ]
  },
  {
   "cell_type": "code",
   "execution_count": 2,
   "metadata": {
    "collapsed": true
   },
   "outputs": [],
   "source": [
    "# Below three: linear_func1, linear_func2, and genrate_data, are to generate random datapoints"
   ]
  },
  {
   "cell_type": "code",
   "execution_count": 4,
   "metadata": {
    "collapsed": true
   },
   "outputs": [],
   "source": [
    "def linear_func1(x):\n",
    "    l = len(x)\n",
    "    return (3*x + 100 + 30 * np.random.randn(l))\n",
    "\n",
    "\n",
    "# what is numpy.random.randn ?\n",
    "# return a sample or samples from the standard normal distribution"
   ]
  },
  {
   "cell_type": "code",
   "execution_count": 5,
   "metadata": {
    "collapsed": true
   },
   "outputs": [],
   "source": [
    "def linear_func2(x):\n",
    "    l = len(x)\n",
    "    return (3*x - 100 + 30 * np.random.randn(l))"
   ]
  },
  {
   "cell_type": "code",
   "execution_count": 6,
   "metadata": {
    "collapsed": true
   },
   "outputs": [],
   "source": [
    "def generate_data(n):\n",
    "    np.random.seed(328183)\n",
    "    x1_1 = (np.random.random(int(0.5 * n))-0.5) * 100\n",
    "    x2_1 = linear_func1(x1_1)\n",
    "    x1_2 = (np.random.random(int(0.5 * n))-0.5) * 100\n",
    "    x2_2 = linear_func2(x1_2)\n",
    "    y_1 = np.ones(int(0.5 * n))\n",
    "    y_2 = -1 * np.ones(int(0.5 * n))\n",
    "    \n",
    "    # Que es Numpy.one?\n",
    "    # numpy.ones(shape, dtype=None, order='C')[source]\n",
    "    # Return a new array of given shape and type, filled with ones.\n",
    "    \n",
    "    # numpy.random.seed\n",
    "    # numpy.random.seed(seed=None)\n",
    "    # Seed the generator.\n",
    "    \n",
    "    # numpy.random.random\n",
    "    # numpy.random.random(size=None)\n",
    "    # Return random floats in the half-open interval [0.0, 1.0).\n",
    "\n",
    "\n",
    "    \n",
    "    x1 = np.concatenate((x1_1, x1_2))\n",
    "    x2 = np.concatenate((x2_1, x2_2))\n",
    "    y = np.concatenate((y_1, y_2))\n",
    "    X = np.array(list(zip(x1, x2)))\n",
    "    \n",
    "    return (X, y)\n",
    "\n",
    "    # numpy concatenate \n",
    "    # numpy.concatenate((a1, a2, ...), axis=0)\n",
    "    # Join a sequence of arrays along an existing axis."
   ]
  },
  {
   "cell_type": "code",
   "execution_count": 8,
   "metadata": {
    "collapsed": false
   },
   "outputs": [
    {
     "name": "stdout",
     "output_type": "stream",
     "text": [
      "None\n"
     ]
    }
   ],
   "source": [
    "print(np.random.seed(328183))\n"
   ]
  },
  {
   "cell_type": "code",
   "execution_count": 10,
   "metadata": {
    "collapsed": false
   },
   "outputs": [
    {
     "name": "stdout",
     "output_type": "stream",
     "text": [
      "[ 37.86865666   4.75412331  38.67868454  47.09143877  35.32986931\n",
      "  47.07423873 -33.63263015  25.47859541  31.11393714  27.83130983\n",
      "  13.8573115   11.15035235  41.64106756 -13.05316871  17.2144833\n",
      " -49.35897705  22.21904972  43.36267219 -15.18788855 -19.46761478\n",
      " -47.59316548  48.56419588  11.34935837 -44.73813527  12.38948264\n",
      "  13.11617675  37.22269968 -41.9211563   21.93269074 -13.75216857\n",
      " -27.38692364 -10.62094084 -29.16032071  13.13414276   3.59270821\n",
      "  44.06645742  48.38106652   3.42746353  48.36055723 -21.62233129\n",
      " -47.67176738 -19.1385554  -43.35637572  25.15636945   0.83635505\n",
      " -12.69237471  -6.22489993  48.04027741 -27.91825954  -3.780981\n",
      "  19.10150468  28.94104579 -29.39985078  32.42205005   9.57565097\n",
      " -22.43053684 -42.21561989   9.51787917  -7.08568871  42.88596394\n",
      "  29.94005978]\n"
     ]
    }
   ],
   "source": [
    "print((np.random.random(int(0.5 * 123))-0.5) * 100)"
   ]
  },
  {
   "cell_type": "code",
   "execution_count": 11,
   "metadata": {
    "collapsed": false
   },
   "outputs": [
    {
     "name": "stdout",
     "output_type": "stream",
     "text": [
      "[ 1.92096269  0.38078777 -0.72124119  2.51418863 -0.52470176  1.09334227\n",
      "  2.22561641  1.87155499  3.79346939  1.74574982 -1.86089249 -3.52845994\n",
      "  2.97464411  3.99816709 -3.32521152  3.96760288  4.15385025  4.78799361\n",
      " -2.92270639 -1.78398    -2.18128095 -0.51640638  3.54015097  4.22606747\n",
      "  2.65700225 -2.36977701  3.47683801 -1.02038365  0.91357681  0.06925547\n",
      "  4.9009968  -1.06683141  1.75125719 -0.87518024 -3.33248097  2.50058745\n",
      " -1.48963102  0.70201315  0.90522466  3.01197108 -4.0971441  -4.78508685\n",
      "  3.72770353  1.73453154  3.35167219  3.34130576  3.04632377 -1.32333096\n",
      "  3.1361248  -1.22423465 -0.82717249  3.90910122 -1.26116322 -3.91753389\n",
      "  3.54854926  0.61310366  0.20832065 -4.99110416  1.15137425 -1.63890124\n",
      " -1.84446784]\n"
     ]
    }
   ],
   "source": [
    "print((np.random.random(int(0.5 * 123))-0.5) * 10)"
   ]
  },
  {
   "cell_type": "code",
   "execution_count": 19,
   "metadata": {
    "collapsed": false
   },
   "outputs": [
    {
     "ename": "SyntaxError",
     "evalue": "unexpected EOF while parsing (<ipython-input-19-c7e29a4d4821>, line 1)",
     "output_type": "error",
     "traceback": [
      "\u001b[0;36m  File \u001b[0;32m\"<ipython-input-19-c7e29a4d4821>\"\u001b[0;36m, line \u001b[0;32m1\u001b[0m\n\u001b[0;31m    print((np.random.random(int(0.5* 10)) * 10)\u001b[0m\n\u001b[0m                                               ^\u001b[0m\n\u001b[0;31mSyntaxError\u001b[0m\u001b[0;31m:\u001b[0m unexpected EOF while parsing\n"
     ]
    }
   ],
   "source": [
    "print((np.random.random(int(0.5* 10)) * 10)"
   ]
  },
  {
   "cell_type": "code",
   "execution_count": 13,
   "metadata": {
    "collapsed": false
   },
   "outputs": [
    {
     "name": "stdout",
     "output_type": "stream",
     "text": [
      "[-4.20319351  1.42510348  1.40442533  4.70932197 -0.64609197  0.12198536\n",
      " -1.56292169  1.94240902  1.54230155  4.64688898 -1.59041973 -0.75082326\n",
      "  3.75646549]\n"
     ]
    }
   ],
   "source": [
    "print((np.random.random(int(13))-0.5) * 10)"
   ]
  },
  {
   "cell_type": "code",
   "execution_count": 21,
   "metadata": {
    "collapsed": false
   },
   "outputs": [
    {
     "name": "stdout",
     "output_type": "stream",
     "text": [
      "[  57.03105248  238.73274002  176.40571     -37.25280378  132.17117719]\n"
     ]
    }
   ],
   "source": [
    "x1_1 = (np.random.random(int(0.5 * 10))-0.5) * 100\n",
    "print(linear_func1(x1_1))"
   ]
  },
  {
   "cell_type": "code",
   "execution_count": 22,
   "metadata": {
    "collapsed": false
   },
   "outputs": [
    {
     "name": "stdout",
     "output_type": "stream",
     "text": [
      "[ 23.71352669  13.57157624  24.55417525 -36.87928916 -47.23093411\n",
      " -19.76716474   4.86284547 -16.87283398 -48.30730725 -49.86101254\n",
      "   4.05747919 -21.27085862 -22.71798022 -12.22744699   5.17364491\n",
      " -24.7033109    5.99692203   8.59694891 -33.36523744  22.40742736\n",
      "  24.88470363 -26.57580149  11.03890023 -21.60713117 -38.11951431\n",
      "  37.75591223 -45.03392571  -2.89051194 -23.00910942 -47.49246067\n",
      " -22.68555456 -20.80523503  24.53935758 -17.22827759 -37.09126652\n",
      "   4.43920554 -30.57880761 -46.68503271  20.71711763  26.41386386\n",
      " -19.99711362 -19.9808207   47.97952111  22.74643674  24.73495951\n",
      " -37.14862899 -23.09117416  36.19239832 -35.16537607  33.1551646 ]\n",
      "[ -76.75212233   -8.68598499  -17.22083102 -223.13984945 -222.61317703\n",
      " -147.51062737  -65.37376027 -128.4812631  -241.22046487 -304.23887085\n",
      " -133.5824428  -109.35009665 -143.59166414 -211.58431412  -79.02948155\n",
      " -214.29921795 -100.47017441  -25.65718328 -139.36054723  -55.51618879\n",
      "  -75.52964865 -171.41031174 -135.57073231 -102.58642119 -228.13506539\n",
      "   23.90979347 -227.78862903  -28.28143399 -177.4871993  -220.58090239\n",
      " -211.00281938 -108.12723153   10.85445319 -173.57105218 -279.11100596\n",
      "  -84.34670224 -172.77586891 -296.25364007  -79.30389402    9.27147604\n",
      " -212.04136062 -185.01770729   41.39442017  -38.1697948    16.57639215\n",
      " -252.25906089  -73.08215235   33.82628903 -162.23422974  -17.01425127]\n"
     ]
    }
   ],
   "source": [
    "x1_2 = (np.random.random(int(0.5 * 100))-0.5) * 100\n",
    "x2_2 = linear_func2(x1_2)\n",
    "print(x1_2)\n",
    "print(x2_2)"
   ]
  },
  {
   "cell_type": "code",
   "execution_count": 24,
   "metadata": {
    "collapsed": false
   },
   "outputs": [
    {
     "name": "stdout",
     "output_type": "stream",
     "text": [
      "[-13.75815609  46.80907309  26.03339642 -45.18610818  11.28855215]\n",
      "[ 23.71352669  13.57157624  24.55417525 -36.87928916 -47.23093411\n",
      " -19.76716474   4.86284547 -16.87283398 -48.30730725 -49.86101254\n",
      "   4.05747919 -21.27085862 -22.71798022 -12.22744699   5.17364491\n",
      " -24.7033109    5.99692203   8.59694891 -33.36523744  22.40742736\n",
      "  24.88470363 -26.57580149  11.03890023 -21.60713117 -38.11951431\n",
      "  37.75591223 -45.03392571  -2.89051194 -23.00910942 -47.49246067\n",
      " -22.68555456 -20.80523503  24.53935758 -17.22827759 -37.09126652\n",
      "   4.43920554 -30.57880761 -46.68503271  20.71711763  26.41386386\n",
      " -19.99711362 -19.9808207   47.97952111  22.74643674  24.73495951\n",
      " -37.14862899 -23.09117416  36.19239832 -35.16537607  33.1551646 ]\n",
      "[-13.75815609  46.80907309  26.03339642 -45.18610818  11.28855215\n",
      "  23.71352669  13.57157624  24.55417525 -36.87928916 -47.23093411\n",
      " -19.76716474   4.86284547 -16.87283398 -48.30730725 -49.86101254\n",
      "   4.05747919 -21.27085862 -22.71798022 -12.22744699   5.17364491\n",
      " -24.7033109    5.99692203   8.59694891 -33.36523744  22.40742736\n",
      "  24.88470363 -26.57580149  11.03890023 -21.60713117 -38.11951431\n",
      "  37.75591223 -45.03392571  -2.89051194 -23.00910942 -47.49246067\n",
      " -22.68555456 -20.80523503  24.53935758 -17.22827759 -37.09126652\n",
      "   4.43920554 -30.57880761 -46.68503271  20.71711763  26.41386386\n",
      " -19.99711362 -19.9808207   47.97952111  22.74643674  24.73495951\n",
      " -37.14862899 -23.09117416  36.19239832 -35.16537607  33.1551646 ]\n"
     ]
    }
   ],
   "source": [
    "print(x1_1)\n",
    "print(x1_2)\n",
    "x1 = np.concatenate((x1_1, x1_2))\n",
    "print(x1)"
   ]
  },
  {
   "cell_type": "code",
   "execution_count": 26,
   "metadata": {
    "collapsed": false
   },
   "outputs": [
    {
     "name": "stdout",
     "output_type": "stream",
     "text": [
      "[ 1.  1.  1.  1.  1.  1.  1.  1.  1.  1.  1.  1.  1.  1.  1.  1.  1.  1.\n",
      "  1.  1.  1.  1.  1.  1.  1.  1.  1.  1.  1.  1.  1.  1.  1.  1.  1.  1.\n",
      "  1.  1.  1.  1.  1.  1.  1.  1.  1.  1.  1.  1.  1.  1.]\n"
     ]
    }
   ],
   "source": [
    "y_1 = np.ones(int(0.5 * 100))\n",
    "print(y_1)"
   ]
  },
  {
   "cell_type": "code",
   "execution_count": 27,
   "metadata": {
    "collapsed": false
   },
   "outputs": [
    {
     "name": "stdout",
     "output_type": "stream",
     "text": [
      "[-1. -1. -1. -1. -1. -1. -1. -1. -1. -1. -1. -1. -1. -1. -1. -1. -1. -1.\n",
      " -1. -1. -1. -1. -1. -1. -1. -1. -1. -1. -1. -1. -1. -1. -1. -1. -1. -1.\n",
      " -1. -1. -1. -1. -1. -1. -1. -1. -1. -1. -1. -1. -1. -1.]\n"
     ]
    }
   ],
   "source": [
    "y_2 = -1 * np.ones(int(0.5 * 100))\n",
    "print(y_2)"
   ]
  },
  {
   "cell_type": "code",
   "execution_count": 28,
   "metadata": {
    "collapsed": false
   },
   "outputs": [
    {
     "name": "stdout",
     "output_type": "stream",
     "text": [
      "[ 1.  1.  1.  1.  1.  1.  1.  1.  1.  1.  1.  1.  1.  1.  1.  1.  1.  1.\n",
      "  1.  1.  1.  1.  1.  1.  1.  1.  1.  1.  1.  1.  1.  1.  1.  1.  1.  1.\n",
      "  1.  1.  1.  1.  1.  1.  1.  1.  1.  1.  1.  1.  1.  1. -1. -1. -1. -1.\n",
      " -1. -1. -1. -1. -1. -1. -1. -1. -1. -1. -1. -1. -1. -1. -1. -1. -1. -1.\n",
      " -1. -1. -1. -1. -1. -1. -1. -1. -1. -1. -1. -1. -1. -1. -1. -1. -1. -1.\n",
      " -1. -1. -1. -1. -1. -1. -1. -1. -1. -1.]\n"
     ]
    }
   ],
   "source": [
    "y = np.concatenate((y_1, y_2))\n",
    "print(y)"
   ]
  },
  {
   "cell_type": "code",
   "execution_count": 33,
   "metadata": {
    "collapsed": false
   },
   "outputs": [
    {
     "name": "stdout",
     "output_type": "stream",
     "text": [
      "SVC(C=inf, cache_size=200, class_weight=None, coef0=0.0,\n",
      "  decision_function_shape=None, degree=3, gamma='auto', kernel='linear',\n",
      "  max_iter=-1, probability=False, random_state=None, shrinking=True,\n",
      "  tol=0.001, verbose=False)\n"
     ]
    }
   ],
   "source": [
    "print(clf)"
   ]
  },
  {
   "cell_type": "code",
   "execution_count": 37,
   "metadata": {
    "collapsed": false
   },
   "outputs": [
    {
     "name": "stdout",
     "output_type": "stream",
     "text": [
      "[array([[-50.91104157, -50.61104157, -50.31104157, ...,  48.68895843,\n",
      "         48.98895843,  49.28895843],\n",
      "       [-50.91104157, -50.61104157, -50.31104157, ...,  48.68895843,\n",
      "         48.98895843,  49.28895843],\n",
      "       [-50.91104157, -50.61104157, -50.31104157, ...,  48.68895843,\n",
      "         48.98895843,  49.28895843],\n",
      "       ..., \n",
      "       [-50.91104157, -50.61104157, -50.31104157, ...,  48.68895843,\n",
      "         48.98895843,  49.28895843],\n",
      "       [-50.91104157, -50.61104157, -50.31104157, ...,  48.68895843,\n",
      "         48.98895843,  49.28895843],\n",
      "       [-50.91104157, -50.61104157, -50.31104157, ...,  48.68895843,\n",
      "         48.98895843,  49.28895843]]), array([[-304.64755554, -304.64755554, -304.64755554, ..., -304.64755554,\n",
      "        -304.64755554, -304.64755554],\n",
      "       [-304.34755554, -304.34755554, -304.34755554, ..., -304.34755554,\n",
      "        -304.34755554, -304.34755554],\n",
      "       [-304.04755554, -304.04755554, -304.04755554, ..., -304.04755554,\n",
      "        -304.04755554, -304.04755554],\n",
      "       ..., \n",
      "       [ 293.85244446,  293.85244446,  293.85244446, ...,  293.85244446,\n",
      "         293.85244446,  293.85244446],\n",
      "       [ 294.15244446,  294.15244446,  294.15244446, ...,  294.15244446,\n",
      "         294.15244446,  294.15244446],\n",
      "       [ 294.45244446,  294.45244446,  294.45244446, ...,  294.45244446,\n",
      "         294.45244446,  294.45244446]])]\n"
     ]
    }
   ],
   "source": [
    "    x_min, x_max = X[:, 0].min() - 1, X[:, 0].max() + 1\n",
    "    y_min, y_max = X[:, 1].min() - 1, X[:, 1].max() + 1\n",
    "    h = 0.3  \n",
    "print(np.meshgrid(np.arange(x_min, x_max, h), np.arange(y_min, y_max, h)))"
   ]
  },
  {
   "cell_type": "code",
   "execution_count": null,
   "metadata": {
    "collapsed": true
   },
   "outputs": [],
   "source": []
  }
 ],
 "metadata": {
  "kernelspec": {
   "display_name": "Python 3",
   "language": "python",
   "name": "python3"
  },
  "language_info": {
   "codemirror_mode": {
    "name": "ipython",
    "version": 3
   },
   "file_extension": ".py",
   "mimetype": "text/x-python",
   "name": "python",
   "nbconvert_exporter": "python",
   "pygments_lexer": "ipython3",
   "version": "3.6.0"
  }
 },
 "nbformat": 4,
 "nbformat_minor": 2
}
