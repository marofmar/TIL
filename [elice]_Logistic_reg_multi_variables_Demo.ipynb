{
 "cells": [
  {
   "cell_type": "code",
   "execution_count": 2,
   "metadata": {
    "collapsed": false
   },
   "outputs": [],
   "source": [
    "from sklearn import linear_model\n",
    "import pandas as pd\n",
    "from sklearn.model_selection import train_test_split\n",
    "import matplotlib.pyplot as plt\n",
    "%matplotlib inline"
   ]
  },
  {
   "cell_type": "code",
   "execution_count": 3,
   "metadata": {
    "collapsed": true
   },
   "outputs": [],
   "source": [
    "data = pd.read_csv(\"Default.csv\", header = 0)\n",
    "response_var = 1\n",
    "y_vec = data.ix[:, response_var].as_matrix().squeeze()\n",
    "x_mat = data.ix[:, range(2,5)].as_matrix().reshape(-1,3)\n",
    "\n",
    "# multi_var_default(x_mat, y_vec)\n"
   ]
  },
  {
   "cell_type": "code",
   "execution_count": 8,
   "metadata": {
    "collapsed": false,
    "scrolled": true
   },
   "outputs": [
    {
     "name": "stdout",
     "output_type": "stream",
     "text": [
      "[[  0.00000000e+00   7.29526495e+02   4.43616251e+04]\n",
      " [  1.00000000e+00   8.17180407e+02   1.21061347e+04]\n",
      " [  0.00000000e+00   1.07354916e+03   3.17671390e+04]\n",
      " ..., \n",
      " [  0.00000000e+00   1.75025315e+03   5.15789402e+04]\n",
      " [  0.00000000e+00   1.51560624e+03   4.86885121e+04]\n",
      " [  0.00000000e+00   2.20246240e+03   4.72872571e+04]]\n"
     ]
    }
   ],
   "source": [
    "print(x_mat)"
   ]
  },
  {
   "cell_type": "code",
   "execution_count": 9,
   "metadata": {
    "collapsed": false
   },
   "outputs": [
    {
     "name": "stdout",
     "output_type": "stream",
     "text": [
      "[0 0 0 0 0 0 0 0 0 0 0 0 0 0 0 0 0 0 0 0 0 0 0 0 0 0 0 0 0 0 0 0 0 0 0 0 0\n",
      " 0 0 0 0 0 0 0 0 0 0 0 0 0 0 0 0 0 0 0 0 0 0 0 0 0 0 0 0 0 0 0 0 0 0 0 0 0\n",
      " 0 0 0 0 0 0 0 0 0 0 0 0 0 0 0 0 0 0 0 0 0 0 0 0 0 0 0 0 0 0 0 0 0 0 0 0 0\n",
      " 0 0 0 0 0 0 0 0 0 0 0 0 0 0 0 0 0 0 0 0 0 0 0 0 0 0 0 0 0 0 0 0 0 0 0 0 0\n",
      " 0 0 0 0 0 0 0 0 0 0 0 0 0 0 0 0 0 0 0 0 0 0 0 0 0 0 0 0 0 0 0 0 0 0 0 0 0\n",
      " 0 0 0 0 0 0 0 0 0 0 0 0 0 0 0 0 0 0 0 0 0 0 0 0 0 0 0 0 0 0 0 0 0 0 0 0 0\n",
      " 0 0 0 0 0 0 0 0 0 0 0 0 0 0 0 0 0 0 0 0 0 0 0 0 0 0 0 0 0 0 0 0 0 0 0 0 0\n",
      " 0 0 0 0 0 0 0 0 0 0 0 0 0 0 0 0 0 0 0 0 0 0 0 0 0 0 0 0 0 0 0 0 0 0 0 0 0\n",
      " 0 0 0 0 0 0 0 0 0 0 0 0 0 0 0 0 0 0 0 0 0 0 0 0 0 0 0 0 0 0 0 0 0 0 0 0 0\n",
      " 1 1 1 1 1 1 1 1 1 1 1 1 1 1 1 1 1 1 1 1 1 1 1 1 1 1 1 1 1 1 1 1 1 1 1 1 1\n",
      " 1 1 1 1 1 1 1 1 1 1 1 1 1 1 1 1 1 1 1 1 1 1 1 1 1 1 1 1 1 1 1 1 1 1 1 1 1\n",
      " 1 1 1 1 1 1 1 1 1 1 1 1 1 1 1 1 1 1 1 1 1 1 1 1 1 1 1 1 1 1 1 1 1 1 1 1 1\n",
      " 1 1 1 1 1 1 1 1 1 1 1 1 1 1 1 1 1 1 1 1 1 1 1 1 1 1 1 1 1 1 1 1 1 1 1 1 1\n",
      " 1 1 1 1 1 1 1 1 1 1 1 1 1 1 1 1 1 1 1 1 1 1 1 1 1 1 1 1 1 1 1 1 1 1 1 1 1\n",
      " 1 1 1 1 1 1 1 1 1 1 1 1 1 1 1 1 1 1 1 1 1 1 1 1 1 1 1 1 1 1 1 1 1 1 1 1 1\n",
      " 1 1 1 1 1 1 1 1 1 1 1 1 1 1 1 1 1 1 1 1 1 1 1 1 1 1 1 1 1 1 1 1 1 1 1 1 1\n",
      " 1 1 1 1 1 1 1 1 1 1 1 1 1 1 1 1 1 1 1 1 1 1 1 1 1 1 1 1 1 1 1 1 1 1 1 1 1\n",
      " 1 1 1 1 1 1 1 1 1 1 1 1 1 1 1 1 1 1 1 1 1 1 1 1 1 1 1 1 1 1 1 1 1 1 1 1 1]\n"
     ]
    }
   ],
   "source": [
    "print(y_vec)"
   ]
  },
  {
   "cell_type": "code",
   "execution_count": 14,
   "metadata": {
    "collapsed": false,
    "scrolled": true
   },
   "outputs": [
    {
     "name": "stdout",
     "output_type": "stream",
     "text": [
      "Independent variables: ALL\n",
      "Coefficients: [[ -1.72292013e+00   3.72892638e-03  -7.73316052e-05]]\n",
      "Intercept: [-1.47626442]\n",
      "Accuracy: 0.8507462686567164\n"
     ]
    }
   ],
   "source": [
    "\n",
    "data = pd.read_csv(\"Default.csv\", header = 0)\n",
    "response_var = 1\n",
    "y_vec = data.ix[:, response_var].as_matrix().squeeze()\n",
    "x_mat = data.ix[:, range(2,5)].as_matrix().reshape(-1,3)\n",
    "x_train, x_test, y_train, y_test = train_test_split(x_mat, y_vec, \n",
    "                                                   test_size = 0.2, random_state = 108)\n",
    "\n",
    "regr_logistic = linear_model.LogisticRegression()\n",
    "regr_logistic.fit(x_train, y_train)\n",
    "score = regr_logistic.score(x_test, y_test)\n",
    "\n",
    "print(\"Independent variables: {}\".format(\"ALL\"))\n",
    "print(\"Coefficients: {}\".format(regr_logistic.coef_))\n",
    "print(\"Intercept: {}\".format(regr_logistic.intercept_))\n",
    "print(\"Accuracy: {}\".format(score))\n",
    "\n"
   ]
  },
  {
   "cell_type": "code",
   "execution_count": 11,
   "metadata": {
    "collapsed": false,
    "scrolled": true
   },
   "outputs": [
    {
     "ename": "ValueError",
     "evalue": "x and y must be the same size",
     "output_type": "error",
     "traceback": [
      "\u001b[0;31m---------------------------------------------------------------------------\u001b[0m",
      "\u001b[0;31mValueError\u001b[0m                                Traceback (most recent call last)",
      "\u001b[0;32m<ipython-input-11-d98e05348c35>\u001b[0m in \u001b[0;36m<module>\u001b[0;34m()\u001b[0m\n\u001b[0;32m----> 1\u001b[0;31m \u001b[0mprint\u001b[0m\u001b[0;34m(\u001b[0m\u001b[0mplt\u001b[0m\u001b[0;34m.\u001b[0m\u001b[0mscatter\u001b[0m\u001b[0;34m(\u001b[0m\u001b[0mx_mat\u001b[0m\u001b[0;34m,\u001b[0m \u001b[0my_vec\u001b[0m\u001b[0;34m)\u001b[0m\u001b[0;34m)\u001b[0m  \u001b[0;31m# Oh, not working, due to the diff size\u001b[0m\u001b[0;34m\u001b[0m\u001b[0m\n\u001b[0m",
      "\u001b[0;32m/Users/solinyoon/anaconda/lib/python3.6/site-packages/matplotlib/pyplot.py\u001b[0m in \u001b[0;36mscatter\u001b[0;34m(x, y, s, c, marker, cmap, norm, vmin, vmax, alpha, linewidths, verts, edgecolors, hold, data, **kwargs)\u001b[0m\n\u001b[1;32m   3433\u001b[0m                          \u001b[0mvmin\u001b[0m\u001b[0;34m=\u001b[0m\u001b[0mvmin\u001b[0m\u001b[0;34m,\u001b[0m \u001b[0mvmax\u001b[0m\u001b[0;34m=\u001b[0m\u001b[0mvmax\u001b[0m\u001b[0;34m,\u001b[0m \u001b[0malpha\u001b[0m\u001b[0;34m=\u001b[0m\u001b[0malpha\u001b[0m\u001b[0;34m,\u001b[0m\u001b[0;34m\u001b[0m\u001b[0m\n\u001b[1;32m   3434\u001b[0m                          \u001b[0mlinewidths\u001b[0m\u001b[0;34m=\u001b[0m\u001b[0mlinewidths\u001b[0m\u001b[0;34m,\u001b[0m \u001b[0mverts\u001b[0m\u001b[0;34m=\u001b[0m\u001b[0mverts\u001b[0m\u001b[0;34m,\u001b[0m\u001b[0;34m\u001b[0m\u001b[0m\n\u001b[0;32m-> 3435\u001b[0;31m                          edgecolors=edgecolors, data=data, **kwargs)\n\u001b[0m\u001b[1;32m   3436\u001b[0m     \u001b[0;32mfinally\u001b[0m\u001b[0;34m:\u001b[0m\u001b[0;34m\u001b[0m\u001b[0m\n\u001b[1;32m   3437\u001b[0m         \u001b[0max\u001b[0m\u001b[0;34m.\u001b[0m\u001b[0m_hold\u001b[0m \u001b[0;34m=\u001b[0m \u001b[0mwashold\u001b[0m\u001b[0;34m\u001b[0m\u001b[0m\n",
      "\u001b[0;32m/Users/solinyoon/anaconda/lib/python3.6/site-packages/matplotlib/__init__.py\u001b[0m in \u001b[0;36minner\u001b[0;34m(ax, *args, **kwargs)\u001b[0m\n\u001b[1;32m   1890\u001b[0m                     warnings.warn(msg % (label_namer, func.__name__),\n\u001b[1;32m   1891\u001b[0m                                   RuntimeWarning, stacklevel=2)\n\u001b[0;32m-> 1892\u001b[0;31m             \u001b[0;32mreturn\u001b[0m \u001b[0mfunc\u001b[0m\u001b[0;34m(\u001b[0m\u001b[0max\u001b[0m\u001b[0;34m,\u001b[0m \u001b[0;34m*\u001b[0m\u001b[0margs\u001b[0m\u001b[0;34m,\u001b[0m \u001b[0;34m**\u001b[0m\u001b[0mkwargs\u001b[0m\u001b[0;34m)\u001b[0m\u001b[0;34m\u001b[0m\u001b[0m\n\u001b[0m\u001b[1;32m   1893\u001b[0m         \u001b[0mpre_doc\u001b[0m \u001b[0;34m=\u001b[0m \u001b[0minner\u001b[0m\u001b[0;34m.\u001b[0m\u001b[0m__doc__\u001b[0m\u001b[0;34m\u001b[0m\u001b[0m\n\u001b[1;32m   1894\u001b[0m         \u001b[0;32mif\u001b[0m \u001b[0mpre_doc\u001b[0m \u001b[0;32mis\u001b[0m \u001b[0;32mNone\u001b[0m\u001b[0;34m:\u001b[0m\u001b[0;34m\u001b[0m\u001b[0m\n",
      "\u001b[0;32m/Users/solinyoon/anaconda/lib/python3.6/site-packages/matplotlib/axes/_axes.py\u001b[0m in \u001b[0;36mscatter\u001b[0;34m(self, x, y, s, c, marker, cmap, norm, vmin, vmax, alpha, linewidths, verts, edgecolors, **kwargs)\u001b[0m\n\u001b[1;32m   3956\u001b[0m         \u001b[0my\u001b[0m \u001b[0;34m=\u001b[0m \u001b[0mnp\u001b[0m\u001b[0;34m.\u001b[0m\u001b[0mma\u001b[0m\u001b[0;34m.\u001b[0m\u001b[0mravel\u001b[0m\u001b[0;34m(\u001b[0m\u001b[0my\u001b[0m\u001b[0;34m)\u001b[0m\u001b[0;34m\u001b[0m\u001b[0m\n\u001b[1;32m   3957\u001b[0m         \u001b[0;32mif\u001b[0m \u001b[0mx\u001b[0m\u001b[0;34m.\u001b[0m\u001b[0msize\u001b[0m \u001b[0;34m!=\u001b[0m \u001b[0my\u001b[0m\u001b[0;34m.\u001b[0m\u001b[0msize\u001b[0m\u001b[0;34m:\u001b[0m\u001b[0;34m\u001b[0m\u001b[0m\n\u001b[0;32m-> 3958\u001b[0;31m             \u001b[0;32mraise\u001b[0m \u001b[0mValueError\u001b[0m\u001b[0;34m(\u001b[0m\u001b[0;34m\"x and y must be the same size\"\u001b[0m\u001b[0;34m)\u001b[0m\u001b[0;34m\u001b[0m\u001b[0m\n\u001b[0m\u001b[1;32m   3959\u001b[0m \u001b[0;34m\u001b[0m\u001b[0m\n\u001b[1;32m   3960\u001b[0m         \u001b[0;32mif\u001b[0m \u001b[0ms\u001b[0m \u001b[0;32mis\u001b[0m \u001b[0;32mNone\u001b[0m\u001b[0;34m:\u001b[0m\u001b[0;34m\u001b[0m\u001b[0m\n",
      "\u001b[0;31mValueError\u001b[0m: x and y must be the same size"
     ]
    },
    {
     "data": {
      "image/png": "[encoded data removed]",
      "text/plain": [
       "<matplotlib.figure.Figure at 0x11b50d0b8>"
      ]
     },
     "metadata": {},
     "output_type": "display_data"
    }
   ],
   "source": [
    "print(plt.scatter(x_mat, y_vec))  # Oh, not working, due to the diff size"
   ]
  },
  {
   "cell_type": "code",
   "execution_count": 15,
   "metadata": {
    "collapsed": false
   },
   "outputs": [
    {
     "name": "stdout",
     "output_type": "stream",
     "text": [
      "[array([[     0.       ,   2085.586978 ,  35657.22567  ],\n",
      "       [     0.       ,    728.3732513,  45131.71826  ],\n",
      "       [     0.       ,    386.0160493,  44694.03096  ],\n",
      "       ..., \n",
      "       [     0.       ,   1360.385782 ,  28992.00182  ],\n",
      "       [     0.       ,   1015.614837 ,  43218.79438  ],\n",
      "       [     0.       ,    186.5003869,  45430.55027  ]]), array([[  0.00000000e+00,   1.98145181e+03,   2.81278955e+04],\n",
      "       [  0.00000000e+00,   8.66028436e+02,   3.83634216e+04],\n",
      "       [  0.00000000e+00,   1.20056514e+03,   3.97186927e+04],\n",
      "       [  0.00000000e+00,   6.73399899e+02,   5.02562902e+04],\n",
      "       [  1.00000000e+00,   1.62789832e+03,   1.75469970e+04],\n",
      "       [  1.00000000e+00,   1.89366433e+03,   2.15263506e+04],\n",
      "       [  0.00000000e+00,   1.66175265e+03,   2.18714630e+04],\n",
      "       [  0.00000000e+00,   1.74191491e+03,   3.50674251e+04],\n",
      "       [  0.00000000e+00,   4.61638182e+02,   4.62212115e+04],\n",
      "       [  0.00000000e+00,   1.90737731e+03,   4.23468285e+04],\n",
      "       [  0.00000000e+00,   6.12383158e+02,   4.13797678e+04],\n",
      "       [  0.00000000e+00,   1.63161562e+03,   3.89069564e+04],\n",
      "       [  0.00000000e+00,   9.54261793e+02,   3.24575091e+04],\n",
      "       [  1.00000000e+00,   1.53801560e+03,   2.13569371e+04],\n",
      "       [  0.00000000e+00,   6.52397134e+02,   4.61550439e+04],\n",
      "       [  0.00000000e+00,   7.90597759e+02,   4.53031033e+04],\n",
      "       [  0.00000000e+00,   8.82991913e+02,   1.71817380e+04],\n",
      "       [  0.00000000e+00,   1.61048401e+03,   3.55897338e+04],\n",
      "       [  0.00000000e+00,   1.36296559e+03,   4.42179160e+04],\n",
      "       [  0.00000000e+00,   1.72143492e+03,   4.19997033e+04],\n",
      "       [  0.00000000e+00,   1.24355402e+03,   3.76343464e+04],\n",
      "       [  0.00000000e+00,   5.48037783e+02,   3.36056495e+04],\n",
      "       [  1.00000000e+00,   2.00803299e+03,   1.86014031e+04],\n",
      "       [  1.00000000e+00,   1.45300593e+03,   1.59330021e+04],\n",
      "       [  0.00000000e+00,   1.05661083e+03,   3.05466010e+04],\n",
      "       [  1.00000000e+00,   1.09963042e+03,   1.70640428e+04],\n",
      "       [  0.00000000e+00,   5.96964119e+02,   5.80883605e+04],\n",
      "       [  0.00000000e+00,   1.80768449e+03,   4.23089544e+04],\n",
      "       [  0.00000000e+00,   1.89110961e+03,   3.44486939e+04],\n",
      "       [  1.00000000e+00,   2.04741701e+03,   1.36785080e+04],\n",
      "       [  0.00000000e+00,   1.14914563e+03,   4.51947947e+04],\n",
      "       [  0.00000000e+00,   8.45698966e+02,   3.98995127e+04],\n",
      "       [  1.00000000e+00,   1.83914368e+03,   1.36253979e+04],\n",
      "       [  0.00000000e+00,   8.88613273e+02,   2.88997918e+04],\n",
      "       [  1.00000000e+00,   5.75382158e+02,   1.60056813e+04],\n",
      "       [  0.00000000e+00,   6.71061360e+02,   3.56891119e+04],\n",
      "       [  0.00000000e+00,   2.15528899e+03,   3.47872527e+04],\n",
      "       [  0.00000000e+00,   1.16679853e+03,   3.03676109e+04],\n",
      "       [  0.00000000e+00,   4.10497705e+02,   5.34712136e+04],\n",
      "       [  0.00000000e+00,   1.96456913e+02,   4.13467859e+04],\n",
      "       [  0.00000000e+00,   7.89495097e+02,   3.25799002e+04],\n",
      "       [  0.00000000e+00,   1.16553985e+03,   5.03415739e+04],\n",
      "       [  1.00000000e+00,   1.77096944e+03,   1.59755372e+04],\n",
      "       [  1.00000000e+00,   3.39424638e+02,   1.93079803e+04],\n",
      "       [  0.00000000e+00,   8.36300072e+02,   5.46071787e+04],\n",
      "       [  0.00000000e+00,   7.31532656e+02,   4.39560601e+04],\n",
      "       [  1.00000000e+00,   2.65432258e+03,   2.19303889e+04],\n",
      "       [  1.00000000e+00,   1.55102347e+03,   1.90275086e+04],\n",
      "       [  1.00000000e+00,   1.49972466e+03,   1.31906527e+04],\n",
      "       [  1.00000000e+00,   1.72647961e+03,   1.36546049e+04],\n",
      "       [  1.00000000e+00,   1.50307513e+03,   1.06004135e+04],\n",
      "       [  0.00000000e+00,   0.00000000e+00,   3.49253654e+04],\n",
      "       [  0.00000000e+00,   1.11483218e+03,   3.97769990e+04],\n",
      "       [  1.00000000e+00,   1.87482261e+03,   1.49578163e+04],\n",
      "       [  0.00000000e+00,   1.49605647e+03,   2.49359187e+04],\n",
      "       [  1.00000000e+00,   8.93330468e+02,   1.19056818e+04],\n",
      "       [  0.00000000e+00,   2.18722485e+03,   4.22051231e+04],\n",
      "       [  0.00000000e+00,   1.39815620e+03,   3.96449422e+04],\n",
      "       [  0.00000000e+00,   1.06688408e+03,   4.49184123e+04],\n",
      "       [  1.00000000e+00,   1.56767928e+03,   1.91726794e+04],\n",
      "       [  0.00000000e+00,   7.29526495e+02,   4.43616251e+04],\n",
      "       [  1.00000000e+00,   8.17180407e+02,   1.21061347e+04],\n",
      "       [  0.00000000e+00,   1.86106087e+03,   5.56717237e+04],\n",
      "       [  0.00000000e+00,   1.75025315e+03,   5.15789402e+04],\n",
      "       [  0.00000000e+00,   1.47812407e+03,   3.15153445e+04],\n",
      "       [  0.00000000e+00,   1.40438307e+03,   3.50431060e+04],\n",
      "       [  0.00000000e+00,   1.30648457e+03,   4.12246250e+04],\n",
      "       [  0.00000000e+00,   1.31981645e+03,   3.65488184e+04],\n",
      "       [  0.00000000e+00,   0.00000000e+00,   5.02653124e+04],\n",
      "       [  1.00000000e+00,   1.54309958e+03,   1.83046506e+04],\n",
      "       [  0.00000000e+00,   1.57548782e+03,   3.57354550e+04],\n",
      "       [  0.00000000e+00,   1.85460415e+03,   3.84063565e+04],\n",
      "       [  0.00000000e+00,   1.66595462e+03,   3.00701353e+04],\n",
      "       [  1.00000000e+00,   1.50089453e+03,   1.58022329e+04],\n",
      "       [  0.00000000e+00,   1.65577560e+03,   2.56397935e+04],\n",
      "       [  1.00000000e+00,   1.95692391e+03,   1.55743900e+04],\n",
      "       [  0.00000000e+00,   1.57234559e+03,   3.78951731e+04],\n",
      "       [  0.00000000e+00,   5.61925799e+02,   3.13885056e+04],\n",
      "       [  0.00000000e+00,   1.53171646e+03,   4.39304001e+04],\n",
      "       [  1.00000000e+00,   1.69023441e+03,   1.90525722e+04],\n",
      "       [  0.00000000e+00,   9.10449023e+02,   4.40549164e+04],\n",
      "       [  1.00000000e+00,   1.40226752e+03,   1.21043156e+04],\n",
      "       [  1.00000000e+00,   2.21601767e+03,   2.09116956e+04],\n",
      "       [  1.00000000e+00,   1.50429018e+03,   1.39651860e+04],\n",
      "       [  1.00000000e+00,   1.73753781e+03,   2.09740346e+04],\n",
      "       [  1.00000000e+00,   8.13994566e+02,   2.03915289e+04],\n",
      "       [  1.00000000e+00,   1.70457853e+03,   1.68874051e+04],\n",
      "       [  0.00000000e+00,   1.89832350e+03,   6.10112159e+04],\n",
      "       [  0.00000000e+00,   2.00698617e+03,   5.00335332e+04],\n",
      "       [  1.00000000e+00,   7.48301340e+02,   1.12486707e+04],\n",
      "       [  0.00000000e+00,   1.99439507e+03,   4.47943375e+04],\n",
      "       [  0.00000000e+00,   1.32272398e+03,   2.32299091e+04],\n",
      "       [  0.00000000e+00,   1.92828028e+03,   3.54921282e+04],\n",
      "       [  0.00000000e+00,   2.06287063e+03,   3.08391807e+04],\n",
      "       [  0.00000000e+00,   8.62656656e+02,   4.28448340e+04],\n",
      "       [  1.00000000e+00,   8.76000778e+02,   2.24745741e+04],\n",
      "       [  1.00000000e+00,   7.15164110e+02,   2.11535110e+04],\n",
      "       [  0.00000000e+00,   5.90399787e+02,   4.27692039e+04],\n",
      "       [  0.00000000e+00,   8.20919204e+02,   4.77465421e+04],\n",
      "       [  1.00000000e+00,   1.83616176e+03,   1.89448079e+04],\n",
      "       [  1.00000000e+00,   1.11956935e+03,   1.65560702e+04],\n",
      "       [  1.00000000e+00,   7.06161028e+02,   1.80783518e+04],\n",
      "       [  0.00000000e+00,   2.13346421e+03,   2.82378823e+04],\n",
      "       [  0.00000000e+00,   1.43412772e+03,   4.73115304e+04],\n",
      "       [  0.00000000e+00,   6.90800792e+02,   4.81404713e+04],\n",
      "       [  0.00000000e+00,   6.06742343e+02,   4.49945558e+04],\n",
      "       [  1.00000000e+00,   1.29221087e+03,   2.30658510e+04],\n",
      "       [  0.00000000e+00,   1.40843809e+03,   4.80129136e+04],\n",
      "       [  1.00000000e+00,   1.46493605e+03,   2.67166864e+04],\n",
      "       [  1.00000000e+00,   8.08667504e+02,   1.76004513e+04],\n",
      "       [  0.00000000e+00,   6.66608881e+02,   3.04384688e+04],\n",
      "       [  0.00000000e+00,   1.53659460e+03,   4.87669075e+04],\n",
      "       [  0.00000000e+00,   1.96994292e+03,   2.94157533e+04],\n",
      "       [  1.00000000e+00,   8.50096117e+02,   1.86189879e+04],\n",
      "       [  0.00000000e+00,   1.50619185e+03,   4.70613945e+04],\n",
      "       [  0.00000000e+00,   1.03850001e+03,   5.11731414e+04],\n",
      "       [  1.00000000e+00,   9.96543862e+02,   1.69956604e+04],\n",
      "       [  0.00000000e+00,   1.82375143e+03,   5.35263564e+04],\n",
      "       [  0.00000000e+00,   1.36352860e+03,   5.57130416e+04],\n",
      "       [  0.00000000e+00,   1.29243021e+03,   5.09905772e+04],\n",
      "       [  0.00000000e+00,   8.57485118e+02,   3.16883460e+04],\n",
      "       [  1.00000000e+00,   2.02466017e+03,   9.66378816e+03],\n",
      "       [  1.00000000e+00,   1.40220573e+03,   1.59642092e+04],\n",
      "       [  0.00000000e+00,   1.30234183e+03,   3.36954262e+04],\n",
      "       [  0.00000000e+00,   1.84488384e+03,   3.55086754e+04],\n",
      "       [  0.00000000e+00,   1.82612854e+01,   3.03494604e+04],\n",
      "       [  0.00000000e+00,   1.54989467e+03,   4.79162949e+04],\n",
      "       [  0.00000000e+00,   1.47650978e+03,   4.29844129e+04],\n",
      "       [  1.00000000e+00,   1.64728225e+03,   1.61544623e+04],\n",
      "       [  0.00000000e+00,   3.69221942e+02,   4.78350911e+04],\n",
      "       [  0.00000000e+00,   5.27194087e+02,   3.24311183e+04],\n",
      "       [  0.00000000e+00,   0.00000000e+00,   3.03605489e+04],\n",
      "       [  0.00000000e+00,   1.82340411e+03,   1.46641381e+04],\n",
      "       [  0.00000000e+00,   1.99164912e+03,   4.21333732e+04]]), array([1, 0, 0, 0, 1, 0, 1, 0, 1, 0, 0, 1, 0, 0, 0, 1, 0, 1, 0, 1, 0, 0, 1,\n",
      "       0, 0, 1, 1, 0, 0, 1, 1, 0, 0, 1, 0, 0, 0, 0, 0, 1, 0, 0, 1, 0, 0, 1,\n",
      "       0, 0, 1, 1, 1, 0, 0, 1, 1, 0, 1, 1, 0, 1, 1, 0, 0, 1, 0, 0, 1, 0, 1,\n",
      "       1, 1, 1, 1, 0, 0, 1, 0, 1, 1, 1, 0, 1, 0, 0, 1, 0, 1, 0, 1, 0, 1, 1,\n",
      "       1, 0, 1, 0, 0, 0, 0, 0, 1, 0, 1, 1, 1, 0, 0, 0, 0, 0, 1, 1, 1, 1, 0,\n",
      "       1, 0, 0, 1, 1, 0, 1, 0, 1, 0, 1, 1, 0, 1, 0, 0, 0, 1, 0, 0, 0, 1, 1,\n",
      "       1, 0, 1, 1, 1, 0, 0, 0, 1, 0, 0, 1, 1, 1, 1, 0, 1, 0, 1, 0, 0, 0, 0,\n",
      "       0, 1, 1, 0, 0, 0, 0, 0, 0, 1, 1, 0, 0, 0, 1, 0, 0, 1, 0, 1, 1, 0, 0,\n",
      "       1, 1, 1, 0, 0, 1, 1, 1, 1, 1, 1, 0, 1, 0, 1, 0, 0, 1, 1, 1, 1, 1, 1,\n",
      "       1, 0, 0, 1, 0, 1, 0, 0, 0, 0, 0, 1, 1, 1, 1, 0, 1, 1, 0, 0, 1, 1, 0,\n",
      "       0, 0, 0, 0, 1, 1, 0, 1, 0, 1, 1, 0, 0, 0, 1, 0, 1, 0, 0, 0, 1, 1, 1,\n",
      "       0, 1, 1, 1, 0, 0, 0, 1, 1, 0, 0, 0, 1, 0, 0, 1, 1, 0, 1, 1, 0, 0, 1,\n",
      "       1, 1, 0, 0, 0, 0, 1, 1, 1, 1, 0, 1, 1, 0, 1, 1, 0, 1, 0, 0, 1, 0, 1,\n",
      "       1, 1, 1, 1, 0, 0, 1, 0, 0, 1, 0, 0, 1, 0, 1, 1, 0, 1, 0, 0, 0, 0, 1,\n",
      "       1, 0, 1, 0, 0, 0, 1, 1, 0, 1, 1, 1, 0, 0, 0, 1, 0, 1, 1, 1, 1, 1, 1,\n",
      "       0, 0, 1, 1, 1, 1, 1, 0, 1, 1, 0, 1, 1, 1, 1, 0, 1, 1, 0, 0, 0, 0, 0,\n",
      "       0, 0, 0, 0, 1, 1, 1, 1, 0, 1, 0, 1, 1, 0, 1, 1, 0, 1, 0, 1, 0, 0, 0,\n",
      "       0, 1, 0, 0, 0, 0, 0, 0, 0, 0, 0, 1, 0, 0, 1, 1, 1, 0, 0, 1, 1, 0, 1,\n",
      "       1, 1, 0, 0, 1, 1, 1, 0, 0, 0, 1, 0, 0, 1, 1, 1, 0, 1, 0, 1, 1, 0, 0,\n",
      "       1, 1, 1, 1, 0, 0, 1, 0, 0, 0, 0, 1, 1, 0, 0, 1, 0, 1, 0, 1, 0, 0, 1,\n",
      "       1, 1, 1, 0, 1, 1, 1, 1, 0, 0, 0, 0, 0, 1, 1, 0, 1, 0, 0, 0, 0, 1, 1,\n",
      "       0, 1, 1, 1, 1, 1, 0, 1, 0, 1, 0, 1, 1, 0, 1, 0, 0, 1, 0, 1, 0, 1, 0,\n",
      "       1, 1, 0, 1, 0, 1, 1, 1, 1, 0, 0, 0, 1, 0, 0, 1, 1, 1, 1, 0, 0, 1, 1,\n",
      "       1, 0, 0]), array([1, 0, 0, 0, 1, 1, 1, 1, 0, 1, 0, 1, 0, 1, 1, 0, 0, 1, 0, 1, 1, 0, 1,\n",
      "       0, 0, 0, 0, 1, 1, 1, 0, 0, 0, 0, 0, 0, 1, 1, 0, 0, 0, 1, 1, 0, 0, 0,\n",
      "       1, 1, 0, 1, 0, 0, 1, 1, 0, 0, 1, 0, 1, 1, 0, 0, 1, 1, 1, 0, 0, 1, 0,\n",
      "       1, 1, 1, 1, 1, 1, 1, 1, 0, 1, 0, 0, 1, 1, 1, 1, 0, 1, 1, 1, 0, 1, 1,\n",
      "       1, 1, 0, 0, 0, 0, 0, 1, 0, 0, 1, 1, 0, 0, 0, 1, 0, 0, 0, 0, 1, 0, 1,\n",
      "       0, 0, 1, 0, 1, 0, 1, 1, 0, 1, 0, 1, 1, 1, 0, 0, 0, 1, 1])]\n"
     ]
    }
   ],
   "source": [
    "print(train_test_split(x_mat, y_vec, \n",
    "                                                   test_size = 0.2, random_state = 108))"
   ]
  },
  {
   "cell_type": "code",
   "execution_count": 16,
   "metadata": {
    "collapsed": false,
    "scrolled": true
   },
   "outputs": [
    {
     "name": "stdout",
     "output_type": "stream",
     "text": [
      "LogisticRegression(C=1.0, class_weight=None, dual=False, fit_intercept=True,\n",
      "          intercept_scaling=1, max_iter=100, multi_class='ovr', n_jobs=1,\n",
      "          penalty='l2', random_state=None, solver='liblinear', tol=0.0001,\n",
      "          verbose=0, warm_start=False)\n"
     ]
    }
   ],
   "source": [
    "print(regr_logistic.fit(x_train, y_train))"
   ]
  },
  {
   "cell_type": "code",
   "execution_count": 17,
   "metadata": {
    "collapsed": true
   },
   "outputs": [],
   "source": [
    "# What is the penalty enclosed in this model?"
   ]
  },
  {
   "cell_type": "code",
   "execution_count": 19,
   "metadata": {
    "collapsed": false
   },
   "outputs": [
    {
     "name": "stdout",
     "output_type": "stream",
     "text": [
      "0.850746268657\n"
     ]
    }
   ],
   "source": [
    "print(regr_logistic.score(x_test, y_test))"
   ]
  },
  {
   "cell_type": "code",
   "execution_count": 21,
   "metadata": {
    "collapsed": false
   },
   "outputs": [
    {
     "name": "stdout",
     "output_type": "stream",
     "text": [
      "0.853383458647\n"
     ]
    }
   ],
   "source": [
    "print(regr_logistic.score(x_train, y_train))"
   ]
  },
  {
   "cell_type": "code",
   "execution_count": null,
   "metadata": {
    "collapsed": true
   },
   "outputs": [],
   "source": []
  }
 ],
 "metadata": {
  "kernelspec": {
   "display_name": "Python 3",
   "language": "python",
   "name": "python3"
  },
  "language_info": {
   "codemirror_mode": {
    "name": "ipython",
    "version": 3
   },
   "file_extension": ".py",
   "mimetype": "text/x-python",
   "name": "python",
   "nbconvert_exporter": "python",
   "pygments_lexer": "ipython3",
   "version": "3.6.0"
  }
 },
 "nbformat": 4,
 "nbformat_minor": 2
}
