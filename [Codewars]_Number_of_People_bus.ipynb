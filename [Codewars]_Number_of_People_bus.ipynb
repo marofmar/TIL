{
 "cells": [
  {
   "cell_type": "code",
   "execution_count": 1,
   "metadata": {
    "collapsed": true
   },
   "outputs": [],
   "source": [
    "# [# of people come in, # of people get off]"
   ]
  },
  {
   "cell_type": "code",
   "execution_count": 3,
   "metadata": {
    "collapsed": false
   },
   "outputs": [
    {
     "ename": "SyntaxError",
     "evalue": "invalid syntax (<ipython-input-3-274349c83b71>, line 3)",
     "output_type": "error",
     "traceback": [
      "\u001b[0;36m  File \u001b[0;32m\"<ipython-input-3-274349c83b71>\"\u001b[0;36m, line \u001b[0;32m3\u001b[0m\n\u001b[0;31m    i = sum.i[0] for i in x\u001b[0m\n\u001b[0m                   ^\u001b[0m\n\u001b[0;31mSyntaxError\u001b[0m\u001b[0;31m:\u001b[0m invalid syntax\n"
     ]
    }
   ],
   "source": [
    "def number(x):\n",
    "\n",
    "    i = sum.i[0] for i in x\n",
    "    o = sum.i[1] for i in x\n",
    "    \n",
    "    return (i - o)\n",
    "        \n",
    "    \n",
    "\n",
    "x = [[10,0],[3,5],[5,8]]\n",
    "print(number(x))"
   ]
  },
  {
   "cell_type": "code",
   "execution_count": 4,
   "metadata": {
    "collapsed": false
   },
   "outputs": [
    {
     "name": "stdout",
     "output_type": "stream",
     "text": [
      "5\n"
     ]
    }
   ],
   "source": [
    "def number(x):\n",
    "\n",
    "    come = []\n",
    "    for i in x:\n",
    "        come.append(i[0])\n",
    "        \n",
    "    go = []\n",
    "    for i in x:\n",
    "        go.append(i[1])\n",
    "        \n",
    "    Total = sum(come)-sum(go)\n",
    "    return Total\n",
    "        \n",
    "    \n",
    "\n",
    "x = [[10,0],[3,5],[5,8]]\n",
    "print(number(x))"
   ]
  },
  {
   "cell_type": "code",
   "execution_count": 5,
   "metadata": {
    "collapsed": true
   },
   "outputs": [],
   "source": [
    "# Let's see others'"
   ]
  },
  {
   "cell_type": "code",
   "execution_count": 6,
   "metadata": {
    "collapsed": true
   },
   "outputs": [],
   "source": [
    "def number(bus_stops):\n",
    "    return sum([stop[0]-stop[1] for stop in bus_stops])"
   ]
  },
  {
   "cell_type": "code",
   "execution_count": 7,
   "metadata": {
    "collapsed": true
   },
   "outputs": [],
   "source": [
    "def number(stops):\n",
    "    return sum(i-o for i, o in stops)"
   ]
  },
  {
   "cell_type": "code",
   "execution_count": null,
   "metadata": {
    "collapsed": true
   },
   "outputs": [],
   "source": []
  }
 ],
 "metadata": {
  "kernelspec": {
   "display_name": "Python 3",
   "language": "python",
   "name": "python3"
  },
  "language_info": {
   "codemirror_mode": {
    "name": "ipython",
    "version": 3
   },
   "file_extension": ".py",
   "mimetype": "text/x-python",
   "name": "python",
   "nbconvert_exporter": "python",
   "pygments_lexer": "ipython3",
   "version": "3.6.0"
  }
 },
 "nbformat": 4,
 "nbformat_minor": 2
}
