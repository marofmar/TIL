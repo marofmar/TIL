{
 "cells": [
  {
   "cell_type": "code",
   "execution_count": 2,
   "metadata": {
    "collapsed": false
   },
   "outputs": [
    {
     "name": "stdout",
     "output_type": "stream",
     "text": [
      "[[1 4]\n",
      " [5 8]\n",
      " [2 1]\n",
      " [7 3]\n",
      " [5 4]\n",
      " [5 9]]\n"
     ]
    }
   ],
   "source": [
    "import numpy as np\n",
    "A = np.array([[1,4,5,8], [2,1,7,3], [5,4,5,9]])\n",
    "\n",
    "    \n",
    "B = A.reshape((6,2))\n",
    "print(B)  "
   ]
  },
  {
   "cell_type": "code",
   "execution_count": 4,
   "metadata": {
    "collapsed": false
   },
   "outputs": [
    {
     "name": "stdout",
     "output_type": "stream",
     "text": [
      "[[1 4]\n",
      " [5 8]\n",
      " [2 1]\n",
      " [7 3]\n",
      " [5 4]\n",
      " [5 9]\n",
      " [2 2]\n",
      " [5 3]]\n"
     ]
    }
   ],
   "source": [
    "add_b = np.array([[2,2],[5,3]])\n",
    "B_Y = np.concatenate((B,add_b),axis = 0)\n",
    "print (B_Y)"
   ]
  },
  {
   "cell_type": "code",
   "execution_count": 6,
   "metadata": {
    "collapsed": false
   },
   "outputs": [
    {
     "name": "stdout",
     "output_type": "stream",
     "text": [
      "[[1 4]\n",
      " [5 8]\n",
      " [2 1]\n",
      " [7 3]]\n"
     ]
    }
   ],
   "source": [
    "slice_B_two = np.split(B_Y,2,axis=0)\n",
    "print (slice_B_two[0])"
   ]
  },
  {
   "cell_type": "code",
   "execution_count": 9,
   "metadata": {
    "collapsed": false
   },
   "outputs": [
    {
     "name": "stdout",
     "output_type": "stream",
     "text": [
      "6\n"
     ]
    }
   ],
   "source": [
    "# Stats with Numpy\n",
    "A = np.array([1,2,3])\n",
    "print(np.sum(A))"
   ]
  },
  {
   "cell_type": "code",
   "execution_count": 10,
   "metadata": {
    "collapsed": false
   },
   "outputs": [
    {
     "name": "stdout",
     "output_type": "stream",
     "text": [
      "[4 5 6]\n"
     ]
    }
   ],
   "source": [
    "add_A = A+3\n",
    "print(add_A)"
   ]
  },
  {
   "cell_type": "code",
   "execution_count": 11,
   "metadata": {
    "collapsed": false
   },
   "outputs": [
    {
     "name": "stdout",
     "output_type": "stream",
     "text": [
      "[3 6 9]\n"
     ]
    }
   ],
   "source": [
    "mul_A = A * 3\n",
    "print(mul_A)"
   ]
  },
  {
   "cell_type": "code",
   "execution_count": 12,
   "metadata": {
    "collapsed": false
   },
   "outputs": [
    {
     "name": "stdout",
     "output_type": "stream",
     "text": [
      "162.6\n",
      "45.0\n"
     ]
    }
   ],
   "source": [
    " # Thousands of things affect to be eventually close to somebody. So do not blame yourself. \n",
    "    # Your distinctive characteristic is just one of those, the thousands.\n",
    "\n",
    "    \n",
    "B = np.array([13,32,45,678,45])\n",
    "print(np.mean(B))\n",
    "print(np.median(B))"
   ]
  },
  {
   "cell_type": "code",
   "execution_count": 13,
   "metadata": {
    "collapsed": false
   },
   "outputs": [
    {
     "name": "stdout",
     "output_type": "stream",
     "text": [
      "257.966354395\n"
     ]
    }
   ],
   "source": [
    "print(np.std(B))"
   ]
  },
  {
   "cell_type": "code",
   "execution_count": 14,
   "metadata": {
    "collapsed": false
   },
   "outputs": [
    {
     "name": "stdout",
     "output_type": "stream",
     "text": [
      "66546.64\n"
     ]
    }
   ],
   "source": [
    "print(np.var(B))"
   ]
  },
  {
   "cell_type": "code",
   "execution_count": 15,
   "metadata": {
    "collapsed": false
   },
   "outputs": [
    {
     "name": "stdout",
     "output_type": "stream",
     "text": [
      "[[1 4 5 4]\n",
      " [5 8 5 9]\n",
      " [2 1 2 2]\n",
      " [7 3 5 3]]\n"
     ]
    }
   ],
   "source": [
    "A = np.array([[1,4,5,8], [2,1,7,3], [5,4,5,9]])\n",
    "\n",
    "B = A.reshape((6, 2))\n",
    "B = np.concatenate((B, np.array([[2, 2], [5, 3]])), axis = 0)\n",
    "(C, D) = np.split(B, 2, axis = 0)\n",
    "E = np.concatenate((C, D), axis = 1)\n",
    "print(E)"
   ]
  },
  {
   "cell_type": "code",
   "execution_count": 16,
   "metadata": {
    "collapsed": false
   },
   "outputs": [
    {
     "name": "stdout",
     "output_type": "stream",
     "text": [
      "4.125\n"
     ]
    }
   ],
   "source": [
    "E_mean = np.mean(E)\n",
    "print(E_mean)"
   ]
  },
  {
   "cell_type": "code",
   "execution_count": 17,
   "metadata": {
    "collapsed": false
   },
   "outputs": [
    {
     "name": "stdout",
     "output_type": "stream",
     "text": [
      "2.31503239718\n"
     ]
    }
   ],
   "source": [
    "E_std=np.std(E)\n",
    "print(E_std)"
   ]
  },
  {
   "cell_type": "code",
   "execution_count": 22,
   "metadata": {
    "collapsed": false
   },
   "outputs": [
    {
     "name": "stdout",
     "output_type": "stream",
     "text": [
      "[[-1.34987312 -0.05399492  0.37796447 -0.05399492]\n",
      " [ 0.37796447  1.67384267  0.37796447  2.10580206]\n",
      " [-0.91791372 -1.34987312 -0.91791372 -0.91791372]\n",
      " [ 1.24188327 -0.48595432  0.37796447 -0.48595432]]\n"
     ]
    }
   ],
   "source": [
    "norm_E=np.array((E-(E_mean))/(E_std))\n",
    "print (norm_E)"
   ]
  },
  {
   "cell_type": "code",
   "execution_count": 23,
   "metadata": {
    "collapsed": false
   },
   "outputs": [
    {
     "name": "stdout",
     "output_type": "stream",
     "text": [
      "0.0\n"
     ]
    }
   ],
   "source": [
    "print(np.sum(norm_E))"
   ]
  },
  {
   "cell_type": "code",
   "execution_count": 24,
   "metadata": {
    "collapsed": false
   },
   "outputs": [
    {
     "name": "stdout",
     "output_type": "stream",
     "text": [
      "66\n"
     ]
    }
   ],
   "source": [
    "print(np.sum(E))"
   ]
  },
  {
   "cell_type": "code",
   "execution_count": 25,
   "metadata": {
    "collapsed": false
   },
   "outputs": [
    {
     "name": "stdout",
     "output_type": "stream",
     "text": [
      "66\n"
     ]
    }
   ],
   "source": [
    "# Normalizing to make the total sum of the components be 1\n",
    "sum_E = np.sum(E)\n",
    "print(sum_E)"
   ]
  },
  {
   "cell_type": "code",
   "execution_count": 26,
   "metadata": {
    "collapsed": false
   },
   "outputs": [
    {
     "name": "stdout",
     "output_type": "stream",
     "text": [
      "[[ 0.01515152  0.06060606  0.07575758  0.06060606]\n",
      " [ 0.07575758  0.12121212  0.07575758  0.13636364]\n",
      " [ 0.03030303  0.01515152  0.03030303  0.03030303]\n",
      " [ 0.10606061  0.04545455  0.07575758  0.04545455]]\n"
     ]
    }
   ],
   "source": [
    "div_E=np.array(E / sum_E)\n",
    "print(div_E)"
   ]
  },
  {
   "cell_type": "code",
   "execution_count": 28,
   "metadata": {
    "collapsed": false
   },
   "outputs": [
    {
     "name": "stdout",
     "output_type": "stream",
     "text": [
      "1.0\n"
     ]
    }
   ],
   "source": [
    "weight_E=np.sum(div_E)\n",
    "print(weight_E)"
   ]
  },
  {
   "cell_type": "code",
   "execution_count": null,
   "metadata": {
    "collapsed": true
   },
   "outputs": [],
   "source": []
  }
 ],
 "metadata": {
  "kernelspec": {
   "display_name": "Python 3",
   "language": "python",
   "name": "python3"
  },
  "language_info": {
   "codemirror_mode": {
    "name": "ipython",
    "version": 3
   },
   "file_extension": ".py",
   "mimetype": "text/x-python",
   "name": "python",
   "nbconvert_exporter": "python",
   "pygments_lexer": "ipython3",
   "version": "3.6.0"
  }
 },
 "nbformat": 4,
 "nbformat_minor": 2
}
