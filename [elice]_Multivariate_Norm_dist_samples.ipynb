{
 "cells": [
  {
   "cell_type": "code",
   "execution_count": 1,
   "metadata": {
    "collapsed": true
   },
   "outputs": [],
   "source": [
    "# 단변량 정규분포와 달리, 다변량 정규분포는 파라미터로써 평균벡터와 공분산 행렬을 갖습니다.\n",
    "# 평균벡터는 다변량 정규분포의 중심(중심경향성)을 결정하고, 공분산 행렬은 분포가 중심으로부터 얼마나\n",
    "# 떨어져 있는지 (변산성)을 나타내는 대칭 행렬.\n",
    "# 정규분포가 다차원으로 확장됐을 때, 어떤 형태를 갖게되고, 여기서 추출된 표본의 분포는 어떠한지.\n",
    "# numpy.random.multivariate_normal(mu, sigma,number of samples)\n",
    "# and return in np.array()"
   ]
  },
  {
   "cell_type": "code",
   "execution_count": null,
   "metadata": {
    "collapsed": true
   },
   "outputs": [],
   "source": []
  }
 ],
 "metadata": {
  "kernelspec": {
   "display_name": "Python 3",
   "language": "python",
   "name": "python3"
  },
  "language_info": {
   "codemirror_mode": {
    "name": "ipython",
    "version": 3
   },
   "file_extension": ".py",
   "mimetype": "text/x-python",
   "name": "python",
   "nbconvert_exporter": "python",
   "pygments_lexer": "ipython3",
   "version": "3.6.1"
  }
 },
 "nbformat": 4,
 "nbformat_minor": 2
}
