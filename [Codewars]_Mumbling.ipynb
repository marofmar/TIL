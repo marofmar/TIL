{
 "cells": [
  {
   "cell_type": "code",
   "execution_count": 1,
   "metadata": {
    "collapsed": true
   },
   "outputs": [],
   "source": [
    "#Writing function <accum>\n",
    "# accum(\"abd\") A-Bb-Ddd\n",
    "# accum(\"RqaE\") R-Qq-Aaa-Eeee\n",
    "\n",
    "# String indexing, slicing"
   ]
  },
  {
   "cell_type": "code",
   "execution_count": 16,
   "metadata": {
    "collapsed": false
   },
   "outputs": [
    {
     "name": "stdout",
     "output_type": "stream",
     "text": [
      "['a', 'pp', 'ppp', 'llll', 'eeeee']\n"
     ]
    }
   ],
   "source": [
    "def accum(s):\n",
    "    \n",
    "    list = [s[i]*(i+1) for i in range(len(s))]\n",
    "    print(list)\n",
    "    \n",
    "s = 'apple'\n",
    "accum(s)"
   ]
  },
  {
   "cell_type": "code",
   "execution_count": 19,
   "metadata": {
    "collapsed": false
   },
   "outputs": [
    {
     "name": "stdout",
     "output_type": "stream",
     "text": [
      "['A', 'Pp', 'Ppp', 'Llll', 'Eeeee']\n"
     ]
    }
   ],
   "source": [
    "def accum(s):\n",
    "    \n",
    "    list = [s[i]*(i+1) for i in range(len(s))]\n",
    "    listt = [i[0].upper() + i[1:].lower() for i in list]\n",
    "    print(listt)\n",
    "    \n",
    "s = 'apple'\n",
    "accum(s)"
   ]
  },
  {
   "cell_type": "code",
   "execution_count": 25,
   "metadata": {
    "collapsed": false
   },
   "outputs": [
    {
     "name": "stdout",
     "output_type": "stream",
     "text": [
      "['A', 'Pp', 'Ppp', 'Llll', 'Eeeee']\n"
     ]
    }
   ],
   "source": [
    "def accum(s):\n",
    "    \n",
    "    list = [s[i]*(i+1) for i in range(len(s))]\n",
    "    listt = [i[0].upper() + (len(i)-1)*i[0].lower() for i in list]\n",
    "    \n",
    "    print(listt)\n",
    "    \n",
    "s = 'apple'\n",
    "accum(s)"
   ]
  },
  {
   "cell_type": "code",
   "execution_count": 36,
   "metadata": {
    "collapsed": false
   },
   "outputs": [
    {
     "name": "stdout",
     "output_type": "stream",
     "text": [
      "A-Pp-Ppp-Llll-Eeeee\n"
     ]
    }
   ],
   "source": [
    "def accum(s):\n",
    "    \n",
    "    list = [s[i]*(i+1) for i in range(len(s))]\n",
    "    listt = [i[0].upper() + i[1:].lower() for i in list]\n",
    "    print (\"-\".join(listt))\n",
    "    \n",
    "s = 'apple'\n",
    "accum(s)"
   ]
  },
  {
   "cell_type": "code",
   "execution_count": 41,
   "metadata": {
    "collapsed": false
   },
   "outputs": [
    {
     "name": "stdout",
     "output_type": "stream",
     "text": [
      "A-Pp-Ppp-Llll-Eeeee\n",
      "Z-Pp-Ggg-Llll-Nnnnn-Rrrrrr-Xxxxxxx-Qqqqqqqq-Eeeeeeeee-Nnnnnnnnnn-Uuuuuuuuuuu\n"
     ]
    }
   ],
   "source": [
    "def accum(s):\n",
    "    \n",
    "    list = [s[i]*(i+1) for i in range(len(s))]\n",
    "    listt = [i[0].upper() + i[1:].lower() for i in list]\n",
    "    print (\"-\".join(listt))\n",
    "    \n",
    "s = 'apple'\n",
    "accum(s)\n",
    "accum(\"ZpglnRxqenU\")"
   ]
  },
  {
   "cell_type": "code",
   "execution_count": 42,
   "metadata": {
    "collapsed": false
   },
   "outputs": [
    {
     "name": "stdout",
     "output_type": "stream",
     "text": [
      "\"A-Pp-Ppp-Llll-Eeeee\"\n",
      "\"Z-Pp-Ggg-Llll-Nnnnn-Rrrrrr-Xxxxxxx-Qqqqqqqq-Eeeeeeeee-Nnnnnnnnnn-Uuuuuuuuuuu\"\n"
     ]
    }
   ],
   "source": [
    "def accum(s):\n",
    "    \n",
    "    list = [s[i]*(i+1) for i in range(len(s))]\n",
    "    listt = [i[0].upper() + i[1:].lower() for i in list]\n",
    "    print ('\"' + \"-\".join(listt) + '\"')\n",
    "    \n",
    "s = 'apple'\n",
    "accum(s)\n",
    "accum(\"ZpglnRxqenU\")"
   ]
  },
  {
   "cell_type": "code",
   "execution_count": 43,
   "metadata": {
    "collapsed": true
   },
   "outputs": [],
   "source": [
    "# change print to return, for make it legitimate function itself\n",
    "\n",
    "def accum(s):\n",
    "    \n",
    "    list = [s[i]*(i+1) for i in range(len(s))]\n",
    "    listt = [i[0].upper() + i[1:].lower() for i in list]\n",
    "    return \"-\".join(listt) "
   ]
  },
  {
   "cell_type": "code",
   "execution_count": 44,
   "metadata": {
    "collapsed": true
   },
   "outputs": [],
   "source": [
    "### Let's see others' works ###"
   ]
  },
  {
   "cell_type": "code",
   "execution_count": 45,
   "metadata": {
    "collapsed": true
   },
   "outputs": [],
   "source": [
    "def accum(s):\n",
    "    return '-'.join(c.upper() + c.lower() * i for i, c in enumerate(s))"
   ]
  },
  {
   "cell_type": "code",
   "execution_count": 46,
   "metadata": {
    "collapsed": true
   },
   "outputs": [],
   "source": [
    "# function 'enumerate' \n",
    "# (0, thing[0]), (1, thing[1]), (2, thing[2]), and so forth"
   ]
  },
  {
   "cell_type": "code",
   "execution_count": 47,
   "metadata": {
    "collapsed": true
   },
   "outputs": [],
   "source": [
    "def accum(s):\n",
    "    return \"-\".join([c.upper() + c.lower() * i for i , c in enumerate(s)])"
   ]
  },
  {
   "cell_type": "code",
   "execution_count": null,
   "metadata": {
    "collapsed": true
   },
   "outputs": [],
   "source": []
  }
 ],
 "metadata": {
  "kernelspec": {
   "display_name": "Python 3",
   "language": "python",
   "name": "python3"
  },
  "language_info": {
   "codemirror_mode": {
    "name": "ipython",
    "version": 3
   },
   "file_extension": ".py",
   "mimetype": "text/x-python",
   "name": "python",
   "nbconvert_exporter": "python",
   "pygments_lexer": "ipython3",
   "version": "3.6.0"
  }
 },
 "nbformat": 4,
 "nbformat_minor": 2
}
