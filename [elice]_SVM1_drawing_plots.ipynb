{
 "cells": [
  {
   "cell_type": "code",
   "execution_count": 1,
   "metadata": {
    "collapsed": true
   },
   "outputs": [],
   "source": [
    "# what is pyplot gca?\n",
    "    #matplotlib.pyplot.gca(**kwargs)\n",
    "    #Get the current Axes instance on the current figure \n",
    "    #matching the given keyword args, or create one.\n",
    "# and there is also pyplot gcf?\n",
    "    #matplotlib.pyplot.gcf()\n",
    "    #Get a reference to the current figure.\n",
    "# and matplotlib.spines\n",
    "    #"
   ]
  },
  {
   "cell_type": "code",
   "execution_count": 1,
   "metadata": {
    "collapsed": true
   },
   "outputs": [],
   "source": [
    "# Penalty parameter C\n",
    "# shows how much you want to avoid misclassifications\n",
    "# larger the C is, narrower the margin separating hyperplanes"
   ]
  },
  {
   "cell_type": "code",
   "execution_count": 2,
   "metadata": {
    "collapsed": true
   },
   "outputs": [],
   "source": [
    "# Normal equation invertiblity\n",
    "# Redundant features, where two features are very closely related (i.e. they are linearly dependent)\n",
    "# Too many features (e.g. m ≤ n). \n",
    "# In this case, delete some features or use \"regularization\" (to be explained in a later lesson)."
   ]
  },
  {
   "cell_type": "code",
   "execution_count": null,
   "metadata": {
    "collapsed": true
   },
   "outputs": [],
   "source": []
  }
 ],
 "metadata": {
  "kernelspec": {
   "display_name": "Python 3",
   "language": "python",
   "name": "python3"
  },
  "language_info": {
   "codemirror_mode": {
    "name": "ipython",
    "version": 3
   },
   "file_extension": ".py",
   "mimetype": "text/x-python",
   "name": "python",
   "nbconvert_exporter": "python",
   "pygments_lexer": "ipython3",
   "version": "3.6.1"
  }
 },
 "nbformat": 4,
 "nbformat_minor": 2
}
