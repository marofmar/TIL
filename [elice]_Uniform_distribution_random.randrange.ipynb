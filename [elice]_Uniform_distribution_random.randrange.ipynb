{
 "cells": [
  {
   "cell_type": "code",
   "execution_count": 1,
   "metadata": {
    "collapsed": false
   },
   "outputs": [
    {
     "name": "stdout",
     "output_type": "stream",
     "text": [
      "Enter > 3 1000\n",
      "2.000999001 0.666332668331\n"
     ]
    }
   ],
   "source": [
    "# random.randrange(a,b)\n",
    "# Randomly choosing a single figure starting from a to (b-1)\n",
    "# random.randrange([start], stop[, step])\n",
    "'''\n",
    "Return a randomly selected element from range(start, stop, step). \n",
    "This is equivalent to choice(range(start, stop, step)), \n",
    "but doesn’t actually build a range object.\n",
    "'''\n",
    "\n",
    "import matplotlib\n",
    "matplotlib.use('Agg')\n",
    "\n",
    "import matplotlib.pyplot as plt\n",
    "import random\n",
    "import numpy as np\n",
    "\n",
    "def getStatistics(data):\n",
    "    average = np.mean(data)\n",
    "    variance = np.var(data)\n",
    "    \n",
    "    return (average, variance)\n",
    "\n",
    "def doSample(n,m):\n",
    "    result = []\n",
    "    for i in range(m+1):\n",
    "        x = random.randrange(1,n+1)\n",
    "        result.append(x)\n",
    "    \n",
    "    return result\n",
    "\n",
    "def plotResult(data):\n",
    "    frequency = [ 0 for i in range(max(data)+1)]\n",
    "    \n",
    "    for element in data:\n",
    "        frequency[element] += 1\n",
    "    \n",
    "    n = len(frequency)\n",
    "    \n",
    "    myRange = range(1,n)\n",
    "    width = 1\n",
    "    \n",
    "    plt.bar(myRange, frequency[1:])\n",
    "    \n",
    "    plt.xlabel(\"Sample\", fontsize = 20)\n",
    "    plt.ylabel(\"Frequency\", fontsize = 20)\n",
    "    \n",
    "    filename = \"chart.svg\"\n",
    "    plt.savefig(filename)\n",
    "    \n",
    "    plt.close()\n",
    "    \n",
    "def main():\n",
    "    \n",
    "    line = [int(x) for x in input(\"Enter > \").split()]\n",
    "    \n",
    "    n = line[0]\n",
    "    m = line[1]\n",
    "    \n",
    "    result = doSample(n,m)\n",
    "    \n",
    "    plotResult(result)\n",
    "    \n",
    "    stat = getStatistics(result)\n",
    "    \n",
    "    print(str(stat[0]) + \" \" + str(stat[1]))\n",
    "    \n",
    "if __name__ == \"__main__\":\n",
    "    main()\n",
    "                                   \n",
    "    "
   ]
  },
  {
   "cell_type": "code",
   "execution_count": 4,
   "metadata": {
    "collapsed": true
   },
   "outputs": [],
   "source": [
    "# Hm.. don't get this code. How can I bring up 'data' into this? "
   ]
  },
  {
   "cell_type": "code",
   "execution_count": 8,
   "metadata": {
    "collapsed": false
   },
   "outputs": [
    {
     "name": "stdout",
     "output_type": "stream",
     "text": [
      "입력 > 3 4 \n"
     ]
    },
    {
     "ename": "TypeError",
     "evalue": "'int' object is not iterable",
     "output_type": "error",
     "traceback": [
      "\u001b[0;31m---------------------------------------------------------------------------\u001b[0m",
      "\u001b[0;31mTypeError\u001b[0m                                 Traceback (most recent call last)",
      "\u001b[0;32m<ipython-input-8-2161551916f5>\u001b[0m in \u001b[0;36m<module>\u001b[0;34m()\u001b[0m\n\u001b[1;32m      4\u001b[0m \u001b[0mm\u001b[0m \u001b[0;34m=\u001b[0m \u001b[0mline\u001b[0m\u001b[0;34m[\u001b[0m\u001b[0;36m1\u001b[0m\u001b[0;34m]\u001b[0m\u001b[0;34m\u001b[0m\u001b[0m\n\u001b[1;32m      5\u001b[0m \u001b[0mresult\u001b[0m \u001b[0;34m=\u001b[0m \u001b[0;34m[\u001b[0m\u001b[0;34m]\u001b[0m\u001b[0;34m\u001b[0m\u001b[0m\n\u001b[0;32m----> 6\u001b[0;31m \u001b[0;32mfor\u001b[0m \u001b[0mi\u001b[0m \u001b[0;32min\u001b[0m \u001b[0mm\u001b[0m\u001b[0;34m:\u001b[0m\u001b[0;34m\u001b[0m\u001b[0m\n\u001b[0m\u001b[1;32m      7\u001b[0m     \u001b[0mresult\u001b[0m\u001b[0;34m.\u001b[0m\u001b[0mappend\u001b[0m\u001b[0;34m(\u001b[0m\u001b[0mrandom\u001b[0m\u001b[0;34m.\u001b[0m\u001b[0mrandrange\u001b[0m\u001b[0;34m(\u001b[0m\u001b[0;36m1\u001b[0m\u001b[0;34m,\u001b[0m\u001b[0mn\u001b[0m\u001b[0;34m)\u001b[0m\u001b[0;34m)\u001b[0m\u001b[0;34m\u001b[0m\u001b[0m\n",
      "\u001b[0;31mTypeError\u001b[0m: 'int' object is not iterable"
     ]
    }
   ],
   "source": [
    "line = [int(x) for x in input(\"Enter > \").split()]\n",
    "n = line[0]\n",
    "m = line[1]\n",
    "\n",
    "result = []\n",
    "for i in m:\n",
    "    result.append(random.randrange(1,n))"
   ]
  },
  {
   "cell_type": "code",
   "execution_count": 1,
   "metadata": {
    "collapsed": false
   },
   "outputs": [
    {
     "data": {
      "text/plain": [
       "'\\nPython defines \"Iterable\" as an object capable of returning its members one at a time.\\n'"
      ]
     },
     "execution_count": 1,
     "metadata": {},
     "output_type": "execute_result"
    }
   ],
   "source": [
    "#TypeError: 'int' object is not iterable\n",
    "\n",
    "# What does it mean 'not iterabel' in Python?\n",
    "'''\n",
    "Python defines \"Iterable\" as an object capable of returning its members one at a time.\n",
    "'''\n",
    "\n"
   ]
  },
  {
   "cell_type": "code",
   "execution_count": 3,
   "metadata": {
    "collapsed": false
   },
   "outputs": [
    {
     "name": "stdout",
     "output_type": "stream",
     "text": [
      "Enter > 3 10\n"
     ]
    },
    {
     "ename": "TypeError",
     "evalue": "'int' object is not iterable",
     "output_type": "error",
     "traceback": [
      "\u001b[0;31m---------------------------------------------------------------------------\u001b[0m",
      "\u001b[0;31mTypeError\u001b[0m                                 Traceback (most recent call last)",
      "\u001b[0;32m<ipython-input-3-4f9a90e88ea1>\u001b[0m in \u001b[0;36m<module>\u001b[0;34m()\u001b[0m\n\u001b[1;32m      3\u001b[0m \u001b[0mm\u001b[0m \u001b[0;34m=\u001b[0m \u001b[0mline\u001b[0m\u001b[0;34m[\u001b[0m\u001b[0;36m1\u001b[0m\u001b[0;34m]\u001b[0m\u001b[0;34m\u001b[0m\u001b[0m\n\u001b[1;32m      4\u001b[0m \u001b[0;34m\u001b[0m\u001b[0m\n\u001b[0;32m----> 5\u001b[0;31m \u001b[0;32mfor\u001b[0m \u001b[0mi\u001b[0m \u001b[0;32min\u001b[0m \u001b[0mm\u001b[0m\u001b[0;34m:\u001b[0m\u001b[0;34m\u001b[0m\u001b[0m\n\u001b[0m\u001b[1;32m      6\u001b[0m     \u001b[0mresult\u001b[0m \u001b[0;34m=\u001b[0m \u001b[0;34m[\u001b[0m\u001b[0mrandom\u001b[0m\u001b[0;34m.\u001b[0m\u001b[0mrandrange\u001b[0m\u001b[0;34m(\u001b[0m\u001b[0;36m1\u001b[0m\u001b[0;34m,\u001b[0m\u001b[0mn\u001b[0m\u001b[0;34m)\u001b[0m\u001b[0;34m]\u001b[0m\u001b[0;34m\u001b[0m\u001b[0m\n",
      "\u001b[0;31mTypeError\u001b[0m: 'int' object is not iterable"
     ]
    }
   ],
   "source": [
    "line = [int(x) for x in input(\"Enter > \").split()]\n",
    "n = line[0]\n",
    "m = line[1]\n",
    "\n",
    "for i in m:\n",
    "    result = [random.randrange(1,n)]"
   ]
  },
  {
   "cell_type": "code",
   "execution_count": null,
   "metadata": {
    "collapsed": true
   },
   "outputs": [],
   "source": []
  }
 ],
 "metadata": {
  "kernelspec": {
   "display_name": "Python 3",
   "language": "python",
   "name": "python3"
  },
  "language_info": {
   "codemirror_mode": {
    "name": "ipython",
    "version": 3
   },
   "file_extension": ".py",
   "mimetype": "text/x-python",
   "name": "python",
   "nbconvert_exporter": "python",
   "pygments_lexer": "ipython3",
   "version": "3.6.0"
  }
 },
 "nbformat": 4,
 "nbformat_minor": 2
}
