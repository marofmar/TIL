{
 "cells": [
  {
   "cell_type": "code",
   "execution_count": 2,
   "metadata": {
    "collapsed": false
   },
   "outputs": [],
   "source": [
    "class Stack:\n",
    "    def __init__(self):\n",
    "        self.myStack=[]\n",
    "        \n",
    "    def push(self,n):\n",
    "        self.myStack.append(n)\n",
    "        \n",
    "    def pop(self):\n",
    "        if not self.empty():\n",
    "            top = self.myStack\n",
    "            del self.myStack[-1]\n",
    "            return top\n",
    "    def size(self):\n",
    "            return len(self.myStack)\n",
    "        \n",
    "    def empty(self):\n",
    "            if self.size()==0:\n",
    "                return 1\n",
    "            else:\n",
    "                return 0\n",
    "            \n",
    "    def top(self):\n",
    "        if self.empty():\n",
    "            return -1\n",
    "        else:\n",
    "            return self.myStack[-1]\n",
    "        \n",
    "def main():\n",
    "    stack=Stack()\n",
    "    \n",
    "    stack.push(3)\n",
    "    stack.push(2)\n",
    "    stack.push(8)\n",
    "    \n",
    "    print(stack.size())\n",
    "    print(stack.top())\n",
    "    print(stack.empty())\n",
    "    "
   ]
  },
  {
   "cell_type": "code",
   "execution_count": null,
   "metadata": {
    "collapsed": true
   },
   "outputs": [],
   "source": []
  }
 ],
 "metadata": {
  "kernelspec": {
   "display_name": "Python 3",
   "language": "python",
   "name": "python3"
  },
  "language_info": {
   "codemirror_mode": {
    "name": "ipython",
    "version": 3
   },
   "file_extension": ".py",
   "mimetype": "text/x-python",
   "name": "python",
   "nbconvert_exporter": "python",
   "pygments_lexer": "ipython3",
   "version": "3.6.0"
  }
 },
 "nbformat": 4,
 "nbformat_minor": 2
}
