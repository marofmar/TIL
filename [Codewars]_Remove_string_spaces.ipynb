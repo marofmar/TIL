{
 "cells": [
  {
   "cell_type": "code",
   "execution_count": 4,
   "metadata": {
    "collapsed": false
   },
   "outputs": [
    {
     "name": "stdout",
     "output_type": "stream",
     "text": [
      "['8', 'j', '8', 'mBliB8g', 'imjB8B8', 'jl', 'B']\n"
     ]
    }
   ],
   "source": [
    "def no_space(x):\n",
    "    return x.split()\n",
    "    \n",
    "d = '8 j 8   mBliB8g  imjB8B8  jl  B'\n",
    "print(no_space(d))"
   ]
  },
  {
   "cell_type": "code",
   "execution_count": 5,
   "metadata": {
    "collapsed": false
   },
   "outputs": [
    {
     "name": "stdout",
     "output_type": "stream",
     "text": [
      "8 j 8   mBliB8g  imjB8B8  jl  B\n"
     ]
    }
   ],
   "source": [
    "def no_space(x):\n",
    "    return x\n",
    "    \n",
    "d = '8 j 8   mBliB8g  imjB8B8  jl  B'\n",
    "print(no_space(d))"
   ]
  },
  {
   "cell_type": "code",
   "execution_count": 6,
   "metadata": {
    "collapsed": true
   },
   "outputs": [],
   "source": [
    "# If I want to remove the first and the last white space, I can use strip()\n",
    "# rstrip(), lstrip()\n",
    "# If I want to remove all spaces,\n",
    "# str.replace(\" \",\"\")"
   ]
  },
  {
   "cell_type": "code",
   "execution_count": 10,
   "metadata": {
    "collapsed": false
   },
   "outputs": [
    {
     "name": "stdout",
     "output_type": "stream",
     "text": [
      "8j8mBliB8gimjB8B8jlB\n"
     ]
    }
   ],
   "source": [
    "def no_space(x):\n",
    "    return x.replace(\" \",\"\")\n",
    "    \n",
    "d = '8 j 8   mBliB8g  imjB8B8  jl  B'\n",
    "print(no_space(d))"
   ]
  },
  {
   "cell_type": "code",
   "execution_count": null,
   "metadata": {
    "collapsed": true
   },
   "outputs": [],
   "source": []
  }
 ],
 "metadata": {
  "kernelspec": {
   "display_name": "Python 3",
   "language": "python",
   "name": "python3"
  },
  "language_info": {
   "codemirror_mode": {
    "name": "ipython",
    "version": 3
   },
   "file_extension": ".py",
   "mimetype": "text/x-python",
   "name": "python",
   "nbconvert_exporter": "python",
   "pygments_lexer": "ipython3",
   "version": "3.6.0"
  }
 },
 "nbformat": 4,
 "nbformat_minor": 2
}
