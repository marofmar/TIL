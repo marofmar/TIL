{
 "cells": [
  {
   "cell_type": "code",
   "execution_count": 2,
   "metadata": {
    "collapsed": true
   },
   "outputs": [],
   "source": [
    "# Mean and Standard deviation are required to define Gaussian distribution\n",
    "# Comparing sample mean and std to those of the population\n",
    "# How close each other\n",
    "\n",
    "\n",
    "# numpy.random.normal(mean, variance, number of samples)\n",
    "\n",
    "# To generate Gaussian distribution\n",
    "# Use numpy.random.normal(mu, sigma, n)\n"
   ]
  },
  {
   "cell_type": "code",
   "execution_count": 5,
   "metadata": {
    "collapsed": false
   },
   "outputs": [
    {
     "name": "stdout",
     "output_type": "stream",
     "text": [
      "Enter > 10 20 100\n"
     ]
    }
   ],
   "source": [
    "import matplotlib\n",
    "matplotlib.use('Agg')\n",
    "\n",
    "import matplotlib.pyplot as plt\n",
    "import random \n",
    "import numpy as np\n",
    "\n",
    "def getStatistics(data):\n",
    "    \n",
    "    average = np.mean(data)\n",
    "    variance = np.var(data)\n",
    "    \n",
    "    return (average, variance)\n",
    "\n",
    "line = [int(x) for x in input(\"Enter > \").split()]\n",
    "\n",
    "mu = line[0]\n",
    "sigma = line[1]\n",
    "n = line[2]\n",
    "\n",
    "\n",
    "\n",
    "\n",
    "    "
   ]
  },
  {
   "cell_type": "code",
   "execution_count": 6,
   "metadata": {
    "collapsed": true
   },
   "outputs": [],
   "source": [
    "def plotResult(data):\n",
    "    \n",
    "    frequency = [0 for i in range(int(max(data))+1) ]\n",
    "    \n",
    "    for element in data:\n",
    "        frequency[int(element)] +=1\n",
    "        \n",
    "    n = len(frequency)\n",
    "    \n",
    "    myRange = range(1, n)\n",
    "    width = 1\n",
    "    \n",
    "    plt.bar(myRange, frequency[1:])\n",
    "    \n",
    "    plt.xlabel(\"Sample\", fontsize = 20)\n",
    "    plt.ylabel(\"Frequency\", fontsize = 20)\n",
    "    \n",
    "    filename = \"chart.svg\"\n",
    "    plt.savefig(filename)\n",
    "    \n",
    "    plt.close()\n",
    "    \n",
    "def main():\n",
    "    \n",
    "    line = [int(x) for x in input(\"Enter > \").split()]\n",
    "    \n",
    "    mu = line[0]\n",
    "    sigma = line[1]\n",
    "    n = line[2]\n",
    "    \n",
    "    result = doGaussianSample(mu, sigma, n)\n",
    "    \n",
    "    plotResult(result)\n",
    "    \n",
    "    stat = getStatistics(result)\n",
    "    \n",
    "    print(\"average : %.21f\" % stat[0])\n",
    "    print(\"variance : %.21f\" % stat[1])"
   ]
  },
  {
   "cell_type": "code",
   "execution_count": null,
   "metadata": {
    "collapsed": true
   },
   "outputs": [],
   "source": []
  }
 ],
 "metadata": {
  "kernelspec": {
   "display_name": "Python 3",
   "language": "python",
   "name": "python3"
  },
  "language_info": {
   "codemirror_mode": {
    "name": "ipython",
    "version": 3
   },
   "file_extension": ".py",
   "mimetype": "text/x-python",
   "name": "python",
   "nbconvert_exporter": "python",
   "pygments_lexer": "ipython3",
   "version": "3.6.0"
  }
 },
 "nbformat": 4,
 "nbformat_minor": 2
}
