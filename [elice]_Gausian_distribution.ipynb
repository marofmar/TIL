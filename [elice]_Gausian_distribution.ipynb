{
 "cells": [
  {
   "cell_type": "code",
   "execution_count": 2,
   "metadata": {
    "collapsed": true
   },
   "outputs": [],
   "source": [
    "# Mean and Standard deviation are required to define Gaussian distribution\n",
    "# Comparing sample mean and std to those of the population\n",
    "# How close each other\n",
    "\n",
    "\n",
    "# numpy.random.normal(mean, variance, number of samples)\n",
    "\n",
    "# To generate Gaussian distribution\n",
    "# Use numpy.random.normal(mu, sigma, n)\n"
   ]
  },
  {
   "cell_type": "code",
   "execution_count": 5,
   "metadata": {
    "collapsed": false
   },
   "outputs": [
    {
     "name": "stdout",
     "output_type": "stream",
     "text": [
      "Enter > 10 20 100\n"
     ]
    }
   ],
   "source": [
    "import matplotlib\n",
    "matplotlib.use('Agg')\n",
    "\n",
    "import matplotlib.pyplot as plt\n",
    "import random \n",
    "import numpy as np\n",
    "\n",
    "def getStatistics(data):\n",
    "    \n",
    "    average = np.mean(data)\n",
    "    variance = np.var(data)\n",
    "    \n",
    "    return (average, variance)\n",
    "\n",
    "line = [int(x) for x in input(\"Enter > \").split()]\n",
    "\n",
    "mu = line[0]\n",
    "sigma = line[1]\n",
    "n = line[2]\n",
    "\n",
    "\n",
    "\n",
    "    "
   ]
  },
  {
   "cell_type": "code",
   "execution_count": 13,
   "metadata": {
    "collapsed": false
   },
   "outputs": [],
   "source": [
    "\n",
    "def doGaussianSample(mu, sigma, n):\n",
    "    result = []\n",
    "    x = np.random.normal(mu, sigma, n)\n",
    "    result.append(x)\n",
    "    \n",
    "    return result\n",
    "\n",
    "    print (result)\n",
    "\n"
   ]
  },
  {
   "cell_type": "code",
   "execution_count": 6,
   "metadata": {
    "collapsed": true
   },
   "outputs": [],
   "source": [
    "def plotResult(data):\n",
    "    \n",
    "    frequency = [0 for i in range(int(max(data))+1) ]\n",
    "    \n",
    "    for element in data:\n",
    "        frequency[int(element)] +=1\n",
    "        \n",
    "    n = len(frequency)\n",
    "    \n",
    "    myRange = range(1, n)\n",
    "    width = 1\n",
    "    \n",
    "    plt.bar(myRange, frequency[1:])\n",
    "    \n",
    "    plt.xlabel(\"Sample\", fontsize = 20)\n",
    "    plt.ylabel(\"Frequency\", fontsize = 20)\n",
    "    \n",
    "    filename = \"chart.svg\"\n",
    "    plt.savefig(filename)\n",
    "    \n",
    "    plt.close()\n",
    "    \n",
    "def main():\n",
    "    \n",
    "    line = [int(x) for x in input(\"Enter > \").split()]\n",
    "    \n",
    "    mu = line[0]\n",
    "    sigma = line[1]\n",
    "    n = line[2]\n",
    "    \n",
    "    result = doGaussianSample(mu, sigma, n)\n",
    "    \n",
    "    plotResult(result)\n",
    "    \n",
    "    stat = getStatistics(result)\n",
    "    \n",
    "    print(\"average : %.21f\" % stat[0])\n",
    "    print(\"variance : %.21f\" % stat[1])"
   ]
  },
  {
   "cell_type": "code",
   "execution_count": 9,
   "metadata": {
    "collapsed": false
   },
   "outputs": [
    {
     "name": "stdout",
     "output_type": "stream",
     "text": [
      "Enter > 10 20 1000\n"
     ]
    },
    {
     "ename": "TypeError",
     "evalue": "only length-1 arrays can be converted to Python scalars",
     "output_type": "error",
     "traceback": [
      "\u001b[0;31m---------------------------------------------------------------------------\u001b[0m",
      "\u001b[0;31mTypeError\u001b[0m                                 Traceback (most recent call last)",
      "\u001b[0;32m<ipython-input-9-89026442c8a6>\u001b[0m in \u001b[0;36m<module>\u001b[0;34m()\u001b[0m\n\u001b[1;32m      1\u001b[0m \u001b[0;32mif\u001b[0m \u001b[0m__name__\u001b[0m \u001b[0;34m==\u001b[0m \u001b[0;34m\"__main__\"\u001b[0m\u001b[0;34m:\u001b[0m\u001b[0;34m\u001b[0m\u001b[0m\n\u001b[0;32m----> 2\u001b[0;31m     \u001b[0mmain\u001b[0m\u001b[0;34m(\u001b[0m\u001b[0;34m)\u001b[0m\u001b[0;34m\u001b[0m\u001b[0m\n\u001b[0m",
      "\u001b[0;32m<ipython-input-6-666b47fdeba6>\u001b[0m in \u001b[0;36mmain\u001b[0;34m()\u001b[0m\n\u001b[1;32m     31\u001b[0m     \u001b[0mresult\u001b[0m \u001b[0;34m=\u001b[0m \u001b[0mdoGaussianSample\u001b[0m\u001b[0;34m(\u001b[0m\u001b[0mmu\u001b[0m\u001b[0;34m,\u001b[0m \u001b[0msigma\u001b[0m\u001b[0;34m,\u001b[0m \u001b[0mn\u001b[0m\u001b[0;34m)\u001b[0m\u001b[0;34m\u001b[0m\u001b[0m\n\u001b[1;32m     32\u001b[0m \u001b[0;34m\u001b[0m\u001b[0m\n\u001b[0;32m---> 33\u001b[0;31m     \u001b[0mplotResult\u001b[0m\u001b[0;34m(\u001b[0m\u001b[0mresult\u001b[0m\u001b[0;34m)\u001b[0m\u001b[0;34m\u001b[0m\u001b[0m\n\u001b[0m\u001b[1;32m     34\u001b[0m \u001b[0;34m\u001b[0m\u001b[0m\n\u001b[1;32m     35\u001b[0m     \u001b[0mstat\u001b[0m \u001b[0;34m=\u001b[0m \u001b[0mgetStatistics\u001b[0m\u001b[0;34m(\u001b[0m\u001b[0mresult\u001b[0m\u001b[0;34m)\u001b[0m\u001b[0;34m\u001b[0m\u001b[0m\n",
      "\u001b[0;32m<ipython-input-6-666b47fdeba6>\u001b[0m in \u001b[0;36mplotResult\u001b[0;34m(data)\u001b[0m\n\u001b[1;32m      1\u001b[0m \u001b[0;32mdef\u001b[0m \u001b[0mplotResult\u001b[0m\u001b[0;34m(\u001b[0m\u001b[0mdata\u001b[0m\u001b[0;34m)\u001b[0m\u001b[0;34m:\u001b[0m\u001b[0;34m\u001b[0m\u001b[0m\n\u001b[1;32m      2\u001b[0m \u001b[0;34m\u001b[0m\u001b[0m\n\u001b[0;32m----> 3\u001b[0;31m     \u001b[0mfrequency\u001b[0m \u001b[0;34m=\u001b[0m \u001b[0;34m[\u001b[0m\u001b[0;36m0\u001b[0m \u001b[0;32mfor\u001b[0m \u001b[0mi\u001b[0m \u001b[0;32min\u001b[0m \u001b[0mrange\u001b[0m\u001b[0;34m(\u001b[0m\u001b[0mint\u001b[0m\u001b[0;34m(\u001b[0m\u001b[0mmax\u001b[0m\u001b[0;34m(\u001b[0m\u001b[0mdata\u001b[0m\u001b[0;34m)\u001b[0m\u001b[0;34m)\u001b[0m\u001b[0;34m+\u001b[0m\u001b[0;36m1\u001b[0m\u001b[0;34m)\u001b[0m \u001b[0;34m]\u001b[0m\u001b[0;34m\u001b[0m\u001b[0m\n\u001b[0m\u001b[1;32m      4\u001b[0m \u001b[0;34m\u001b[0m\u001b[0m\n\u001b[1;32m      5\u001b[0m     \u001b[0;32mfor\u001b[0m \u001b[0melement\u001b[0m \u001b[0;32min\u001b[0m \u001b[0mdata\u001b[0m\u001b[0;34m:\u001b[0m\u001b[0;34m\u001b[0m\u001b[0m\n",
      "\u001b[0;31mTypeError\u001b[0m: only length-1 arrays can be converted to Python scalars"
     ]
    }
   ],
   "source": [
    "if __name__ == \"__main__\":\n",
    "    main()"
   ]
  },
  {
   "cell_type": "code",
   "execution_count": 10,
   "metadata": {
    "collapsed": true
   },
   "outputs": [],
   "source": [
    "# TypeError: only length-1 arrays can be converted to Python scalars"
   ]
  },
  {
   "cell_type": "code",
   "execution_count": 11,
   "metadata": {
    "collapsed": true
   },
   "outputs": [],
   "source": [
    "# I think this type of error is related to some traits of Numpy"
   ]
  },
  {
   "cell_type": "code",
   "execution_count": 22,
   "metadata": {
    "collapsed": false
   },
   "outputs": [],
   "source": [
    "\n",
    "\n",
    "\n",
    "def doGS(mu, sigma, n):\n",
    "    result = []\n",
    "    line = [int(x) for x in input(\"Enter > \").split()]\n",
    "    \n",
    "    mu = line[0]\n",
    "    sigma = line[1]\n",
    "    n = line[2]\n",
    "\n",
    "    for i in line:\n",
    "        x = np.random.normal(mu, sigma, n)\n",
    "        result.append(x)\n",
    "    \n",
    "    return result\n",
    "\n",
    "    print (result)\n",
    "    \n"
   ]
  },
  {
   "cell_type": "code",
   "execution_count": 24,
   "metadata": {
    "collapsed": false
   },
   "outputs": [
    {
     "name": "stdout",
     "output_type": "stream",
     "text": [
      "Enter > 10 20 1000\n"
     ]
    },
    {
     "ename": "SyntaxError",
     "evalue": "'return' outside function (<ipython-input-24-7d42e0e80f71>, line 9)",
     "output_type": "error",
     "traceback": [
      "\u001b[0;36m  File \u001b[0;32m\"<ipython-input-24-7d42e0e80f71>\"\u001b[0;36m, line \u001b[0;32m9\u001b[0m\n\u001b[0;31m    return  np.random.normal(mu, sigma, n)\u001b[0m\n\u001b[0m                                          ^\u001b[0m\n\u001b[0;31mSyntaxError\u001b[0m\u001b[0;31m:\u001b[0m 'return' outside function\n"
     ]
    }
   ],
   "source": [
    "import numpy as np\n",
    "line = [int(x) for x in input(\"Enter > \").split()]\n",
    "mu = line[0]\n",
    "sigma = line[1]\n",
    "n = line[2]\n",
    "\n",
    "\n",
    "\n",
    "return  np.random.normal(mu, sigma, n)\n"
   ]
  },
  {
   "cell_type": "code",
   "execution_count": null,
   "metadata": {
    "collapsed": true
   },
   "outputs": [],
   "source": []
  }
 ],
 "metadata": {
  "kernelspec": {
   "display_name": "Python 3",
   "language": "python",
   "name": "python3"
  },
  "language_info": {
   "codemirror_mode": {
    "name": "ipython",
    "version": 3
   },
   "file_extension": ".py",
   "mimetype": "text/x-python",
   "name": "python",
   "nbconvert_exporter": "python",
   "pygments_lexer": "ipython3",
   "version": "3.6.0"
  }
 },
 "nbformat": 4,
 "nbformat_minor": 2
}
