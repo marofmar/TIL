{
 "cells": [
  {
   "cell_type": "code",
   "execution_count": 9,
   "metadata": {
    "collapsed": false
   },
   "outputs": [],
   "source": [
    "from sklearn import linear_model\n",
    "import pandas as pd\n",
    "from sklearn.model_selection import train_test_split \n",
    "import matplotlib.pyplot as plt\n",
    "%matplotlib inline"
   ]
  },
  {
   "cell_type": "code",
   "execution_count": 5,
   "metadata": {
    "collapsed": false
   },
   "outputs": [],
   "source": [
    "data = pd.read_csv(\"Default.csv\", header = 0)\n",
    "response_var = 1\n",
    "y_vec = data.ix[:, response_var].as_matrix().squeeze() ####\n",
    "x_vec = data.ix[:, 3].as_matrix().reshape(-1,1)"
   ]
  },
  {
   "cell_type": "code",
   "execution_count": 17,
   "metadata": {
    "collapsed": false
   },
   "outputs": [
    {
     "name": "stdout",
     "output_type": "stream",
     "text": [
      "Inependent variable: Balance\n",
      "Coefficients: [[ 0.00432323]]\n",
      "Intercept: [-5.47608969]\n",
      "Accuracy: 0.874251497005988\n"
     ]
    }
   ],
   "source": [
    "x_train,x_test, y_train, y_test = train_test_split(x_vec,\n",
    "                                                  y_vec,\n",
    "                                                  test_size = 0.25,\n",
    "                                                  random_state = 12345)\n",
    "\n",
    "regr_logistic = linear_model.LogisticRegression()\n",
    "regr_logistic.fit(x_train, y_train)\n",
    "\n",
    "regr_logistic.fit(x_train, y_train)\n",
    "score = regr_logistic.score(x_test, y_test)\n",
    "\n",
    "print(\"Inependent variable: {}\".format(\"Balance\"))\n",
    "print(\"Coefficients: {}\".format(regr_logistic.coef_))\n",
    "print(\"Intercept: {}\".format(regr_logistic.intercept_))\n",
    "print(\"Accuracy: {}\".format(score))\n",
    "                                                "
   ]
  },
  {
   "cell_type": "code",
   "execution_count": 11,
   "metadata": {
    "collapsed": false
   },
   "outputs": [
    {
     "data": {
      "text/plain": [
       "<matplotlib.collections.PathCollection at 0x11e1764a8>"
      ]
     },
     "execution_count": 11,
     "metadata": {},
     "output_type": "execute_result"
    },
    {
     "data": {
      "image/png": "[encoded data removed]",
      "text/plain": [
       "<matplotlib.figure.Figure at 0x11b6a19e8>"
      ]
     },
     "metadata": {},
     "output_type": "display_data"
    }
   ],
   "source": [
    "plt.scatter(x_vec,y_vec)"
   ]
  },
  {
   "cell_type": "code",
   "execution_count": null,
   "metadata": {
    "collapsed": true
   },
   "outputs": [],
   "source": []
  }
 ],
 "metadata": {
  "kernelspec": {
   "display_name": "Python 3",
   "language": "python",
   "name": "python3"
  },
  "language_info": {
   "codemirror_mode": {
    "name": "ipython",
    "version": 3
   },
   "file_extension": ".py",
   "mimetype": "text/x-python",
   "name": "python",
   "nbconvert_exporter": "python",
   "pygments_lexer": "ipython3",
   "version": "3.6.0"
  }
 },
 "nbformat": 4,
 "nbformat_minor": 2
}
