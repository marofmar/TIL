{
 "cells": [
  {
   "cell_type": "code",
   "execution_count": 1,
   "metadata": {
    "collapsed": true
   },
   "outputs": [],
   "source": [
    "from sklearn import datasets\n",
    "from sklearn.linear_model import LogisticRegression\n",
    "import numpy as np\n",
    "\n",
    "\n",
    "def load_data():\n",
    "\treturn datasets.load_iris(return_X_y=True)"
   ]
  },
  {
   "cell_type": "code",
   "execution_count": 19,
   "metadata": {},
   "outputs": [
    {
     "ename": "TypeError",
     "evalue": "binary_classification() missing 2 required positional arguments: 'X' and 'binary_label'",
     "output_type": "error",
     "traceback": [
      "\u001b[0;31m---------------------------------------------------------------------------\u001b[0m",
      "\u001b[0;31mTypeError\u001b[0m                                 Traceback (most recent call last)",
      "\u001b[0;32m<ipython-input-19-04401e172651>\u001b[0m in \u001b[0;36m<module>\u001b[0;34m()\u001b[0m\n\u001b[1;32m     10\u001b[0m \u001b[0;34m\u001b[0m\u001b[0m\n\u001b[1;32m     11\u001b[0m     \u001b[0;32mreturn\u001b[0m \u001b[0mpredicted_p\u001b[0m\u001b[0;34m\u001b[0m\u001b[0m\n\u001b[0;32m---> 12\u001b[0;31m \u001b[0mprint\u001b[0m\u001b[0;34m(\u001b[0m\u001b[0mlist\u001b[0m\u001b[0;34m(\u001b[0m\u001b[0mbinary_classification\u001b[0m\u001b[0;34m(\u001b[0m\u001b[0;34m)\u001b[0m\u001b[0;34m[\u001b[0m\u001b[0;36m1\u001b[0m\u001b[0;34m]\u001b[0m\u001b[0;34m)\u001b[0m\u001b[0;34m)\u001b[0m\u001b[0;34m\u001b[0m\u001b[0m\n\u001b[0m",
      "\u001b[0;31mTypeError\u001b[0m: binary_classification() missing 2 required positional arguments: 'X' and 'binary_label'"
     ]
    }
   ],
   "source": [
    "def binary_classification(X, binary_label):\n",
    "\t# input : X (features), shape:(number of samples, number of features)\n",
    "\t# input : binary_label (1 or 0), shape:(number of samples, )\n",
    "\t# output : probability to belong to that class, shape:(number of samples, )\n",
    "    lr = LogisticRegression()\n",
    "\n",
    "\n",
    "    \n",
    "    predicted_p = lr.fit(X,binary_label)\n",
    "\t\n",
    "    return predicted_p\n",
    "print(list(binary_classification())"
   ]
  },
  {
   "cell_type": "code",
   "execution_count": 4,
   "metadata": {},
   "outputs": [
    {
     "data": {
      "text/plain": [
       "'\\nmulti-class classification based on binary classification\\n\\nIf there are three different cases, y-1, y-2, and y-3, then for each of the element of x, \\nconduct binary classification, calculating each diff. prob. of belonging to those distinctive \\ny categories. Out of all three, the highest probability indicates that the element belongs to \\nthat specific y * class. \\n\\nFor this matter, how can I builid a function using the binary classification?\\n\\n\\n'"
      ]
     },
     "execution_count": 4,
     "metadata": {},
     "output_type": "execute_result"
    }
   ],
   "source": [
    "'''\n",
    "multi-class classification based on binary classification\n",
    "\n",
    "If there are three different cases, y-1, y-2, and y-3, then for each of the element of x, \n",
    "conduct binary classification, calculating each diff. prob. of belonging to those distinctive \n",
    "y categories. Out of all three, the highest probability indicates that the element belongs to \n",
    "that specific y * class. \n",
    "\n",
    "For this matter, how can I builid a function using the binary classification?\n",
    "\n",
    "\n",
    "'''"
   ]
  },
  {
   "cell_type": "code",
   "execution_count": 5,
   "metadata": {
    "collapsed": true
   },
   "outputs": [],
   "source": [
    "\n",
    "def multiclass_classification(X, y):\n",
    "\t# input : X (features), shape:(number of samples, number of features)\n",
    "\t# input : y (labels), shape:(number of samples,)\n",
    "\t# output : multiclass classification accuracy, shape:(1, )\n",
    "    row = []\n",
    "    for i in list(y):\n",
    "        b = binary_classification(X,i)\n",
    "        row.append(b)\n",
    "    return max.row"
   ]
  },
  {
   "cell_type": "code",
   "execution_count": 11,
   "metadata": {},
   "outputs": [
    {
     "name": "stdout",
     "output_type": "stream",
     "text": [
      "150\n",
      "150\n"
     ]
    }
   ],
   "source": [
    "# Naive Bayes Classifier\n",
    "\n",
    "# (Red, Green, Blue)\n",
    "# M1 (0.7, 0.2, 0.1)\n",
    "# M2 (0.3, 0.4, 0.3)\n",
    "print(len(load_data()[0]))\n",
    "print(len(load_data()[1])) # What.,..? aren't you suppposed to be three???"
   ]
  },
  {
   "cell_type": "code",
   "execution_count": 16,
   "metadata": {},
   "outputs": [
    {
     "ename": "SyntaxError",
     "evalue": "invalid syntax (<ipython-input-16-33812b37f08d>, line 11)",
     "output_type": "error",
     "traceback": [
      "\u001b[0;36m  File \u001b[0;32m\"<ipython-input-16-33812b37f08d>\"\u001b[0;36m, line \u001b[0;32m11\u001b[0m\n\u001b[0;31m    if index(r) = (j):\u001b[0m\n\u001b[0m                ^\u001b[0m\n\u001b[0;31mSyntaxError\u001b[0m\u001b[0;31m:\u001b[0m invalid syntax\n"
     ]
    }
   ],
   "source": [
    "def multiclass_classification(X, y):\n",
    "\t# input : X (features), shape:(number of samples, number of features)\n",
    "\t# input : y (labels), shape:(number of samples,)\n",
    "\t# output : multiclass classification accuracy, shape:(1, )\n",
    "    row = []\n",
    "    for i in range(list(load_data()))\n",
    "        for j in list(y):\n",
    "            b = binary_classification(X,j)\n",
    "            row.append(b)\n",
    "            r = max.row\n",
    "\n",
    "\tprint(result)"
   ]
  },
  {
   "cell_type": "code",
   "execution_count": null,
   "metadata": {
    "collapsed": true
   },
   "outputs": [],
   "source": []
  }
 ],
 "metadata": {
  "kernelspec": {
   "display_name": "Python 3",
   "language": "python",
   "name": "python3"
  },
  "language_info": {
   "codemirror_mode": {
    "name": "ipython",
    "version": 3
   },
   "file_extension": ".py",
   "mimetype": "text/x-python",
   "name": "python",
   "nbconvert_exporter": "python",
   "pygments_lexer": "ipython3",
   "version": "3.6.1"
  }
 },
 "nbformat": 4,
 "nbformat_minor": 2
}
