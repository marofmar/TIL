{
 "cells": [
  {
   "cell_type": "markdown",
   "metadata": {},
   "source": [
    "# Econometrics 2018 Fall, HW1\n",
    "### 2018321078 정유진\n",
    "<br>"
   ]
  },
  {
   "cell_type": "markdown",
   "metadata": {},
   "source": [
    "## 0. 필요한 라이브러리 로드"
   ]
  },
  {
   "cell_type": "code",
   "execution_count": 1,
   "metadata": {},
   "outputs": [
    {
     "name": "stderr",
     "output_type": "stream",
     "text": [
      "/anaconda3/lib/python3.6/site-packages/statsmodels/compat/pandas.py:56: FutureWarning: The pandas.core.datetools module is deprecated and will be removed in a future version. Please use the pandas.tseries module instead.\n",
      "  from pandas.core import datetools\n"
     ]
    }
   ],
   "source": [
    "import numpy as np\n",
    "import pandas as pd\n",
    "import matplotlib.pyplot as plt\n",
    "%matplotlib inline\n",
    "#from IPython.display import display, Math, Latex\n",
    "import statsmodels.api as sm\n",
    "from sklearn import linear_model"
   ]
  },
  {
   "cell_type": "markdown",
   "metadata": {},
   "source": [
    "## 1. 데이터 불러오기, 데이터 프레임으로 형식 변경"
   ]
  },
  {
   "cell_type": "code",
   "execution_count": 2,
   "metadata": {},
   "outputs": [],
   "source": [
    "with open('mroz_data_workers.txt', 'r') as f:\n",
    "    x = f.readlines()"
   ]
  },
  {
   "cell_type": "code",
   "execution_count": 3,
   "metadata": {},
   "outputs": [],
   "source": [
    "col_names = x[0].split(' ')\n",
    "df = pd.DataFrame(columns = col_names)"
   ]
  },
  {
   "cell_type": "code",
   "execution_count": 4,
   "metadata": {},
   "outputs": [],
   "source": [
    "only_d = x[1:]"
   ]
  },
  {
   "cell_type": "code",
   "execution_count": 5,
   "metadata": {},
   "outputs": [],
   "source": [
    "for i in range(len(only_d)):\n",
    "    only_d[i] = only_d[i].split()"
   ]
  },
  {
   "cell_type": "code",
   "execution_count": 6,
   "metadata": {},
   "outputs": [],
   "source": [
    "data = pd.DataFrame(only_d,columns = col_names)"
   ]
  },
  {
   "cell_type": "code",
   "execution_count": 7,
   "metadata": {},
   "outputs": [
    {
     "data": {
      "text/plain": [
       "Index(['LFP', 'WHRS', 'KL6', 'K618', 'WA', 'WE', 'WW', 'RPWG', 'HHRS', 'HA',\n",
       "       'HE', 'HW', 'FAMINC', 'MTR', 'WMED', 'WFED', 'UN', 'CIT', 'AX\\n'],\n",
       "      dtype='object')"
      ]
     },
     "execution_count": 7,
     "metadata": {},
     "output_type": "execute_result"
    }
   ],
   "source": [
    "data.columns"
   ]
  },
  {
   "cell_type": "code",
   "execution_count": 8,
   "metadata": {
    "scrolled": true
   },
   "outputs": [
    {
     "data": {
      "text/html": [
       "<div>\n",
       "<style scoped>\n",
       "    .dataframe tbody tr th:only-of-type {\n",
       "        vertical-align: middle;\n",
       "    }\n",
       "\n",
       "    .dataframe tbody tr th {\n",
       "        vertical-align: top;\n",
       "    }\n",
       "\n",
       "    .dataframe thead th {\n",
       "        text-align: right;\n",
       "    }\n",
       "</style>\n",
       "<table border=\"1\" class=\"dataframe\">\n",
       "  <thead>\n",
       "    <tr style=\"text-align: right;\">\n",
       "      <th></th>\n",
       "      <th>LFP</th>\n",
       "      <th>WHRS</th>\n",
       "      <th>KL6</th>\n",
       "      <th>K618</th>\n",
       "      <th>WA</th>\n",
       "      <th>WE</th>\n",
       "      <th>WW</th>\n",
       "      <th>RPWG</th>\n",
       "      <th>HHRS</th>\n",
       "      <th>HA</th>\n",
       "      <th>HE</th>\n",
       "      <th>HW</th>\n",
       "      <th>FAMINC</th>\n",
       "      <th>MTR</th>\n",
       "      <th>WMED</th>\n",
       "      <th>WFED</th>\n",
       "      <th>UN</th>\n",
       "      <th>CIT</th>\n",
       "      <th>AX</th>\n",
       "    </tr>\n",
       "  </thead>\n",
       "  <tbody>\n",
       "    <tr>\n",
       "      <th>0</th>\n",
       "      <td>1</td>\n",
       "      <td>1610</td>\n",
       "      <td>1</td>\n",
       "      <td>0</td>\n",
       "      <td>32</td>\n",
       "      <td>12</td>\n",
       "      <td>3.3540</td>\n",
       "      <td>2.65</td>\n",
       "      <td>2708</td>\n",
       "      <td>34</td>\n",
       "      <td>12</td>\n",
       "      <td>4.0288</td>\n",
       "      <td>16310</td>\n",
       "      <td>.7215</td>\n",
       "      <td>12</td>\n",
       "      <td>7</td>\n",
       "      <td>5.0</td>\n",
       "      <td>0</td>\n",
       "      <td>14</td>\n",
       "    </tr>\n",
       "    <tr>\n",
       "      <th>1</th>\n",
       "      <td>1</td>\n",
       "      <td>1656</td>\n",
       "      <td>0</td>\n",
       "      <td>2</td>\n",
       "      <td>30</td>\n",
       "      <td>12</td>\n",
       "      <td>1.3889</td>\n",
       "      <td>2.65</td>\n",
       "      <td>2310</td>\n",
       "      <td>30</td>\n",
       "      <td>9</td>\n",
       "      <td>8.4416</td>\n",
       "      <td>21800</td>\n",
       "      <td>.6615</td>\n",
       "      <td>7</td>\n",
       "      <td>7</td>\n",
       "      <td>11.0</td>\n",
       "      <td>1</td>\n",
       "      <td>5</td>\n",
       "    </tr>\n",
       "    <tr>\n",
       "      <th>2</th>\n",
       "      <td>1</td>\n",
       "      <td>1980</td>\n",
       "      <td>1</td>\n",
       "      <td>3</td>\n",
       "      <td>35</td>\n",
       "      <td>12</td>\n",
       "      <td>4.5455</td>\n",
       "      <td>4.04</td>\n",
       "      <td>3072</td>\n",
       "      <td>40</td>\n",
       "      <td>12</td>\n",
       "      <td>3.5807</td>\n",
       "      <td>21040</td>\n",
       "      <td>.6915</td>\n",
       "      <td>12</td>\n",
       "      <td>7</td>\n",
       "      <td>5.0</td>\n",
       "      <td>0</td>\n",
       "      <td>15</td>\n",
       "    </tr>\n",
       "    <tr>\n",
       "      <th>3</th>\n",
       "      <td>1</td>\n",
       "      <td>456</td>\n",
       "      <td>0</td>\n",
       "      <td>3</td>\n",
       "      <td>34</td>\n",
       "      <td>12</td>\n",
       "      <td>1.0965</td>\n",
       "      <td>3.25</td>\n",
       "      <td>1920</td>\n",
       "      <td>53</td>\n",
       "      <td>10</td>\n",
       "      <td>3.5417</td>\n",
       "      <td>7300</td>\n",
       "      <td>.7815</td>\n",
       "      <td>7</td>\n",
       "      <td>7</td>\n",
       "      <td>5.0</td>\n",
       "      <td>0</td>\n",
       "      <td>6</td>\n",
       "    </tr>\n",
       "    <tr>\n",
       "      <th>4</th>\n",
       "      <td>1</td>\n",
       "      <td>1568</td>\n",
       "      <td>1</td>\n",
       "      <td>2</td>\n",
       "      <td>31</td>\n",
       "      <td>14</td>\n",
       "      <td>4.5918</td>\n",
       "      <td>3.60</td>\n",
       "      <td>2000</td>\n",
       "      <td>32</td>\n",
       "      <td>12</td>\n",
       "      <td>10.0000</td>\n",
       "      <td>27300</td>\n",
       "      <td>.6215</td>\n",
       "      <td>12</td>\n",
       "      <td>14</td>\n",
       "      <td>9.5</td>\n",
       "      <td>1</td>\n",
       "      <td>7</td>\n",
       "    </tr>\n",
       "  </tbody>\n",
       "</table>\n",
       "</div>"
      ],
      "text/plain": [
       "  LFP  WHRS KL6 K618  WA  WE      WW  RPWG  HHRS  HA  HE       HW FAMINC  \\\n",
       "0   1  1610   1    0  32  12  3.3540  2.65  2708  34  12   4.0288  16310   \n",
       "1   1  1656   0    2  30  12  1.3889  2.65  2310  30   9   8.4416  21800   \n",
       "2   1  1980   1    3  35  12  4.5455  4.04  3072  40  12   3.5807  21040   \n",
       "3   1   456   0    3  34  12  1.0965  3.25  1920  53  10   3.5417   7300   \n",
       "4   1  1568   1    2  31  14  4.5918  3.60  2000  32  12  10.0000  27300   \n",
       "\n",
       "     MTR WMED WFED    UN CIT AX\\n  \n",
       "0  .7215   12    7   5.0   0   14  \n",
       "1  .6615    7    7  11.0   1    5  \n",
       "2  .6915   12    7   5.0   0   15  \n",
       "3  .7815    7    7   5.0   0    6  \n",
       "4  .6215   12   14   9.5   1    7  "
      ]
     },
     "execution_count": 8,
     "metadata": {},
     "output_type": "execute_result"
    }
   ],
   "source": [
    "data.head() # 428 rows × 19 columns"
   ]
  },
  {
   "cell_type": "code",
   "execution_count": 9,
   "metadata": {},
   "outputs": [
    {
     "data": {
      "text/html": [
       "<div>\n",
       "<style scoped>\n",
       "    .dataframe tbody tr th:only-of-type {\n",
       "        vertical-align: middle;\n",
       "    }\n",
       "\n",
       "    .dataframe tbody tr th {\n",
       "        vertical-align: top;\n",
       "    }\n",
       "\n",
       "    .dataframe thead th {\n",
       "        text-align: right;\n",
       "    }\n",
       "</style>\n",
       "<table border=\"1\" class=\"dataframe\">\n",
       "  <thead>\n",
       "    <tr style=\"text-align: right;\">\n",
       "      <th></th>\n",
       "      <th>LFP</th>\n",
       "      <th>WHRS</th>\n",
       "      <th>KL6</th>\n",
       "      <th>K618</th>\n",
       "      <th>WA</th>\n",
       "      <th>WE</th>\n",
       "      <th>WW</th>\n",
       "      <th>RPWG</th>\n",
       "      <th>HHRS</th>\n",
       "      <th>HA</th>\n",
       "      <th>HE</th>\n",
       "      <th>HW</th>\n",
       "      <th>FAMINC</th>\n",
       "      <th>MTR</th>\n",
       "      <th>WMED</th>\n",
       "      <th>WFED</th>\n",
       "      <th>UN</th>\n",
       "      <th>CIT</th>\n",
       "      <th>AX</th>\n",
       "    </tr>\n",
       "  </thead>\n",
       "  <tbody>\n",
       "    <tr>\n",
       "      <th>161</th>\n",
       "      <td>1</td>\n",
       "      <td>993</td>\n",
       "      <td>0</td>\n",
       "      <td>2</td>\n",
       "      <td>37</td>\n",
       "      <td>16</td>\n",
       "      <td>5.0352</td>\n",
       "      <td>8.30</td>\n",
       "      <td>2739</td>\n",
       "      <td>39</td>\n",
       "      <td>17</td>\n",
       "      <td>9.8576</td>\n",
       "      <td>32300</td>\n",
       "      <td>.5815</td>\n",
       "      <td>12</td>\n",
       "      <td>16</td>\n",
       "      <td>14.0</td>\n",
       "      <td>1</td>\n",
       "      <td>9</td>\n",
       "    </tr>\n",
       "    <tr>\n",
       "      <th>355</th>\n",
       "      <td>1</td>\n",
       "      <td>63</td>\n",
       "      <td>1</td>\n",
       "      <td>2</td>\n",
       "      <td>35</td>\n",
       "      <td>16</td>\n",
       "      <td>3.9683</td>\n",
       "      <td>0.00</td>\n",
       "      <td>2385</td>\n",
       "      <td>37</td>\n",
       "      <td>16</td>\n",
       "      <td>9.6436</td>\n",
       "      <td>23750</td>\n",
       "      <td>.6615</td>\n",
       "      <td>14</td>\n",
       "      <td>7</td>\n",
       "      <td>14.0</td>\n",
       "      <td>1</td>\n",
       "      <td>7</td>\n",
       "    </tr>\n",
       "    <tr>\n",
       "      <th>392</th>\n",
       "      <td>1</td>\n",
       "      <td>1664</td>\n",
       "      <td>0</td>\n",
       "      <td>0</td>\n",
       "      <td>50</td>\n",
       "      <td>12</td>\n",
       "      <td>1.2019</td>\n",
       "      <td>5.00</td>\n",
       "      <td>3120</td>\n",
       "      <td>54</td>\n",
       "      <td>13</td>\n",
       "      <td>1.3013</td>\n",
       "      <td>16500</td>\n",
       "      <td>.7215</td>\n",
       "      <td>7</td>\n",
       "      <td>7</td>\n",
       "      <td>7.5</td>\n",
       "      <td>0</td>\n",
       "      <td>11</td>\n",
       "    </tr>\n",
       "    <tr>\n",
       "      <th>121</th>\n",
       "      <td>1</td>\n",
       "      <td>2058</td>\n",
       "      <td>0</td>\n",
       "      <td>0</td>\n",
       "      <td>41</td>\n",
       "      <td>11</td>\n",
       "      <td>2.9310</td>\n",
       "      <td>2.90</td>\n",
       "      <td>1984</td>\n",
       "      <td>42</td>\n",
       "      <td>12</td>\n",
       "      <td>4.7883</td>\n",
       "      <td>15652</td>\n",
       "      <td>.7215</td>\n",
       "      <td>12</td>\n",
       "      <td>12</td>\n",
       "      <td>7.5</td>\n",
       "      <td>0</td>\n",
       "      <td>23</td>\n",
       "    </tr>\n",
       "    <tr>\n",
       "      <th>309</th>\n",
       "      <td>1</td>\n",
       "      <td>1600</td>\n",
       "      <td>0</td>\n",
       "      <td>1</td>\n",
       "      <td>40</td>\n",
       "      <td>12</td>\n",
       "      <td>3.7500</td>\n",
       "      <td>3.30</td>\n",
       "      <td>1920</td>\n",
       "      <td>39</td>\n",
       "      <td>12</td>\n",
       "      <td>11.4580</td>\n",
       "      <td>29150</td>\n",
       "      <td>.5815</td>\n",
       "      <td>12</td>\n",
       "      <td>7</td>\n",
       "      <td>7.5</td>\n",
       "      <td>1</td>\n",
       "      <td>8</td>\n",
       "    </tr>\n",
       "  </tbody>\n",
       "</table>\n",
       "</div>"
      ],
      "text/plain": [
       "    LFP  WHRS KL6 K618  WA  WE      WW  RPWG  HHRS  HA  HE       HW FAMINC  \\\n",
       "161   1   993   0    2  37  16  5.0352  8.30  2739  39  17   9.8576  32300   \n",
       "355   1    63   1    2  35  16  3.9683  0.00  2385  37  16   9.6436  23750   \n",
       "392   1  1664   0    0  50  12  1.2019  5.00  3120  54  13   1.3013  16500   \n",
       "121   1  2058   0    0  41  11  2.9310  2.90  1984  42  12   4.7883  15652   \n",
       "309   1  1600   0    1  40  12  3.7500  3.30  1920  39  12  11.4580  29150   \n",
       "\n",
       "       MTR WMED WFED    UN CIT AX\\n  \n",
       "161  .5815   12   16  14.0   1    9  \n",
       "355  .6615   14    7  14.0   1    7  \n",
       "392  .7215    7    7   7.5   0   11  \n",
       "121  .7215   12   12   7.5   0   23  \n",
       "309  .5815   12    7   7.5   1    8  "
      ]
     },
     "execution_count": 9,
     "metadata": {},
     "output_type": "execute_result"
    }
   ],
   "source": [
    "data.sample(5)"
   ]
  },
  {
   "cell_type": "markdown",
   "metadata": {},
   "source": [
    "## 2. 분석에 사용할 13개 변수 및 타겟 칼럼 골라내기"
   ]
  },
  {
   "cell_type": "code",
   "execution_count": 10,
   "metadata": {},
   "outputs": [],
   "source": [
    "col_need = ['LFP','KL6','K618','WA','WE','WW','WMED','WFED','AX\\n','HHRS','HA','HE','HW']"
   ]
  },
  {
   "cell_type": "code",
   "execution_count": 11,
   "metadata": {},
   "outputs": [
    {
     "data": {
      "text/plain": [
       "13"
      ]
     },
     "execution_count": 11,
     "metadata": {},
     "output_type": "execute_result"
    }
   ],
   "source": [
    "len(col_need)"
   ]
  },
  {
   "cell_type": "code",
   "execution_count": 12,
   "metadata": {},
   "outputs": [],
   "source": [
    "d2 = data[col_need]"
   ]
  },
  {
   "cell_type": "code",
   "execution_count": 13,
   "metadata": {},
   "outputs": [
    {
     "data": {
      "text/plain": [
       "(428, 13)"
      ]
     },
     "execution_count": 13,
     "metadata": {},
     "output_type": "execute_result"
    }
   ],
   "source": [
    "d2.shape"
   ]
  },
  {
   "cell_type": "code",
   "execution_count": 14,
   "metadata": {
    "scrolled": true
   },
   "outputs": [],
   "source": [
    "X = d2 # X variable"
   ]
  },
  {
   "cell_type": "code",
   "execution_count": 15,
   "metadata": {},
   "outputs": [],
   "source": [
    "target = data['WHRS'] #Series\n",
    "#y = target # y "
   ]
  },
  {
   "cell_type": "markdown",
   "metadata": {},
   "source": [
    "## 3. 숙제에 제시된 회귀모형 만들기"
   ]
  },
  {
   "cell_type": "markdown",
   "metadata": {},
   "source": [
    "$$\\forall i = 1,2, \\cdots , 428$$\n",
    "$$WHRS_i = \\beta_1 + \\beta_2KL6_i + \\beta_3K618_i + \\beta_4WA_i + \\beta_5WE_i\n",
    "+ \\beta_6WW_i + \\beta_7WMED_i + \\beta_8WFED_i +\\beta_9AX_i + \\beta_10HHRS_i + \\beta_{11} HA_i\n",
    "+ \\beta_{12} HE_i + \\beta_{13} HW_i + u_i$$"
   ]
  },
  {
   "cell_type": "code",
   "execution_count": 16,
   "metadata": {},
   "outputs": [
    {
     "name": "stderr",
     "output_type": "stream",
     "text": [
      "/anaconda3/lib/python3.6/site-packages/ipykernel_launcher.py:1: FutureWarning: reshape is deprecated and will raise in a subsequent release. Please use .values.reshape(...) instead\n",
      "  \"\"\"Entry point for launching an IPython kernel.\n"
     ]
    }
   ],
   "source": [
    "y = data['WHRS'].reshape(-1,)"
   ]
  },
  {
   "cell_type": "code",
   "execution_count": 17,
   "metadata": {},
   "outputs": [],
   "source": [
    "y = list(y)"
   ]
  },
  {
   "cell_type": "code",
   "execution_count": 18,
   "metadata": {},
   "outputs": [],
   "source": [
    "clf = linear_model.LinearRegression()"
   ]
  },
  {
   "cell_type": "code",
   "execution_count": 19,
   "metadata": {},
   "outputs": [
    {
     "data": {
      "text/plain": [
       "LinearRegression(copy_X=True, fit_intercept=True, n_jobs=1, normalize=False)"
      ]
     },
     "execution_count": 19,
     "metadata": {},
     "output_type": "execute_result"
    }
   ],
   "source": [
    "clf.fit(X,y)"
   ]
  },
  {
   "cell_type": "code",
   "execution_count": 20,
   "metadata": {},
   "outputs": [
    {
     "data": {
      "text/plain": [
       "array([ 0.00000000e+00, -3.20915826e+02, -7.61587201e+01, -1.67975979e+01,\n",
       "        1.70945953e+00, -2.40304731e+01,  3.33657618e+00, -4.46645039e+00,\n",
       "        3.00897581e+01, -1.29891434e-02, -3.43151316e+00, -8.06763260e+00,\n",
       "       -6.94681095e+00])"
      ]
     },
     "execution_count": 20,
     "metadata": {},
     "output_type": "execute_result"
    }
   ],
   "source": [
    "clf.coef_ # Sklearn library 이용"
   ]
  },
  {
   "cell_type": "code",
   "execution_count": 21,
   "metadata": {},
   "outputs": [
    {
     "data": {
      "text/plain": [
       "2184.6894400706806"
      ]
     },
     "execution_count": 21,
     "metadata": {},
     "output_type": "execute_result"
    }
   ],
   "source": [
    "clf.intercept_"
   ]
  },
  {
   "cell_type": "code",
   "execution_count": 22,
   "metadata": {},
   "outputs": [
    {
     "name": "stderr",
     "output_type": "stream",
     "text": [
      "/anaconda3/lib/python3.6/site-packages/ipykernel_launcher.py:1: FutureWarning: convert_objects is deprecated.  To re-infer data dtypes for object columns, use DataFrame.infer_objects()\n",
      "For all other conversions use the data-type specific converters pd.to_datetime, pd.to_timedelta and pd.to_numeric.\n",
      "  \"\"\"Entry point for launching an IPython kernel.\n"
     ]
    }
   ],
   "source": [
    "data = data.convert_objects(convert_numeric=True)\n",
    "y = np.asarray(data['WHRS'])\n",
    "#print(y.shape)\n",
    "X = np.asarray(data[['LFP','KL6','K618','WA','WE','WW','WMED','WFED','AX\\n','HHRS','HA','HE','HW']]) \n",
    "#print(X.shape)\n",
    "X = sm.add_constant(X)\n",
    "model = sm.OLS(y, X).fit()\n",
    "#model.summary()"
   ]
  },
  {
   "cell_type": "code",
   "execution_count": null,
   "metadata": {},
   "outputs": [],
   "source": []
  },
  {
   "cell_type": "markdown",
   "metadata": {},
   "source": [
    "## 1. Compute the least squares estimator beta hat"
   ]
  },
  {
   "cell_type": "code",
   "execution_count": 27,
   "metadata": {},
   "outputs": [
    {
     "data": {
      "text/plain": [
       "array([ 2.18468944e+03, -3.20915826e+02, -7.61587201e+01, -1.67975979e+01,\n",
       "        1.70945953e+00, -2.40304731e+01,  3.33657618e+00, -4.46645039e+00,\n",
       "        3.00897581e+01, -1.29891434e-02, -3.43151316e+00, -8.06763260e+00,\n",
       "       -6.94681095e+00])"
      ]
     },
     "execution_count": 27,
     "metadata": {},
     "output_type": "execute_result"
    }
   ],
   "source": [
    "model.params"
   ]
  },
  {
   "cell_type": "code",
   "execution_count": 28,
   "metadata": {
    "scrolled": true
   },
   "outputs": [
    {
     "data": {
      "text/html": [
       "<table class=\"simpletable\">\n",
       "<caption>OLS Regression Results</caption>\n",
       "<tr>\n",
       "  <th>Dep. Variable:</th>            <td>y</td>        <th>  R-squared:         </th> <td>   0.150</td>\n",
       "</tr>\n",
       "<tr>\n",
       "  <th>Model:</th>                   <td>OLS</td>       <th>  Adj. R-squared:    </th> <td>   0.125</td>\n",
       "</tr>\n",
       "<tr>\n",
       "  <th>Method:</th>             <td>Least Squares</td>  <th>  F-statistic:       </th> <td>   6.086</td>\n",
       "</tr>\n",
       "<tr>\n",
       "  <th>Date:</th>             <td>Mon, 22 Oct 2018</td> <th>  Prob (F-statistic):</th> <td>7.35e-10</td>\n",
       "</tr>\n",
       "<tr>\n",
       "  <th>Time:</th>                 <td>17:49:20</td>     <th>  Log-Likelihood:    </th> <td> -3420.2</td>\n",
       "</tr>\n",
       "<tr>\n",
       "  <th>No. Observations:</th>      <td>   428</td>      <th>  AIC:               </th> <td>   6866.</td>\n",
       "</tr>\n",
       "<tr>\n",
       "  <th>Df Residuals:</th>          <td>   415</td>      <th>  BIC:               </th> <td>   6919.</td>\n",
       "</tr>\n",
       "<tr>\n",
       "  <th>Df Model:</th>              <td>    12</td>      <th>                     </th>     <td> </td>   \n",
       "</tr>\n",
       "<tr>\n",
       "  <th>Covariance Type:</th>      <td>nonrobust</td>    <th>                     </th>     <td> </td>   \n",
       "</tr>\n",
       "</table>\n",
       "<table class=\"simpletable\">\n",
       "<tr>\n",
       "    <td></td>       <th>coef</th>     <th>std err</th>      <th>t</th>      <th>P>|t|</th>  <th>[0.025</th>    <th>0.975]</th>  \n",
       "</tr>\n",
       "<tr>\n",
       "  <th>const</th> <td> 2184.6894</td> <td>  373.914</td> <td>    5.843</td> <td> 0.000</td> <td> 1449.688</td> <td> 2919.691</td>\n",
       "</tr>\n",
       "<tr>\n",
       "  <th>x1</th>    <td> -320.9158</td> <td>   97.621</td> <td>   -3.287</td> <td> 0.001</td> <td> -512.809</td> <td> -129.022</td>\n",
       "</tr>\n",
       "<tr>\n",
       "  <th>x2</th>    <td>  -76.1587</td> <td>   30.515</td> <td>   -2.496</td> <td> 0.013</td> <td> -136.142</td> <td>  -16.175</td>\n",
       "</tr>\n",
       "<tr>\n",
       "  <th>x3</th>    <td>  -16.7976</td> <td>   10.826</td> <td>   -1.552</td> <td> 0.122</td> <td>  -38.077</td> <td>    4.482</td>\n",
       "</tr>\n",
       "<tr>\n",
       "  <th>x4</th>    <td>    1.7095</td> <td>   21.599</td> <td>    0.079</td> <td> 0.937</td> <td>  -40.747</td> <td>   44.166</td>\n",
       "</tr>\n",
       "<tr>\n",
       "  <th>x5</th>    <td>  -24.0305</td> <td>   11.497</td> <td>   -2.090</td> <td> 0.037</td> <td>  -46.630</td> <td>   -1.431</td>\n",
       "</tr>\n",
       "<tr>\n",
       "  <th>x6</th>    <td>    3.3366</td> <td>   13.418</td> <td>    0.249</td> <td> 0.804</td> <td>  -23.040</td> <td>   29.713</td>\n",
       "</tr>\n",
       "<tr>\n",
       "  <th>x7</th>    <td>   -4.4665</td> <td>   12.620</td> <td>   -0.354</td> <td> 0.724</td> <td>  -29.274</td> <td>   20.341</td>\n",
       "</tr>\n",
       "<tr>\n",
       "  <th>x8</th>    <td>   30.0898</td> <td>    5.298</td> <td>    5.680</td> <td> 0.000</td> <td>   19.676</td> <td>   40.504</td>\n",
       "</tr>\n",
       "<tr>\n",
       "  <th>x9</th>    <td>   -0.0130</td> <td>    0.067</td> <td>   -0.194</td> <td> 0.846</td> <td>   -0.145</td> <td>    0.119</td>\n",
       "</tr>\n",
       "<tr>\n",
       "  <th>x10</th>   <td>   -3.4315</td> <td>   10.084</td> <td>   -0.340</td> <td> 0.734</td> <td>  -23.253</td> <td>   16.390</td>\n",
       "</tr>\n",
       "<tr>\n",
       "  <th>x11</th>   <td>   -8.0676</td> <td>   15.673</td> <td>   -0.515</td> <td> 0.607</td> <td>  -38.875</td> <td>   22.740</td>\n",
       "</tr>\n",
       "<tr>\n",
       "  <th>x12</th>   <td>   -6.9468</td> <td>   12.091</td> <td>   -0.575</td> <td> 0.566</td> <td>  -30.713</td> <td>   16.820</td>\n",
       "</tr>\n",
       "</table>\n",
       "<table class=\"simpletable\">\n",
       "<tr>\n",
       "  <th>Omnibus:</th>       <td>25.604</td> <th>  Durbin-Watson:     </th> <td>   2.029</td>\n",
       "</tr>\n",
       "<tr>\n",
       "  <th>Prob(Omnibus):</th> <td> 0.000</td> <th>  Jarque-Bera (JB):  </th> <td>  38.000</td>\n",
       "</tr>\n",
       "<tr>\n",
       "  <th>Skew:</th>          <td> 0.448</td> <th>  Prob(JB):          </th> <td>5.60e-09</td>\n",
       "</tr>\n",
       "<tr>\n",
       "  <th>Kurtosis:</th>      <td> 4.152</td> <th>  Cond. No.          </th> <td>2.47e+04</td>\n",
       "</tr>\n",
       "</table>"
      ],
      "text/plain": [
       "<class 'statsmodels.iolib.summary.Summary'>\n",
       "\"\"\"\n",
       "                            OLS Regression Results                            \n",
       "==============================================================================\n",
       "Dep. Variable:                      y   R-squared:                       0.150\n",
       "Model:                            OLS   Adj. R-squared:                  0.125\n",
       "Method:                 Least Squares   F-statistic:                     6.086\n",
       "Date:                Mon, 22 Oct 2018   Prob (F-statistic):           7.35e-10\n",
       "Time:                        17:49:20   Log-Likelihood:                -3420.2\n",
       "No. Observations:                 428   AIC:                             6866.\n",
       "Df Residuals:                     415   BIC:                             6919.\n",
       "Df Model:                          12                                         \n",
       "Covariance Type:            nonrobust                                         \n",
       "==============================================================================\n",
       "                 coef    std err          t      P>|t|      [0.025      0.975]\n",
       "------------------------------------------------------------------------------\n",
       "const       2184.6894    373.914      5.843      0.000    1449.688    2919.691\n",
       "x1          -320.9158     97.621     -3.287      0.001    -512.809    -129.022\n",
       "x2           -76.1587     30.515     -2.496      0.013    -136.142     -16.175\n",
       "x3           -16.7976     10.826     -1.552      0.122     -38.077       4.482\n",
       "x4             1.7095     21.599      0.079      0.937     -40.747      44.166\n",
       "x5           -24.0305     11.497     -2.090      0.037     -46.630      -1.431\n",
       "x6             3.3366     13.418      0.249      0.804     -23.040      29.713\n",
       "x7            -4.4665     12.620     -0.354      0.724     -29.274      20.341\n",
       "x8            30.0898      5.298      5.680      0.000      19.676      40.504\n",
       "x9            -0.0130      0.067     -0.194      0.846      -0.145       0.119\n",
       "x10           -3.4315     10.084     -0.340      0.734     -23.253      16.390\n",
       "x11           -8.0676     15.673     -0.515      0.607     -38.875      22.740\n",
       "x12           -6.9468     12.091     -0.575      0.566     -30.713      16.820\n",
       "==============================================================================\n",
       "Omnibus:                       25.604   Durbin-Watson:                   2.029\n",
       "Prob(Omnibus):                  0.000   Jarque-Bera (JB):               38.000\n",
       "Skew:                           0.448   Prob(JB):                     5.60e-09\n",
       "Kurtosis:                       4.152   Cond. No.                     2.47e+04\n",
       "==============================================================================\n",
       "\n",
       "Warnings:\n",
       "[1] Standard Errors assume that the covariance matrix of the errors is correctly specified.\n",
       "[2] The condition number is large, 2.47e+04. This might indicate that there are\n",
       "strong multicollinearity or other numerical problems.\n",
       "\"\"\""
      ]
     },
     "execution_count": 28,
     "metadata": {},
     "output_type": "execute_result"
    }
   ],
   "source": [
    "model.summary() #statsmodel libarary"
   ]
  },
  {
   "cell_type": "markdown",
   "metadata": {},
   "source": [
    "## 2. Estimate the variance-covariance matrix of beta hat, and var(beta hat)"
   ]
  },
  {
   "cell_type": "code",
   "execution_count": 29,
   "metadata": {},
   "outputs": [
    {
     "data": {
      "text/plain": [
       "(13, 13)"
      ]
     },
     "execution_count": 29,
     "metadata": {},
     "output_type": "execute_result"
    }
   ],
   "source": [
    "cov_mat = model.cov_params()\n",
    "cov_mat.shape"
   ]
  },
  {
   "cell_type": "code",
   "execution_count": 30,
   "metadata": {},
   "outputs": [
    {
     "data": {
      "text/plain": [
       "array([[ 1.39811609e+05, -8.73850140e+03, -4.09287291e+03,\n",
       "        -6.19405665e+02, -2.31059022e+03,  2.11129499e+02,\n",
       "        -9.85432109e+02,  1.16760347e+02, -5.77774484e+01,\n",
       "        -8.86385779e+00, -9.28513444e+02, -3.91544923e+02,\n",
       "        -3.07855563e+02],\n",
       "       [-8.73850140e+03,  9.52988147e+03,  1.07203366e+02,\n",
       "         5.25582848e+01, -2.15277061e+02, -7.84700238e+00,\n",
       "         9.09420023e+01, -1.35529013e+01,  2.97466242e+01,\n",
       "         6.79628426e-01,  1.18432890e+02, -6.20980741e+01,\n",
       "         9.13746979e+01],\n",
       "       [-4.09287291e+03,  1.07203366e+02,  9.31179161e+02,\n",
       "         4.26567896e+01,  4.37460053e+01,  8.72791982e+00,\n",
       "        -1.31504301e+01,  3.24374622e+01,  3.80168698e+01,\n",
       "        -1.81290708e-01,  3.71780653e+00,  1.18252457e+01,\n",
       "        -1.83290882e+01],\n",
       "       [-6.19405665e+02,  5.25582848e+01,  4.26567896e+01,\n",
       "         1.17193602e+02,  3.52835283e+00,  2.42522290e+00,\n",
       "         6.97003971e+00,  7.04616492e+00, -1.39709156e+01,\n",
       "        -2.10174160e-02, -9.19178112e+01, -1.12593579e+01,\n",
       "        -1.07036269e+01],\n",
       "       [-2.31059022e+03, -2.15277061e+02,  4.37460053e+01,\n",
       "         3.52835283e+00,  4.66506302e+02, -7.19756848e+01,\n",
       "        -5.72449690e+01, -4.10789785e+01, -6.31641222e+00,\n",
       "        -1.00143957e-01, -4.98125316e+00, -1.48526176e+02,\n",
       "        -2.15460066e+01],\n",
       "       [ 2.11129499e+02, -7.84700238e+00,  8.72791982e+00,\n",
       "         2.42522290e+00, -7.19756848e+01,  1.32181184e+02,\n",
       "         1.01132350e+01, -7.61768281e-01, -3.65048650e+00,\n",
       "        -1.34156517e-03, -9.41371717e-01,  1.40420944e+01,\n",
       "        -1.91799413e+01],\n",
       "       [-9.85432109e+02,  9.09420023e+01, -1.31504301e+01,\n",
       "         6.97003971e+00, -5.72449690e+01,  1.01132350e+01,\n",
       "         1.80055850e+02, -7.82552880e+01, -2.70023987e+00,\n",
       "         9.58689446e-03,  8.06908328e+00, -8.63313565e-03,\n",
       "         3.34228044e+00],\n",
       "       [ 1.16760347e+02, -1.35529013e+01,  3.24374622e+01,\n",
       "         7.04616492e+00, -4.10789785e+01, -7.61768281e-01,\n",
       "        -7.82552880e+01,  1.59272579e+02,  6.82429328e+00,\n",
       "        -6.17592773e-03, -1.00458749e+01, -1.89096132e+01,\n",
       "        -9.18939687e-01],\n",
       "       [-5.77774484e+01,  2.97466242e+01,  3.80168698e+01,\n",
       "        -1.39709156e+01, -6.31641222e+00, -3.65048650e+00,\n",
       "        -2.70023987e+00,  6.82429328e+00,  2.80664820e+01,\n",
       "         2.93463740e-02,  2.92211498e+00, -1.40653724e-01,\n",
       "         1.22030117e+01],\n",
       "       [-8.86385779e+00,  6.79628426e-01, -1.81290708e-01,\n",
       "        -2.10174160e-02, -1.00143957e-01, -1.34156517e-03,\n",
       "         9.58689446e-03, -6.17592773e-03,  2.93463740e-02,\n",
       "         4.49077612e-03,  2.93217213e-02, -2.24731976e-01,\n",
       "         3.10932918e-01],\n",
       "       [-9.28513444e+02,  1.18432890e+02,  3.71780653e+00,\n",
       "        -9.19178112e+01, -4.98125316e+00, -9.41371717e-01,\n",
       "         8.06908328e+00, -1.00458749e+01,  2.92211498e+00,\n",
       "         2.93217213e-02,  1.01682210e+02,  1.62183596e+01,\n",
       "         1.65982261e-01],\n",
       "       [-3.91544923e+02, -6.20980741e+01,  1.18252457e+01,\n",
       "        -1.12593579e+01, -1.48526176e+02,  1.40420944e+01,\n",
       "        -8.63313565e-03, -1.89096132e+01, -1.40653724e-01,\n",
       "        -2.24731976e-01,  1.62183596e+01,  2.45627537e+02,\n",
       "        -6.49311623e+01],\n",
       "       [-3.07855563e+02,  9.13746979e+01, -1.83290882e+01,\n",
       "        -1.07036269e+01, -2.15460066e+01, -1.91799413e+01,\n",
       "         3.34228044e+00, -9.18939687e-01,  1.22030117e+01,\n",
       "         3.10932918e-01,  1.65982261e-01, -6.49311623e+01,\n",
       "         1.46182027e+02]])"
      ]
     },
     "execution_count": 30,
     "metadata": {},
     "output_type": "execute_result"
    }
   ],
   "source": [
    "cov_mat"
   ]
  },
  {
   "cell_type": "markdown",
   "metadata": {},
   "source": [
    "## Compute the standard error of beta hat"
   ]
  },
  {
   "cell_type": "code",
   "execution_count": 31,
   "metadata": {},
   "outputs": [
    {
     "data": {
      "text/plain": [
       "array([3.73913906e+02, 9.76211118e+01, 3.05152283e+01, 1.08255994e+01,\n",
       "       2.15987570e+01, 1.14970076e+01, 1.34184891e+01, 1.26203241e+01,\n",
       "       5.29778086e+00, 6.70132533e-02, 1.00837597e+01, 1.56725090e+01,\n",
       "       1.20905760e+01])"
      ]
     },
     "execution_count": 31,
     "metadata": {},
     "output_type": "execute_result"
    }
   ],
   "source": [
    "model.bse"
   ]
  },
  {
   "cell_type": "markdown",
   "metadata": {},
   "source": [
    "## 4.Compute the t-values for $$ H_0 : \\beta_j = 0,  (\\forall j= 1,2, ...,13).$$"
   ]
  },
  {
   "cell_type": "code",
   "execution_count": 32,
   "metadata": {},
   "outputs": [
    {
     "data": {
      "text/plain": [
       "array([ 5.84276061, -3.2873609 , -2.49576111, -1.55165522,  0.0791462 ,\n",
       "       -2.09015023,  0.24865513, -0.35390933,  5.67969097, -0.19382947,\n",
       "       -0.34030097, -0.51476331, -0.5745641 ])"
      ]
     },
     "execution_count": 32,
     "metadata": {},
     "output_type": "execute_result"
    }
   ],
   "source": [
    "model.tvalues"
   ]
  },
  {
   "cell_type": "code",
   "execution_count": 33,
   "metadata": {},
   "outputs": [
    {
     "data": {
      "text/plain": [
       "array([1.03890260e-08, 1.09737321e-03, 1.29560143e-02, 1.21506983e-01,\n",
       "       9.36954486e-01, 3.72123888e-02, 8.03750563e-01, 7.23586571e-01,\n",
       "       2.54156773e-08, 8.46404248e-01, 7.33802074e-01, 6.06992470e-01,\n",
       "       5.65897452e-01])"
      ]
     },
     "execution_count": 33,
     "metadata": {},
     "output_type": "execute_result"
    }
   ],
   "source": [
    "model.pvalues"
   ]
  },
  {
   "cell_type": "code",
   "execution_count": null,
   "metadata": {},
   "outputs": [],
   "source": []
  }
 ],
 "metadata": {
  "kernelspec": {
   "display_name": "Python 3",
   "language": "python",
   "name": "python3"
  },
  "language_info": {
   "codemirror_mode": {
    "name": "ipython",
    "version": 3
   },
   "file_extension": ".py",
   "mimetype": "text/x-python",
   "name": "python",
   "nbconvert_exporter": "python",
   "pygments_lexer": "ipython3",
   "version": "3.6.4"
  }
 },
 "nbformat": 4,
 "nbformat_minor": 2
}
