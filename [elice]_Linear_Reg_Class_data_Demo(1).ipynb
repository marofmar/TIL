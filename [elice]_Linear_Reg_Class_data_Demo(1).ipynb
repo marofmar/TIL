{
 "cells": [
  {
   "cell_type": "code",
   "execution_count": 2,
   "metadata": {
    "collapsed": true
   },
   "outputs": [],
   "source": [
    "def read_data(col_name):\n",
    "    student_data = []\n",
    "    \n",
    "    with open('students.rtf') as fp:\n",
    "        columns = fp.readline().strip().split(' ')\n",
    "        for line in fp:\n",
    "            line_data = line.strip().split(' ')\n",
    "            line_data_numeric = [float(x) for x in line_data]\n",
    "            student_data.append(line_data_numeric)\n",
    "    student_data = np.array(student_data)\n",
    "    col_index = columns.index(col_name)\n",
    "    \n",
    "    X = student_data[:,col_index]\n",
    "    Y = student_data[:,-1]\n",
    "    return (X,Y)\n"
   ]
  },
  {
   "cell_type": "code",
   "execution_count": 5,
   "metadata": {
    "collapsed": false
   },
   "outputs": [
    {
     "data": {
      "text/plain": [
       "'\\n    sleep_time \\n    study_time \\n    stress_level \\n    exercise_activity \\n    social_activity  \\n    GPA\\n'"
      ]
     },
     "execution_count": 5,
     "metadata": {},
     "output_type": "execute_result"
    }
   ],
   "source": [
    "'''\n",
    "    sleep_time \n",
    "    study_time \n",
    "    stress_level \n",
    "    exercise_activity \n",
    "    social_activity  \n",
    "    GPA\n",
    "'''"
   ]
  },
  {
   "cell_type": "code",
   "execution_count": null,
   "metadata": {
    "collapsed": true
   },
   "outputs": [],
   "source": []
  }
 ],
 "metadata": {
  "kernelspec": {
   "display_name": "Python 3",
   "language": "python",
   "name": "python3"
  },
  "language_info": {
   "codemirror_mode": {
    "name": "ipython",
    "version": 3
   },
   "file_extension": ".py",
   "mimetype": "text/x-python",
   "name": "python",
   "nbconvert_exporter": "python",
   "pygments_lexer": "ipython3",
   "version": "3.6.0"
  }
 },
 "nbformat": 4,
 "nbformat_minor": 2
}
