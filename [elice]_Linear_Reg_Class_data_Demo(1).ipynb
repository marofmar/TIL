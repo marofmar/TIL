{
 "cells": [
  {
   "cell_type": "code",
   "execution_count": 2,
   "metadata": {
    "collapsed": true
   },
   "outputs": [],
   "source": [
    "def read_data(col_name):\n",
    "    student_data = []\n",
    "    \n",
    "    with open('students.rtf') as fp:\n",
    "        columns = fp.readline().strip().split(' ')\n",
    "        for line in fp:\n",
    "            line_data = line.strip().split(' ')\n",
    "            line_data_numeric = [float(x) for x in line_data]\n",
    "            student_data.append(line_data_numeric)\n",
    "    student_data = np.array(student_data)\n",
    "    col_index = columns.index(col_name)\n",
    "    \n",
    "    X = student_data[:,col_index]\n",
    "    Y = student_data[:,-1]\n",
    "    return (X,Y)\n"
   ]
  },
  {
   "cell_type": "code",
   "execution_count": 5,
   "metadata": {
    "collapsed": false
   },
   "outputs": [
    {
     "data": {
      "text/plain": [
       "'\\n    sleep_time \\n    study_time \\n    stress_level \\n    exercise_activity \\n    social_activity  \\n    GPA\\n'"
      ]
     },
     "execution_count": 5,
     "metadata": {},
     "output_type": "execute_result"
    }
   ],
   "source": [
    "'''\n",
    "    sleep_time \n",
    "    study_time \n",
    "    stress_level \n",
    "    exercise_activity \n",
    "    social_activity  \n",
    "    GPA\n",
    "'''"
   ]
  },
  {
   "cell_type": "code",
   "execution_count": 1,
   "metadata": {
    "collapsed": true
   },
   "outputs": [],
   "source": [
    "from scipy.stats import linregress\n",
    "import numpy as np\n",
    "import matplotlib\n",
    "matplotlib.use('Agg')\n",
    "import matplotlib.pyplot as plt"
   ]
  },
  {
   "cell_type": "code",
   "execution_count": 3,
   "metadata": {
    "collapsed": false
   },
   "outputs": [
    {
     "ename": "NameError",
     "evalue": "name 'line_Data_numeric' is not defined",
     "output_type": "error",
     "traceback": [
      "\u001b[0;31m---------------------------------------------------------------------------\u001b[0m",
      "\u001b[0;31mNameError\u001b[0m                                 Traceback (most recent call last)",
      "\u001b[0;32m<ipython-input-3-70a944f33770>\u001b[0m in \u001b[0;36m<module>\u001b[0;34m()\u001b[0m\n\u001b[1;32m     62\u001b[0m \u001b[0;34m\u001b[0m\u001b[0m\n\u001b[1;32m     63\u001b[0m \u001b[0;32mif\u001b[0m \u001b[0m__name__\u001b[0m \u001b[0;34m==\u001b[0m \u001b[0;34m\"__main__\"\u001b[0m\u001b[0;34m:\u001b[0m\u001b[0;34m\u001b[0m\u001b[0m\n\u001b[0;32m---> 64\u001b[0;31m     \u001b[0mmain\u001b[0m\u001b[0;34m(\u001b[0m\u001b[0;34m)\u001b[0m\u001b[0;34m\u001b[0m\u001b[0m\n\u001b[0m",
      "\u001b[0;32m<ipython-input-3-70a944f33770>\u001b[0m in \u001b[0;36mmain\u001b[0;34m()\u001b[0m\n\u001b[1;32m      7\u001b[0m     \u001b[0mx_col\u001b[0m \u001b[0;34m=\u001b[0m \u001b[0;34m'sleep_time'\u001b[0m\u001b[0;34m\u001b[0m\u001b[0m\n\u001b[1;32m      8\u001b[0m \u001b[0;34m\u001b[0m\u001b[0m\n\u001b[0;32m----> 9\u001b[0;31m     \u001b[0;34m(\u001b[0m\u001b[0mX\u001b[0m\u001b[0;34m,\u001b[0m\u001b[0mY\u001b[0m\u001b[0;34m)\u001b[0m \u001b[0;34m=\u001b[0m \u001b[0mread_data\u001b[0m\u001b[0;34m(\u001b[0m\u001b[0mx_col\u001b[0m\u001b[0;34m)\u001b[0m\u001b[0;34m\u001b[0m\u001b[0m\n\u001b[0m\u001b[1;32m     10\u001b[0m     \u001b[0;34m(\u001b[0m\u001b[0mslope\u001b[0m\u001b[0;34m,\u001b[0m \u001b[0mintercept\u001b[0m\u001b[0;34m)\u001b[0m \u001b[0;34m=\u001b[0m \u001b[0mdo_linear_regression\u001b[0m\u001b[0;34m(\u001b[0m\u001b[0mX\u001b[0m\u001b[0;34m,\u001b[0m\u001b[0mY\u001b[0m\u001b[0;34m)\u001b[0m\u001b[0;34m\u001b[0m\u001b[0m\n\u001b[1;32m     11\u001b[0m \u001b[0;34m\u001b[0m\u001b[0m\n",
      "\u001b[0;32m<ipython-input-3-70a944f33770>\u001b[0m in \u001b[0;36mread_data\u001b[0;34m(col_name)\u001b[0m\n\u001b[1;32m     20\u001b[0m             \u001b[0mline_data\u001b[0m \u001b[0;34m=\u001b[0m \u001b[0mline\u001b[0m\u001b[0;34m.\u001b[0m\u001b[0mstrip\u001b[0m\u001b[0;34m(\u001b[0m\u001b[0;34m)\u001b[0m\u001b[0;34m.\u001b[0m\u001b[0msplit\u001b[0m\u001b[0;34m(\u001b[0m\u001b[0;34m' '\u001b[0m\u001b[0;34m)\u001b[0m\u001b[0;34m\u001b[0m\u001b[0m\n\u001b[1;32m     21\u001b[0m             \u001b[0mline_data_numeric\u001b[0m \u001b[0;34m=\u001b[0m \u001b[0;34m[\u001b[0m\u001b[0mfloat\u001b[0m\u001b[0;34m(\u001b[0m\u001b[0mx\u001b[0m\u001b[0;34m)\u001b[0m \u001b[0;32mfor\u001b[0m \u001b[0mx\u001b[0m \u001b[0;32min\u001b[0m \u001b[0mline_data\u001b[0m\u001b[0;34m]\u001b[0m\u001b[0;34m\u001b[0m\u001b[0m\n\u001b[0;32m---> 22\u001b[0;31m             \u001b[0mstudent_data\u001b[0m\u001b[0;34m.\u001b[0m\u001b[0mappend\u001b[0m\u001b[0;34m(\u001b[0m\u001b[0mline_Data_numeric\u001b[0m\u001b[0;34m)\u001b[0m\u001b[0;34m\u001b[0m\u001b[0m\n\u001b[0m\u001b[1;32m     23\u001b[0m \u001b[0;34m\u001b[0m\u001b[0m\n\u001b[1;32m     24\u001b[0m     \u001b[0mstudent_data\u001b[0m \u001b[0;34m=\u001b[0m \u001b[0mnp\u001b[0m\u001b[0;34m.\u001b[0m\u001b[0marray\u001b[0m\u001b[0;34m(\u001b[0m\u001b[0mstudent_data\u001b[0m\u001b[0;34m)\u001b[0m\u001b[0;34m\u001b[0m\u001b[0m\n",
      "\u001b[0;31mNameError\u001b[0m: name 'line_Data_numeric' is not defined"
     ]
    }
   ],
   "source": [
    "def main():\n",
    "    \n",
    "    # Choose-able parameters: \n",
    "    # sleep_time, study_time, stress_level, exercise_activity\n",
    "    #social_activity\n",
    "    \n",
    "    x_col = 'sleep_time'\n",
    "    \n",
    "    (X,Y) = read_data(x_col)\n",
    "    (slope, intercept) = do_linear_regression(X,Y)\n",
    "    \n",
    "    draw_chart(X, Y, slope, intercept, x_col)\n",
    "\n",
    "def read_data(col_name):\n",
    "    student_data = []\n",
    "    \n",
    "    with open('student.txt') as fp:\n",
    "        columns = fp.readline().strip().split(' ')\n",
    "        for line in fp:\n",
    "            line_data = line.strip().split(' ')\n",
    "            line_data_numeric = [float(x) for x in line_data]\n",
    "            student_data.append(line_Data_numeric)\n",
    "            \n",
    "    student_data = np.array(student_data)\n",
    "    col_index = columns.index(col_name)\n",
    "    \n",
    "    # X must be numpy.array in (30 * 5) shape\n",
    "    # Y must be 1-dimensional numpy.array\n",
    "    \n",
    "    X = student_data[:, col_index]\n",
    "    Y = student_data[:,-1]\n",
    "    \n",
    "    return(X, Y)\n",
    "\n",
    "\n",
    "def do_linear_regression(X,Y):\n",
    "    slope, intercept, r_value, p_value, std_err = linregress(X,Y)\n",
    "    return (slope, intercept)\n",
    "                                                    \n",
    "def draw_chart(X, Y, slope, intercept, x_col):\n",
    "    fig = plt.figure()\n",
    "    fig.suptitle(\"Linear Reg. for Class Data\")\n",
    "    ax = fig.add_subplot(111)\n",
    "    ax.set_xlabel(x_col)\n",
    "    ax.set_ylabel('GPA')\n",
    "    \n",
    "    plt.scatter(X,Y)\n",
    "    \n",
    "    min_X = min(X)\n",
    "    max_X = max(X)\n",
    "    min_Y = min_X * slope + intercept\n",
    "    max_Y = max_X * slope + intercept\n",
    "    \n",
    "    plt.plot([min_X, max_X], [min_Y, max_Y], color = 'red', linestyle = '-', \n",
    "            linewidth = 3.0)\n",
    "              \n",
    "    \n",
    "    ax.text(min_X, min_Y + 0.1, r'$y = %.2lfx + %.2lf$' % (slope, intercept), fontsize=15)\n",
    "    \n",
    "    plt.savefig('chart.svg')\n",
    "    elice_utils.send_image('chart.svg')\n",
    "\n",
    "if __name__ == \"__main__\":\n",
    "    main()"
   ]
  },
  {
   "cell_type": "code",
   "execution_count": 4,
   "metadata": {
    "collapsed": true
   },
   "outputs": [],
   "source": [
    "# Typed by my hands, and not working, seems like I made a few typos"
   ]
  },
  {
   "cell_type": "code",
   "execution_count": null,
   "metadata": {
    "collapsed": true
   },
   "outputs": [],
   "source": []
  }
 ],
 "metadata": {
  "kernelspec": {
   "display_name": "Python 3",
   "language": "python",
   "name": "python3"
  },
  "language_info": {
   "codemirror_mode": {
    "name": "ipython",
    "version": 3
   },
   "file_extension": ".py",
   "mimetype": "text/x-python",
   "name": "python",
   "nbconvert_exporter": "python",
   "pygments_lexer": "ipython3",
   "version": "3.6.0"
  }
 },
 "nbformat": 4,
 "nbformat_minor": 2
}
