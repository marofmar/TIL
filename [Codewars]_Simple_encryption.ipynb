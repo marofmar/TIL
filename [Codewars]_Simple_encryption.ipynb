{
 "cells": [
  {
   "cell_type": "code",
   "execution_count": 1,
   "metadata": {
    "collapsed": true
   },
   "outputs": [],
   "source": [
    "# \"This is a test!\", 1 -> \"hsi  etTi sats!\"\n",
    "# \"This is a test!\", 2 -> \"hsi  etTi sats!\" -> \"s eT ashi tist!\""
   ]
  },
  {
   "cell_type": "code",
   "execution_count": 4,
   "metadata": {},
   "outputs": [
    {
     "name": "stdout",
     "output_type": "stream",
     "text": [
      "['H', 'e', 'l', 'l', 'o', ' ', 'S', 't', 'r', 'n', 'a', 'g', 'e', 'r']\n"
     ]
    }
   ],
   "source": [
    "def encrypt(text, n):\n",
    "    a = list(text)\n",
    "    \n",
    "    return a\n",
    "    \n",
    "    \n",
    "    \n",
    "text = \"Hello Strnager\"\n",
    "n = 1\n",
    "print(encrypt(text, n))"
   ]
  },
  {
   "cell_type": "code",
   "execution_count": 29,
   "metadata": {},
   "outputs": [
    {
     "name": "stdout",
     "output_type": "stream",
     "text": [
      "el tagr\n"
     ]
    }
   ],
   "source": [
    "def encrypt(text, n):\n",
    "    a = list(text)\n",
    "    b = []\n",
    "    count = 1\n",
    "    for i in range(len(a)):\n",
    "        if count %2 ==0:\n",
    "            b.append(a[i])\n",
    "            count +=1\n",
    "        else:\n",
    "            count +=1\n",
    "    c = ''.join(b)\n",
    "    return c\n",
    "    \n",
    "    \n",
    "    \n",
    "text = \"Hello Stranger\"\n",
    "n = 1\n",
    "print(encrypt(text,1))"
   ]
  },
  {
   "cell_type": "code",
   "execution_count": 30,
   "metadata": {},
   "outputs": [
    {
     "name": "stdout",
     "output_type": "stream",
     "text": [
      "el tagr\n"
     ]
    }
   ],
   "source": [
    "def encrypt(text, n):\n",
    "    a = list(text)\n",
    "    b = []\n",
    "    count = 1\n",
    "    for i in range(len(a)):\n",
    "        if count %2 ==0:\n",
    "            b.append(a[i])\n",
    "            count +=1\n",
    "        else:\n",
    "            count +=1\n",
    "    c = ''.join(b)\n",
    "    return c\n",
    "    \n",
    "    \n",
    "    \n",
    "text = \"Hello Stranger\"\n",
    "n = 2\n",
    "print(encrypt(text,n))"
   ]
  },
  {
   "cell_type": "code",
   "execution_count": null,
   "metadata": {
    "collapsed": true
   },
   "outputs": [],
   "source": []
  }
 ],
 "metadata": {
  "kernelspec": {
   "display_name": "Python 3",
   "language": "python",
   "name": "python3"
  },
  "language_info": {
   "codemirror_mode": {
    "name": "ipython",
    "version": 3
   },
   "file_extension": ".py",
   "mimetype": "text/x-python",
   "name": "python",
   "nbconvert_exporter": "python",
   "pygments_lexer": "ipython3",
   "version": "3.6.1"
  }
 },
 "nbformat": 4,
 "nbformat_minor": 2
}
