{
 "cells": [
  {
   "cell_type": "code",
   "execution_count": 1,
   "metadata": {
    "collapsed": true
   },
   "outputs": [],
   "source": [
    "# Categorize a member based on two diff. traits\n",
    "# Age, and the level of handicap\n",
    "# Age >= 55 and handicap > 7 senior league"
   ]
  },
  {
   "cell_type": "code",
   "execution_count": 10,
   "metadata": {
    "collapsed": false
   },
   "outputs": [
    {
     "name": "stdout",
     "output_type": "stream",
     "text": [
      "['Open', 'Open', 'Senior', 'Open', 'Open', 'Senior']\n"
     ]
    }
   ],
   "source": [
    "def openOrSenior(data):\n",
    "    \n",
    "    result = []\n",
    "    for i in data:\n",
    "        if i[0] < 55:\n",
    "            result.append(\"Open\")\n",
    "            \n",
    "        else:\n",
    "            i[1] > 7\n",
    "            result.append(\"Senior\")\n",
    "    \n",
    "    return result\n",
    "    \n",
    "d = [[18, 20],[45, 2],[61, 12],[37, 6],[21, 21],[78, 9]]\n",
    "\n",
    "print (openOrSenior(d))\n",
    "    "
   ]
  },
  {
   "cell_type": "code",
   "execution_count": 12,
   "metadata": {
    "collapsed": false
   },
   "outputs": [
    {
     "name": "stdout",
     "output_type": "stream",
     "text": [
      "['Open', 'Open', 'Senior', 'Open', 'Open', 'Senior']\n"
     ]
    }
   ],
   "source": [
    "# Let's focus on detecting Senior.\n",
    "def openOrSenior(data):\n",
    "   \n",
    "    result = []\n",
    "    for i in data:\n",
    "        if i[0] >= 55 and i[1] > 7:\n",
    "            result.append(\"Senior\")\n",
    "            \n",
    "        else:\n",
    "            result.append(\"Open\")\n",
    "    \n",
    "    return result\n",
    "    \n",
    "d = [[18, 20],[45, 2],[61, 12],[37, 6],[21, 21],[78, 9]]\n",
    "\n",
    "print (openOrSenior(d))"
   ]
  },
  {
   "cell_type": "code",
   "execution_count": 14,
   "metadata": {
    "collapsed": false
   },
   "outputs": [],
   "source": [
    "# Let's see others'\n",
    "\n",
    "def openOrSenior(members):\n",
    "    return [\"Senior\" if m[0] > 54 and m[1] > 7 else \"Open\" for m in members]"
   ]
  },
  {
   "cell_type": "code",
   "execution_count": 15,
   "metadata": {
    "collapsed": true
   },
   "outputs": [],
   "source": [
    "def openOrSenior(members):\n",
    "    return [\"Senior\" if age > 54 and handicap > 7 else \"Open\" for (age,handicap) in members]"
   ]
  },
  {
   "cell_type": "code",
   "execution_count": null,
   "metadata": {
    "collapsed": true
   },
   "outputs": [],
   "source": []
  }
 ],
 "metadata": {
  "kernelspec": {
   "display_name": "Python 3",
   "language": "python",
   "name": "python3"
  },
  "language_info": {
   "codemirror_mode": {
    "name": "ipython",
    "version": 3
   },
   "file_extension": ".py",
   "mimetype": "text/x-python",
   "name": "python",
   "nbconvert_exporter": "python",
   "pygments_lexer": "ipython3",
   "version": "3.6.0"
  }
 },
 "nbformat": 4,
 "nbformat_minor": 2
}
