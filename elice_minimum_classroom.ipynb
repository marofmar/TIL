{
 "cells": [
  {
   "cell_type": "code",
   "execution_count": 2,
   "metadata": {
    "collapsed": false
   },
   "outputs": [
    {
     "name": "stdout",
     "output_type": "stream",
     "text": [
      "3\n",
      "1 3 5 \n",
      "2 5 8 \n",
      "3 7 11\n",
      "2\n"
     ]
    }
   ],
   "source": [
    "def find_min_room(num_class, classes):\n",
    "    \n",
    "    \n",
    "    superduperelice = [0] * 100000\n",
    "    \n",
    "    \n",
    "    for cl in classes: #((1,3,5,),(2,2,7),(3,6,9))\n",
    "        s = cl[1] # (1 2 3)\n",
    "        e = cl[2]\n",
    "        for k in range(s,e):\n",
    "            superduperelice[k] += 1\n",
    "    return max(superduperelice)\n",
    "    \n",
    "    \n",
    "\n",
    "def read_inputs():\n",
    "    num_class = int(input())\n",
    "    classes = []\n",
    "    for i in range(num_class):\n",
    "        line = [int(x) for x in input().split()]\n",
    "        class_no = line[0]\n",
    "        start = line[1]\n",
    "        end = line[2]\n",
    "        classes.append((class_no, start, end))\n",
    "\n",
    "    return num_class, classes\n",
    "\n",
    "def main():\n",
    "    num_class, classes = read_inputs()\n",
    "    ans = find_min_room(num_class, classes)\n",
    "    print(ans)\n",
    "\n",
    "if __name__ == \"__main__\":\n",
    "    main()"
   ]
  },
  {
   "cell_type": "markdown",
   "metadata": {},
   "source": [
    "7##### "
   ]
  }
 ],
 "metadata": {
  "kernelspec": {
   "display_name": "Python 3",
   "language": "python",
   "name": "python3"
  },
  "language_info": {
   "codemirror_mode": {
    "name": "ipython",
    "version": 3
   },
   "file_extension": ".py",
   "mimetype": "text/x-python",
   "name": "python",
   "nbconvert_exporter": "python",
   "pygments_lexer": "ipython3",
   "version": "3.6.0"
  }
 },
 "nbformat": 4,
 "nbformat_minor": 2
}
