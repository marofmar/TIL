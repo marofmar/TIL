{
 "cells": [
  {
   "cell_type": "code",
   "execution_count": 6,
   "metadata": {
    "collapsed": false
   },
   "outputs": [
    {
     "ename": "NameError",
     "evalue": "name 'result' is not defined",
     "output_type": "error",
     "traceback": [
      "\u001b[0;31m---------------------------------------------------------------------------\u001b[0m",
      "\u001b[0;31mNameError\u001b[0m                                 Traceback (most recent call last)",
      "\u001b[0;32m<ipython-input-6-4b8f230b0b1d>\u001b[0m in \u001b[0;36m<module>\u001b[0;34m()\u001b[0m\n\u001b[1;32m     35\u001b[0m         \u001b[0mresult\u001b[0m \u001b[0;34m=\u001b[0m \u001b[0mfe\u001b[0m\u001b[0;34m(\u001b[0m\u001b[0mpath\u001b[0m\u001b[0;34m)\u001b[0m\u001b[0;34m\u001b[0m\u001b[0m\n\u001b[1;32m     36\u001b[0m         \u001b[0;32mreturn\u001b[0m \u001b[0;34m' '\u001b[0m\u001b[0;34m.\u001b[0m\u001b[0mjoin\u001b[0m\u001b[0;34m(\u001b[0m\u001b[0mresult\u001b[0m\u001b[0;34m)\u001b[0m\u001b[0;34m\u001b[0m\u001b[0m\n\u001b[0;32m---> 37\u001b[0;31m \u001b[0mprint\u001b[0m\u001b[0;34m(\u001b[0m\u001b[0mresult\u001b[0m\u001b[0;34m)\u001b[0m\u001b[0;34m\u001b[0m\u001b[0m\n\u001b[0m\u001b[1;32m     38\u001b[0m \u001b[0;34m\u001b[0m\u001b[0m\n\u001b[1;32m     39\u001b[0m \u001b[0;34m\u001b[0m\u001b[0m\n",
      "\u001b[0;31mNameError\u001b[0m: name 'result' is not defined"
     ]
    }
   ],
   "source": [
    "def simple_path(nodes):\n",
    "    #여기에 함수를 구현해 주세요.\n",
    "    \n",
    "    que = []\n",
    "    dist = [999] * len(nodes)\n",
    "    path = [0] * len(nodes)\n",
    "    que.append(0)\n",
    "    while len(que):\n",
    "        front_index = que[0]\n",
    "        del que[0]\n",
    "        for i in nodes[front_index]:\n",
    "            if dist[path[i]] + 1 < dist[i]: # 바로전에 지나온 포인트까지의 거리에다가 1을 더한 것이 새로운 포인트 i까지 오는데 거친 거리. 그러니까 과거의 거리값보다 현재 새로 만들 거리값이 작은 경우, que에 추가해 주고 아니면 무시.\n",
    "                que.append(nodes[i])\n",
    "                path[i] = front_index # 패쓰 값도 바뀔 것이고,elice serioulsy, I really wanna hug you hard so that you be suffocated :-) kidding! \n",
    "                dist[i] = dist[path[i]] + 1# 거리 값도 바뀔 것이다. \n",
    "            # front를 한 개 지웠으니, 프론트를 이루는 원소에 해당하는 노드를 que에 추가한다.\n",
    "        # 추가하는 때 연결된것들 넣어주고, 더 짧은 거리로 연결해 주는 것을 넣고, 아닌것 무시하\n",
    "   \n",
    "    def fe(path):\n",
    "        # 거꾸로 패쓰를 돌린다. 맨 마지막에서 시작을하는데 거기서 나온 숫자에 해당하는 노드 위치로 가서 다시 숫자를 읽는다. 그리고 마지막에 0이랑 끝 수 꼭 넣어주기.\n",
    "        # 0에 도달하면 반복을 끝내라~~~~\n",
    "        index = len(path) -1\n",
    "        a = []\n",
    "        while 1 == 1:\n",
    "            if index == 0:\n",
    "                break\n",
    "            a.append(index)\n",
    "            index = path[index]\n",
    "        a.append(0)    \n",
    "            # 인덱스를 기록해야지 \n",
    "        return map(str, a[::-1])\n",
    "\n",
    "\n",
    "\n",
    "        result = fe(path)\n",
    "        return ' '.join(result)\n",
    "print(result)\n",
    "    \n",
    "    "
   ]
  },
  {
   "cell_type": "code",
   "execution_count": 8,
   "metadata": {
    "collapsed": false
   },
   "outputs": [
    {
     "name": "stdout",
     "output_type": "stream",
     "text": [
      "9 10 0 1 0 2 1 3 1 5 2 4 2 6 3 6 3 8 4 7 7 8\n"
     ]
    },
    {
     "ename": "ValueError",
     "evalue": "invalid literal for int() with base 10: '9 10 0 1 0 2 1 3 1 5 2 4 2 6 3 6 3 8 4 7 7 8'",
     "output_type": "error",
     "traceback": [
      "\u001b[0;31m---------------------------------------------------------------------------\u001b[0m",
      "\u001b[0;31mValueError\u001b[0m                                Traceback (most recent call last)",
      "\u001b[0;32m<ipython-input-8-80735742cd4e>\u001b[0m in \u001b[0;36m<module>\u001b[0;34m()\u001b[0m\n\u001b[1;32m     58\u001b[0m \u001b[0;34m\u001b[0m\u001b[0m\n\u001b[1;32m     59\u001b[0m \u001b[0;32mif\u001b[0m \u001b[0m__name__\u001b[0m \u001b[0;34m==\u001b[0m \u001b[0;34m\"__main__\"\u001b[0m\u001b[0;34m:\u001b[0m\u001b[0;34m\u001b[0m\u001b[0m\n\u001b[0;32m---> 60\u001b[0;31m     \u001b[0mmain\u001b[0m\u001b[0;34m(\u001b[0m\u001b[0;34m)\u001b[0m\u001b[0;34m\u001b[0m\u001b[0m\n\u001b[0m",
      "\u001b[0;32m<ipython-input-8-80735742cd4e>\u001b[0m in \u001b[0;36mmain\u001b[0;34m()\u001b[0m\n\u001b[1;32m     47\u001b[0m \u001b[0;34m\u001b[0m\u001b[0m\n\u001b[1;32m     48\u001b[0m \u001b[0;32mdef\u001b[0m \u001b[0mmain\u001b[0m\u001b[0;34m(\u001b[0m\u001b[0;34m)\u001b[0m\u001b[0;34m:\u001b[0m\u001b[0;34m\u001b[0m\u001b[0m\n\u001b[0;32m---> 49\u001b[0;31m     \u001b[0mN\u001b[0m \u001b[0;34m=\u001b[0m \u001b[0mint\u001b[0m\u001b[0;34m(\u001b[0m\u001b[0minput\u001b[0m\u001b[0;34m(\u001b[0m\u001b[0;34m)\u001b[0m\u001b[0;34m)\u001b[0m \u001b[0;31m# 5\u001b[0m\u001b[0;34m\u001b[0m\u001b[0m\n\u001b[0m\u001b[1;32m     50\u001b[0m     \u001b[0mnodes\u001b[0m \u001b[0;34m=\u001b[0m \u001b[0;34m[\u001b[0m\u001b[0;34m[\u001b[0m\u001b[0;34m]\u001b[0m \u001b[0;32mfor\u001b[0m \u001b[0mi\u001b[0m \u001b[0;32min\u001b[0m \u001b[0mrange\u001b[0m\u001b[0;34m(\u001b[0m\u001b[0mN\u001b[0m\u001b[0;34m)\u001b[0m\u001b[0;34m]\u001b[0m \u001b[0;31m# [[0,1],[0,2],[2,3],[3,4]]\u001b[0m\u001b[0;34m\u001b[0m\u001b[0m\n\u001b[1;32m     51\u001b[0m     \u001b[0mM\u001b[0m \u001b[0;34m=\u001b[0m \u001b[0mint\u001b[0m\u001b[0;34m(\u001b[0m\u001b[0minput\u001b[0m\u001b[0;34m(\u001b[0m\u001b[0;34m)\u001b[0m\u001b[0;34m)\u001b[0m \u001b[0;31m# 4\u001b[0m\u001b[0;34m\u001b[0m\u001b[0m\n",
      "\u001b[0;31mValueError\u001b[0m: invalid literal for int() with base 10: '9 10 0 1 0 2 1 3 1 5 2 4 2 6 3 6 3 8 4 7 7 8'"
     ]
    }
   ],
   "source": [
    "\n",
    "## nodes: list of connected nodes of each node\n",
    "## example: [[1,2],[0,2],[0,1]] for a cyclic graph with 3 nodes\n",
    "## return: list of nodes in the shortest path\n",
    "def simple_path(nodes):\n",
    "    #여기에 함수를 구현해 주세요.\n",
    "    \n",
    "    que = []\n",
    "    dist = [999] * len(nodes)\n",
    "    path = [0] * len(nodes)\n",
    "    que.append(0)\n",
    "    dist[0]=0\n",
    "    while len(que):\n",
    "        front_index = que[0]\n",
    "        del que[0]\n",
    "        for i in nodes[front_index]:\n",
    "            if dist[front_index] + 1 < dist[i]: # 바로전에 지나온 포인트까지의 거리에다가 1을 더한 것이 새로운 포인트 i까지 오는데 거친 거리. 그러니까 과거의 거리값보다 현재 새로 만들 거리값이 작은 경우, que에 추가해 주고 아니면 무시.\n",
    "                que.append(i)\n",
    "                path[i] = front_index # 패쓰 값도 바뀔 것이고,elice serioulsy, I really wanna hug you hard so that you be suffocated :-) kidding! \n",
    "                dist[i] = dist[front_index] + 1# 거리 값도 바뀔 것이다.\n",
    "     #흐어어어어어어엉어어엉\n",
    "            # front를 한 개 지웠으니, 프론트를 이루는 원소에 해당하는 노드를 que에 추가한다.\n",
    "        # 추가하는 때 연결된것들 넣어주고, 더 짧은 거리로 연결해 주는 것을 넣고, 아닌것 무시하\n",
    "    result = fe(path)\n",
    "    return ' '.join(result)\n",
    "    \n",
    "def fe(path):\n",
    "    # 거꾸로 패쓰를 돌린다. 맨 마지막에서 시작을하는데 거기서 나온 숫자에 해당하는 노드 위치로 가서 다시 숫자를 읽는다. 그리고 마지막에 0이랑 끝 수 꼭 넣어주기.\n",
    "    # 0에 도달하면 반복을 끝내라~~~~\n",
    "    index = len(path) -1\n",
    "    a = []\n",
    "    while 1 == 1:\n",
    "        if index == 0:\n",
    "            break\n",
    "        a.append(index)\n",
    "        index = path[index]\n",
    "    a.append(0)    \n",
    "        # 인덱스를 기록해야지 \n",
    "    return map(str, a[::-1])\n",
    "    \n",
    "    \n",
    "    \n",
    "        \n",
    "    \n",
    "\n",
    "    \n",
    "\n",
    "def main():\n",
    "    N = int(input()) # 5\n",
    "    nodes = [[] for i in range(N)] # [[0,1],[0,2],[2,3],[3,4]]  \n",
    "    M = int(input()) # 4\n",
    "    for edge in range(M):\n",
    "        x, y = map(int,input().split()) \n",
    "        nodes[x].append(y)\n",
    "        nodes[y].append(x)\n",
    "        # 함수 호출과 출력을 위한 부분입니다. 수정하지 마세요.\n",
    "    print(simple_path(nodes))\n",
    "    \n",
    "if __name__ == \"__main__\":\n",
    "    main()\n"
   ]
  },
  {
   "cell_type": "code",
   "execution_count": null,
   "metadata": {
    "collapsed": true
   },
   "outputs": [],
   "source": []
  }
 ],
 "metadata": {
  "kernelspec": {
   "display_name": "Python 3",
   "language": "python",
   "name": "python3"
  },
  "language_info": {
   "codemirror_mode": {
    "name": "ipython",
    "version": 3
   },
   "file_extension": ".py",
   "mimetype": "text/x-python",
   "name": "python",
   "nbconvert_exporter": "python",
   "pygments_lexer": "ipython3",
   "version": "3.6.0"
  }
 },
 "nbformat": 4,
 "nbformat_minor": 2
}
